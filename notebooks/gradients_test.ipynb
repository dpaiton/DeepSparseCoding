{
 "cells": [
  {
   "cell_type": "code",
   "execution_count": null,
   "metadata": {},
   "outputs": [],
   "source": [
    "import os\n",
    "import sys\n",
    "\n",
    "root_dir = os.path.dirname(os.path.dirname(os.getcwd()))\n",
    "if root_dir not in sys.path: sys.path.append(root_dir)\n",
    "\n",
    "import numpy as np\n",
    "import torch\n",
    "\n",
    "import DeepSparseCoding.utils.loaders as loaders\n",
    "import DeepSparseCoding.utils.run_utils as run_utils\n",
    "import DeepSparseCoding.utils.dataset_utils as dataset_utils"
   ]
  },
  {
   "cell_type": "code",
   "execution_count": null,
   "metadata": {},
   "outputs": [],
   "source": [
    "lca_param_file = os.path.expanduser(\"~\")+\"/Work/DeepSparseCoding/params/lca_mnist_params.py\"\n",
    "#lca_log_file = os.path.expanduser(\"~\")+\"/Work/Torch_projects/lca_768_mnist/logfiles/lca_768_mnist_v0.log\"\n",
    "\n",
    "lca_params = loaders.load_params(lca_param_file)\n",
    "lca_params.train_logs_per_epoch = None\n",
    "lca_params.shuffle_data = False\n",
    "\n",
    "train_loader, val_loader, test_loader, lca_params = dataset_utils.load_dataset(lca_params)\n",
    "\n",
    "lca_model = loaders.load_model(lca_params.model_type, root_dir=lca_params.lib_root_dir)\n",
    "lca_model.setup(lca_params)\n",
    "lca_model.to(lca_params.device)"
   ]
  },
  {
   "cell_type": "code",
   "execution_count": null,
   "metadata": {},
   "outputs": [],
   "source": [
    "ensemble_param_file = os.path.expanduser(\"~\")+\"/Work/DeepSparseCoding/params/lca_mlp_mnist_params.py\"\n",
    "#ensemble_log_file = os.path.expanduser(\"~\")+\"/Work/Torch_projects/lca_768_mlp_mnist/logfiles/lca_768_mlp_mnist_v0.log\"\n",
    "\n",
    "ensemble_params = loaders.load_params(ensemble_param_file)\n",
    "\n",
    "ensemble_params.epoch_size = lca_params.epoch_size\n",
    "ensemble_params.num_val_images = lca_params.num_val_images\n",
    "ensemble_params.num_test_images = lca_params.num_test_images\n",
    "ensemble_params.data_shape = lca_params.data_shape\n",
    "ensemble_params.train_logs_per_epoch = lca_params.train_logs_per_epoch\n",
    "ensemble_params.shuffle_data = lca_params.shuffle_data\n",
    "\n",
    "ensemble_model = loaders.load_model(ensemble_params.model_type, root_dir=ensemble_params.lib_root_dir)\n",
    "ensemble_model.setup(ensemble_params)\n",
    "ensemble_model.to(ensemble_params.device)"
   ]
  },
  {
   "cell_type": "code",
   "execution_count": null,
   "metadata": {},
   "outputs": [],
   "source": [
    "ensemble_state_dict = ensemble_model.state_dict()\n",
    "ensemble_state_dict['lca.w'] = lca_model.w.clone()\n",
    "ensemble_model.load_state_dict(ensemble_state_dict)"
   ]
  },
  {
   "cell_type": "code",
   "execution_count": null,
   "metadata": {
    "scrolled": true
   },
   "outputs": [],
   "source": [
    "data, target = next(iter(train_loader))\n",
    "train_data_batch = lca_model.preprocess_data(data.to(lca_model.params.device))\n",
    "train_target_batch = target.to(lca_model.params.device)"
   ]
  },
  {
   "cell_type": "code",
   "execution_count": null,
   "metadata": {
    "scrolled": true
   },
   "outputs": [],
   "source": [
    "lca_model.optimizer.zero_grad()\n",
    "for submodel in ensemble_model:\n",
    "    submodel.optimizer.zero_grad()\n",
    "    \n",
    "inputs = [train_data_batch] # only the first model acts on input\n",
    "for submodel in ensemble_model:\n",
    "    inputs.append(submodel.get_encodings(inputs[-1]).detach())\n",
    "\n",
    "lca_loss = lca_model.get_total_loss((train_data_batch, train_target_batch))\n",
    "ensemble_losses = [ensemble_model.get_total_loss((inputs[0], train_target_batch), 0)]\n",
    "ensemble_losses.append(ensemble_model.get_total_loss((inputs[1], train_target_batch), 1))\n",
    "\n",
    "lca_loss.backward()\n",
    "ensemble_losses[0].backward()\n",
    "ensemble_losses[1].backward()\n",
    "\n",
    "print(\"lca losses are equal: \", lca_loss.cpu().detach().numpy() == ensemble_losses[0].cpu().detach().numpy())\n",
    "print(\"lca grads are equal: \", np.all(lca_model.w.grad.cpu().numpy() == ensemble_model[0].w.grad.cpu().numpy()))"
   ]
  },
  {
   "cell_type": "code",
   "execution_count": null,
   "metadata": {},
   "outputs": [],
   "source": [
    "lca_pre_train_w = lca_model.w.cpu().detach().numpy().copy()\n",
    "ensemble_pre_train_w = ensemble_model[0].w.cpu().detach().numpy().copy()\n",
    "\n",
    "run_utils.train_epoch(1, lca_model, train_loader)\n",
    "run_utils.train_epoch(1, ensemble_model, train_loader)\n",
    "\n",
    "lca_w = lca_model.w.cpu().detach().numpy().copy()\n",
    "ensemble_w = ensemble_model[0].w.cpu().detach().numpy().copy()\n",
    "\n",
    "print(\"lca & ensemble weights equal before one epoch of training\", np.all(lca_pre_train_w == ensemble_pre_train_w))\n",
    "print(\"lca weights different from init after one epoch of training\", not np.all(lca_pre_train_w == lca_w))\n",
    "print(\"ensemble weights different from init after one epoch of training\", not np.all(ensemble_pre_train_w == ensemble_w))\n",
    "print(\"lca & ensemble weights equal after one epoch of training\", np.all(lca_w == ensemble_w))"
   ]
  },
  {
   "cell_type": "code",
   "execution_count": null,
   "metadata": {},
   "outputs": [],
   "source": []
  }
 ],
 "metadata": {
  "kernelspec": {
   "display_name": "Python 3",
   "language": "python",
   "name": "python3"
  },
  "language_info": {
   "codemirror_mode": {
    "name": "ipython",
    "version": 3
   },
   "file_extension": ".py",
   "mimetype": "text/x-python",
   "name": "python",
   "nbconvert_exporter": "python",
   "pygments_lexer": "ipython3",
   "version": "3.6.7"
  },
  "varInspector": {
   "cols": {
    "lenName": 16,
    "lenType": 16,
    "lenVar": 40
   },
   "kernels_config": {
    "python": {
     "delete_cmd_postfix": "",
     "delete_cmd_prefix": "del ",
     "library": "var_list.py",
     "varRefreshCmd": "print(var_dic_list())"
    },
    "r": {
     "delete_cmd_postfix": ") ",
     "delete_cmd_prefix": "rm(",
     "library": "var_list.r",
     "varRefreshCmd": "cat(var_dic_list()) "
    }
   },
   "types_to_exclude": [
    "module",
    "function",
    "builtin_function_or_method",
    "instance",
    "_Feature"
   ],
   "window_display": false
  }
 },
 "nbformat": 4,
 "nbformat_minor": 2
}
