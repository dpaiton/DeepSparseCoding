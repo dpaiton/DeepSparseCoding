{
 "cells": [
  {
   "cell_type": "code",
   "execution_count": null,
   "metadata": {},
   "outputs": [],
   "source": [
    "import os\n",
    "import sys\n",
    "\n",
    "ROOT_DIR = os.path.dirname(os.path.dirname(os.getcwd()))\n",
    "if ROOT_DIR not in sys.path: sys.path.append(ROOT_DIR)\n",
    "\n",
    "import numpy as np\n",
    "import torch\n",
    "\n",
    "from DeepSparseCoding.utils.file_utils import Logger\n",
    "import DeepSparseCoding.utils.run_utils as run_utils\n",
    "import DeepSparseCoding.utils.dataset_utils as dataset_utils\n",
    "import DeepSparseCoding.utils.loaders as loaders\n",
    "import DeepSparseCoding.utils.plot_functions as pf"
   ]
  },
  {
   "cell_type": "code",
   "execution_count": null,
   "metadata": {},
   "outputs": [],
   "source": [
    "log_files = [\n",
    "    os.path.join(*[ROOT_DIR, 'Torch_projects', 'mlp_768_mnist', 'logfiles', 'mlp_768_mnist_v0.log']),\n",
    "    os.path.join(*[ROOT_DIR, 'Torch_projects', 'lca_768_mlp_mnist', 'logfiles', 'lca_768_mlp_mnist_v0.log'])\n",
    "    ]\n",
    "\n",
    "cp_latest_filenames = [\n",
    "    os.path.join(*[ROOT_DIR,'Torch_projects', 'mlp_768_mnist', 'checkpoints', 'mlp_768_mnist_latest_checkpoint_v0.pt']),\n",
    "    os.path.join(*[ROOT_DIR, 'Torch_projects', 'lca_768_mlp_mnist', 'checkpoints', 'lca_768_mlp_mnist_latest_checkpoint_v0.pt'])\n",
    "]\n",
    "\n",
    "target_index = 1\n",
    "\n",
    "logger = Logger(log_files[target_index], overwrite=False)\n",
    "log_text = logger.load_file()\n",
    "params = logger.read_params(log_text)[-1]"
   ]
  },
  {
   "cell_type": "code",
   "execution_count": null,
   "metadata": {
    "scrolled": false
   },
   "outputs": [],
   "source": [
    "model_stats = logger.read_stats(log_text)\n",
    "x_key = \"epoch\"\n",
    "stats_fig = pf.plot_stats(model_stats, x_key)"
   ]
  },
  {
   "cell_type": "code",
   "execution_count": null,
   "metadata": {},
   "outputs": [],
   "source": [
    "model = loaders.load_model(params.model_type)\n",
    "model.setup(params, logger)\n",
    "model.to(params.device)\n",
    "model.load_checkpoint()"
   ]
  },
  {
   "cell_type": "code",
   "execution_count": null,
   "metadata": {},
   "outputs": [],
   "source": [
    "train_loader, val_loader, test_loader, params = dataset_utils.load_dataset(params)"
   ]
  },
  {
   "cell_type": "code",
   "execution_count": null,
   "metadata": {},
   "outputs": [],
   "source": [
    "test_results = run_utils.test_epoch(0, model, test_loader, log_to_file=False)\n",
    "print(test_results)"
   ]
  },
  {
   "cell_type": "code",
   "execution_count": null,
   "metadata": {},
   "outputs": [],
   "source": [
    "if(model.params.model_type == \"ensemble\"):\n",
    "    weights = list(model.lca.parameters())[0].data.cpu().numpy()\n",
    "    weights = weights.T\n",
    "else:\n",
    "    weights = list(model.parameters())[0].data.cpu().numpy()\n",
    "\n",
    "num_neurons, num_pixels = weights.shape\n",
    "weights = np.reshape(weights, [num_neurons, int(np.sqrt(num_pixels)), int(np.sqrt(num_pixels))])"
   ]
  },
  {
   "cell_type": "code",
   "execution_count": null,
   "metadata": {},
   "outputs": [],
   "source": [
    "import proplot as plot\n",
    "import numpy as np\n",
    "\n",
    "def normalize_data_with_max(data):\n",
    "    \"\"\"\n",
    "    Normalize data by dividing by abs(max(data))\n",
    "    If abs(max(data)) is zero, then output is zero\n",
    "    Inputs:\n",
    "        data: [np.ndarray] data to be normalized\n",
    "    Outputs:\n",
    "        norm_data: [np.ndarray] normalized data\n",
    "        data_max: [float] max that was divided out\n",
    "    \"\"\"\n",
    "    data_max = np.max(np.abs(data), axis=(1,2), keepdims=True)\n",
    "    norm_data = np.divide(data, data_max, out=np.zeros_like(data), where=data_max!=0)\n",
    "    return norm_data, data_max\n",
    "\n",
    "def pad_matrix_to_image(matrix, pad_size=0, pad_value=0, normalize=False):\n",
    "    if normalize:\n",
    "        matrix = normalize_data_with_max(matrix)[0]\n",
    "    num_weights, img_h, img_w = matrix.shape\n",
    "    num_extra_images = int(np.ceil(np.sqrt(num_weights))**2 - num_weights)\n",
    "    if num_extra_images > 0:\n",
    "        matrix = np.concatenate(\n",
    "            [matrix, np.zeros((num_extra_images, img_h, img_w))], axis=0)\n",
    "    matrix = np.pad(matrix,\n",
    "        pad_width=((0,0), (num_pad_pix,num_pad_pix), (num_pad_pix,num_pad_pix)),\n",
    "        mode='constant', constant_values=pad_value)\n",
    "    img_h, img_w = matrix.shape[1:]\n",
    "    num_edge_tiles = int(np.sqrt(matrix.shape[0]))\n",
    "    tiles = matrix.reshape(num_edge_tiles, num_edge_tiles, img_h, img_w)\n",
    "    tiles = tiles.swapaxes(1, 2)\n",
    "    matrix = tiles.reshape(num_edge_tiles*img_h, num_edge_tiles*img_w)\n",
    "    return matrix\n",
    "    \n",
    "def plot_matrix(matrix, title=''):\n",
    "    fig, ax = plot.subplots(figsize=(10,10))\n",
    "    ax = pf.clear_axis(ax)\n",
    "    ax.imshow(matrix, cmap='greys_r', vmin=0.0, vmax=1.0)\n",
    "    ax.format(title=title)\n",
    "    plot.show()\n",
    "    return fig\n",
    "\n",
    "pad_value = 0.5\n",
    "num_pad_pix = 2\n",
    "fig = plot_matrix(pad_matrix_to_image(weights, num_pad_pix, pad_value,\n",
    "    normalize=True), title=f'{model.params.model_name} weights')\n",
    "fig.savefig(f'{model.params.disp_dir}/weights_plot_matrix.png')"
   ]
  },
  {
   "cell_type": "code",
   "execution_count": null,
   "metadata": {},
   "outputs": [],
   "source": [
    "import DeepSparseCoding.tf1x.utils.plot_functions as tfpf\n",
    "\n",
    "tfpf.plot_image(pad_matrix_to_image(weights), vmin=None, vmax=None, title=\"\", save_filename=model.params.disp_dir+\"/weights_plot_image.png\")\n",
    "tfpf.plot_weights(weights, save_filename=model.params.disp_dir+\"/weights_plot_weights.png\")\n",
    "tfpf.plot_data_tiled(weights[..., None], save_filename=model.params.disp_dir+\"/weights_plot_data_tiled.png\")"
   ]
  },
  {
   "cell_type": "code",
   "execution_count": null,
   "metadata": {},
   "outputs": [],
   "source": []
  }
 ],
 "metadata": {
  "kernelspec": {
   "display_name": "Python 3",
   "language": "python",
   "name": "python3"
  },
  "language_info": {
   "codemirror_mode": {
    "name": "ipython",
    "version": 3
   },
   "file_extension": ".py",
   "mimetype": "text/x-python",
   "name": "python",
   "nbconvert_exporter": "python",
   "pygments_lexer": "ipython3",
   "version": "3.6.8"
  },
  "varInspector": {
   "cols": {
    "lenName": 16,
    "lenType": 16,
    "lenVar": 40
   },
   "kernels_config": {
    "python": {
     "delete_cmd_postfix": "",
     "delete_cmd_prefix": "del ",
     "library": "var_list.py",
     "varRefreshCmd": "print(var_dic_list())"
    },
    "r": {
     "delete_cmd_postfix": ") ",
     "delete_cmd_prefix": "rm(",
     "library": "var_list.r",
     "varRefreshCmd": "cat(var_dic_list()) "
    }
   },
   "types_to_exclude": [
    "module",
    "function",
    "builtin_function_or_method",
    "instance",
    "_Feature"
   ],
   "window_display": false
  }
 },
 "nbformat": 4,
 "nbformat_minor": 2
}
