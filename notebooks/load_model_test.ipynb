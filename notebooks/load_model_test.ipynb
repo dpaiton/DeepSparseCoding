{
 "cells": [
  {
   "cell_type": "code",
   "execution_count": null,
   "metadata": {},
   "outputs": [],
   "source": [
    "import os\n",
    "import sys\n",
    "\n",
    "parent_path = os.path.dirname(os.path.dirname(os.getcwd()))\n",
    "if parent_path not in sys.path: sys.path.append(parent_path) \n",
    "\n",
    "from DeepSparseCoding.utils.file_utils import Logger\n",
    "import DeepSparseCoding.models.model_loader as ml\n",
    "import DeepSparseCoding.utils.run_utils as run_utils\n",
    "import DeepSparseCoding.utils.dataset_utils as dataset_utils\n",
    "import DeepSparseCoding.utils.run_utils as ru\n",
    "import DeepSparseCoding.utils.plot_functions as pf"
   ]
  },
  {
   "cell_type": "code",
   "execution_count": null,
   "metadata": {},
   "outputs": [],
   "source": [
    "workspace_dir = os.path.expanduser(\"~\")+\"/Work/\"\n",
    "#params_file = workspace_dir+\"/Torch_projects/mlp_mnist/logfiles/mlp_mnist_v0.log\"\n",
    "#params_file = workspace_dir+\"/Torch_projects/lca_mnist/logfiles/lca_mnist_v0.log\"\n",
    "params_file = workspace_dir+\"/Torch_projects/lca_mlp_mnist/logfiles/lca_mlp_mnist_v0.log\"\n",
    "logger = Logger(params_file, overwrite=False)\n",
    "\n",
    "log_text = logger.load_file()\n",
    "params = logger.read_params(log_text)[-1]"
   ]
  },
  {
   "cell_type": "code",
   "execution_count": null,
   "metadata": {},
   "outputs": [],
   "source": [
    "train_loader, val_loader, test_loader, params = dataset_utils.load_dataset(params)"
   ]
  },
  {
   "cell_type": "code",
   "execution_count": null,
   "metadata": {},
   "outputs": [],
   "source": [
    "model = ml.load_model(params.model_type, params.lib_root_dir)\n",
    "model.setup(params, logger)\n",
    "model.to(params.device)\n",
    "model.load_state_dict(torch.load(model.params.cp_save_dir+\"trained_model.pt\"))"
   ]
  },
  {
   "cell_type": "code",
   "execution_count": null,
   "metadata": {
    "scrolled": false
   },
   "outputs": [],
   "source": [
    "model_stats = logger.read_stats(log_text)\n",
    "x_key = \"epoch\"\n",
    "stats_fig = pf.plot_stats(model_stats, x_key)"
   ]
  },
  {
   "cell_type": "code",
   "execution_count": null,
   "metadata": {},
   "outputs": [],
   "source": [
    "test_results = ru.test_epoch(0, model, test_loader, log_to_file=False)\n",
    "print(test_results)"
   ]
  },
  {
   "cell_type": "code",
   "execution_count": null,
   "metadata": {},
   "outputs": [],
   "source": [
    "import proplot as pro\n",
    "\n",
    "def set_size(width, fraction=1, subplot=[1, 1]):\n",
    "    \"\"\"\n",
    "    Set aesthetic figure dimensions to avoid scaling in latex.\n",
    "    Args:\n",
    "        width [float] Width in pts\n",
    "        fraction [float] Fraction of the width which you wish the figure to occupy\n",
    "    Returns:\n",
    "      fig_dim [tuple] Dimensions of figure in inches\n",
    "    Usage: figsize = set_size(text_width, fraction=1, subplot=[1, 1])\n",
    "    Code obtained from: https://jwalton.info/Embed-Publication-Matplotlib-Latex/\n",
    "    \"\"\"\n",
    "    fig_width_pt = width * fraction # Width of figure\n",
    "    inches_per_pt = 1 / 72.27 # Convert from pt to inches\n",
    "    golden_ratio = (5**.5 - 1) / 2 # Golden ratio to set aesthetic figure height\n",
    "    fig_width_in = fig_width_pt * inches_per_pt # Figure width in inches\n",
    "    fig_height_in = fig_width_in * golden_ratio * (subplot[0] / subplot[1]) # Figure height in inches\n",
    "    fig_dim = (fig_width_in, fig_height_in) # Final figure dimensions\n",
    "    return fig_dim\n",
    "\n",
    "def plot_weights(weights, title=\"\", figsize=None):\n",
    "    num_weights, num_input_y, num_input_x = weights.shape\n",
    "    num_plots_y = int(np.ceil(np.sqrt(num_weights))+1)\n",
    "    num_plots_x = int(np.floor(np.sqrt(num_weights)))\n",
    "    fig, axs = pro.subplots(nrows=num_plots_y, ncols=num_plots_x)\n",
    "    for ax_idx, ax in  enumerate(axs):\n",
    "        if ax_idx < num_weights:\n",
    "            ax.imshow(weights[ax_idx, ...], cmap=\"Grays_r\")\n",
    "        else:\n",
    "            ax = pf.clear_axis(ax)\n",
    "    return fig"
   ]
  },
  {
   "cell_type": "code",
   "execution_count": null,
   "metadata": {},
   "outputs": [],
   "source": [
    "lca_model = model.models[0]\n",
    "weights = list(lca_model.parameters())[0].data.cpu().numpy()\n",
    "weights = np.reshape(weights.T, [weights.shape[1], int(np.sqrt(weights.shape[0])), int(np.sqrt(weights.shape[0]))])\n",
    "fig = plot_weights(weights)"
   ]
  },
  {
   "cell_type": "code",
   "execution_count": null,
   "metadata": {},
   "outputs": [],
   "source": []
  }
 ],
 "metadata": {
  "kernelspec": {
   "display_name": "Python 3",
   "language": "python",
   "name": "python3"
  },
  "language_info": {
   "codemirror_mode": {
    "name": "ipython",
    "version": 3
   },
   "file_extension": ".py",
   "mimetype": "text/x-python",
   "name": "python",
   "nbconvert_exporter": "python",
   "pygments_lexer": "ipython3",
   "version": "3.6.8"
  },
  "varInspector": {
   "cols": {
    "lenName": 16,
    "lenType": 16,
    "lenVar": 40
   },
   "kernels_config": {
    "python": {
     "delete_cmd_postfix": "",
     "delete_cmd_prefix": "del ",
     "library": "var_list.py",
     "varRefreshCmd": "print(var_dic_list())"
    },
    "r": {
     "delete_cmd_postfix": ") ",
     "delete_cmd_prefix": "rm(",
     "library": "var_list.r",
     "varRefreshCmd": "cat(var_dic_list()) "
    }
   },
   "types_to_exclude": [
    "module",
    "function",
    "builtin_function_or_method",
    "instance",
    "_Feature"
   ],
   "window_display": false
  }
 },
 "nbformat": 4,
 "nbformat_minor": 2
}
