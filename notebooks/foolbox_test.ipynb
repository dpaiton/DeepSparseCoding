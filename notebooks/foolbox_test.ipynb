{
 "cells": [
  {
   "cell_type": "code",
   "execution_count": null,
   "metadata": {},
   "outputs": [],
   "source": [
    "import os\n",
    "import sys\n",
    "import pickle\n",
    "\n",
    "parent_path = os.path.dirname(os.path.dirname(os.getcwd()))\n",
    "if parent_path not in sys.path: sys.path.append(parent_path) \n",
    "    \n",
    "import numpy as np\n",
    "import proplot as plot"
   ]
  },
  {
   "cell_type": "code",
   "execution_count": null,
   "metadata": {},
   "outputs": [],
   "source": [
    "models = ['mlp_768_mnist', 'lca_768_mlp_mnist']\n",
    "\n",
    "workspace_dir = os.path.join(*[os.path.expanduser('~'), 'Work'])\n",
    "project_dir = os.path.join(workspace_dir, 'Torch_projects')"
   ]
  },
  {
   "cell_type": "code",
   "execution_count": null,
   "metadata": {},
   "outputs": [],
   "source": [
    "analysis_files = [\n",
    "    os.path.join(*[project_dir, model, 'analysis', '0', 'savefiles', 'linf_adversarial_analysis.npz'])\n",
    "    for model in models]\n",
    "\n",
    "attack_success = {}; attack_types = {}; epsilons = {}; attack_params = {}\n",
    "for model, file in zip(models, analysis_files):\n",
    "    analysis = np.load(file, allow_pickle=True)['data'].item()\n",
    "    attack_success[model] = analysis['adversarial_analysis']\n",
    "    attack_types[model] = analysis['attack_types']\n",
    "    epsilons[model] = analysis['epsilons']\n",
    "    attack_params[model] = analysis['attack_params']"
   ]
  },
  {
   "cell_type": "code",
   "execution_count": null,
   "metadata": {},
   "outputs": [],
   "source": [
    "abs_filename = os.path.join(\n",
    "    *[workspace_dir, 'analysis-by-synthesis', 'figures', 'Linf_accuracy_distortion_curves.pickle'])\n",
    "with open(abs_filename, 'rb') as file:\n",
    "    abs_linf_pgd_accuracies = pickle.load(file)"
   ]
  },
  {
   "cell_type": "code",
   "execution_count": null,
   "metadata": {},
   "outputs": [],
   "source": [
    "num_attacks = attack_success[models[0]].shape[0]\n",
    "fig, axes = plot.subplots(ncols=num_attacks, nrows=1, share=0)\n",
    "handles = []\n",
    "for model_index, model_type in enumerate(models):\n",
    "    for attack_index, attack_type in enumerate(attack_types[model]):\n",
    "        attack_accuracy = 1.0 - attack_success[model][attack_index, ...].mean(axis=-1)\n",
    "        handle = axes[attack_index].plot(epsilons[model], 100*attack_accuracy, label=model_type)\n",
    "        if attack_index == 0:\n",
    "            handles.extend(handle)\n",
    "        #if model_index == 0 and attack_type == 'LinfProjectedGradientDescentAttack':\n",
    "        #    for abs_model_type, abs_model_accuracy in abs_linf_pgd_accuracies.items():\n",
    "        #        if abs_model_type not in ['Binary CNN', 'Nearest Neighbor']:\n",
    "        #            handle = axes[attack_index].plot(\n",
    "        #                abs_model_accuracy['x'], abs_model_accuracy['y'], label=abs_model_type)\n",
    "        #            handles.extend(handle)\n",
    "        axes[attack_index].format(title=attack_type)\n",
    "axes[0].format(ylabel='Model accuracy')\n",
    "xmax = 0.5\n",
    "axes.format(\n",
    "    xlabel='Maximum perturbation size',\n",
    "    xlim=[0.0, xmax],\n",
    "    ylim=[0, 100])\n",
    "fig.legend(handles, ncols=1, frame=False, label='Model type', loc='right')\n",
    "plot.show()"
   ]
  },
  {
   "cell_type": "code",
   "execution_count": null,
   "metadata": {},
   "outputs": [],
   "source": []
  }
 ],
 "metadata": {
  "kernelspec": {
   "display_name": "Python 3",
   "language": "python",
   "name": "python3"
  },
  "language_info": {
   "codemirror_mode": {
    "name": "ipython",
    "version": 3
   },
   "file_extension": ".py",
   "mimetype": "text/x-python",
   "name": "python",
   "nbconvert_exporter": "python",
   "pygments_lexer": "ipython3",
   "version": "3.6.8"
  },
  "varInspector": {
   "cols": {
    "lenName": 16,
    "lenType": 16,
    "lenVar": 40
   },
   "kernels_config": {
    "python": {
     "delete_cmd_postfix": "",
     "delete_cmd_prefix": "del ",
     "library": "var_list.py",
     "varRefreshCmd": "print(var_dic_list())"
    },
    "r": {
     "delete_cmd_postfix": ") ",
     "delete_cmd_prefix": "rm(",
     "library": "var_list.r",
     "varRefreshCmd": "cat(var_dic_list()) "
    }
   },
   "types_to_exclude": [
    "module",
    "function",
    "builtin_function_or_method",
    "instance",
    "_Feature"
   ],
   "window_display": false
  }
 },
 "nbformat": 4,
 "nbformat_minor": 2
}
