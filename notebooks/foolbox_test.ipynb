{
 "cells": [
  {
   "cell_type": "code",
   "execution_count": null,
   "metadata": {},
   "outputs": [],
   "source": [
    "import os\n",
    "import sys\n",
    "\n",
    "parent_path = os.path.dirname(os.path.dirname(os.getcwd()))\n",
    "if parent_path not in sys.path: sys.path.append(parent_path) \n",
    "    \n",
    "import numpy as np\n",
    "import proplot as plot\n",
    "import torch\n",
    "\n",
    "from DeepSparseCoding.utils.file_utils import Logger\n",
    "import DeepSparseCoding.utils.loaders as loaders\n",
    "import DeepSparseCoding.utils.run_utils as run_utils\n",
    "import DeepSparseCoding.utils.dataset_utils as dataset_utils\n",
    "import DeepSparseCoding.utils.run_utils as ru\n",
    "import DeepSparseCoding.utils.plot_functions as pf\n",
    "\n",
    "import eagerpy as ep\n",
    "from foolbox import PyTorchModel, accuracy, samples\n",
    "import foolbox.attacks as fa"
   ]
  },
  {
   "cell_type": "code",
   "execution_count": null,
   "metadata": {},
   "outputs": [],
   "source": [
    "workspace_dir = os.path.expanduser(\"~\")+\"/Work/\"\n",
    "\n",
    "linfPGD_params = {\"rel_stepsize\":1e-3, \"steps\":int(1/1e-3)}\n",
    "\n",
    "attacks = [\n",
    "    fa.FGSM(),\n",
    "    fa.LinfPGD(**linfPGD_params),\n",
    "    fa.LinfBasicIterativeAttack(),\n",
    "    fa.LinfAdditiveUniformNoiseAttack(),\n",
    "    fa.LinfDeepFoolAttack(),\n",
    "]\n",
    "\n",
    "epsilons = [ # allowed perturbation size\n",
    "    0.0,\n",
    "    0.0005,\n",
    "    0.001,\n",
    "    0.0015,\n",
    "    0.002,\n",
    "    0.003,\n",
    "    0.005,\n",
    "    0.01,\n",
    "    0.02,\n",
    "    0.03,\n",
    "    0.1,\n",
    "    0.3,\n",
    "    0.5,\n",
    "    1.0,\n",
    "]"
   ]
  },
  {
   "cell_type": "code",
   "execution_count": null,
   "metadata": {
    "scrolled": false
   },
   "outputs": [],
   "source": [
    "log_files = [workspace_dir+\"/Torch_projects/short/mlp_768_mnist/logfiles/mlp_768_mnist_v0.log\",\n",
    "    workspace_dir+\"/Torch_projects/short/lca_768_mlp_mnist/logfiles/lca_768_mlp_mnist_v0.log\"]\n",
    "             \n",
    "cp_latest_filenames = ['/gpfs01/bethge/home/dpaiton/Work/Torch_projects/short/mlp_768_mnist/checkpoints/mlp_768_mnist_latest_checkpoint_v0.pt',\n",
    "    '/gpfs01/bethge/home/dpaiton/Work/Torch_projects/short/lca_768_mlp_mnist/checkpoints/lca_768_mlp_mnist_latest_checkpoint_v0.pt']\n",
    "\n",
    "num_models = len(log_files)\n",
    "\n",
    "train_loader, val_loader, test_loader, params = dataset_utils.load_dataset(params)\n",
    "data, target = next(iter(train_loader))\n",
    "\n",
    "attack_success_dict = {}\n",
    "for model_index in range(num_models):\n",
    "    logger = Logger(log_files[model_index], overwrite=False)\n",
    "    log_text = logger.load_file()\n",
    "    params = logger.read_params(log_text)[-1]\n",
    "    params.cp_latest_filename = cp_latest_filenames[model_index]\n",
    "    \n",
    "    model = loaders.load_model(params.model_type, params.lib_root_dir)\n",
    "    model.setup(params, logger)\n",
    "    model.to(params.device)\n",
    "    model.load_checkpoint()\n",
    "    fmodel = PyTorchModel(model.eval(), bounds=(0, 1))\n",
    "    \n",
    "    data = model.preprocess_data(data.to(model.params.device))\n",
    "    target = target.to(model.params.device)\n",
    "    \n",
    "    images, labels = ep.astensors(*(data, target))\n",
    "    \n",
    "    print(\"\\n\")\n",
    "    print(\"~\" * 79)\n",
    "    print(\"Model type:\", model.params.model_type)\n",
    "    print(\"Model index: \", model_index)\n",
    "    print(\"accuracy\")\n",
    "    print(accuracy(fmodel, images, labels))\n",
    "    print(\"\")\n",
    "    \n",
    "    attack_success = np.zeros((len(attacks), len(epsilons), len(images)), dtype=np.bool)\n",
    "    for i, attack in enumerate(attacks):\n",
    "        _, _, success = attack(fmodel, images, labels, epsilons=epsilons)\n",
    "        assert success.shape == (len(epsilons), len(images))\n",
    "        success_ = success.numpy()\n",
    "        assert success_.dtype == np.bool\n",
    "        attack_success[i] = success_\n",
    "        print(\"\\n\", attack)\n",
    "        print(\"  \", 1.0 - success_.mean(axis=-1).round(2))\n",
    "    \n",
    "    attack_success_dict[model.params.model_type] = attack_success\n",
    "    robust_accuracy = 1.0 - attack_success.max(axis=0).mean(axis=-1)\n",
    "    print(\"\")\n",
    "    print(\"-\" * 79)\n",
    "    print(\"\")\n",
    "    print(\"worst case (best attack per-sample)\")\n",
    "    print(\"  \", robust_accuracy.round(2))"
   ]
  },
  {
   "cell_type": "code",
   "execution_count": null,
   "metadata": {},
   "outputs": [],
   "source": [
    "num_attacks, num_epsilons, num_images = attack_success.shape\n",
    "fig, axes = plot.subplots(ncols=num_attacks, nrows=1, share=0)\n",
    "handles = []\n",
    "for attack_index in range(num_attacks):\n",
    "    for model_type, model_attack_success in attack_success_dict.items():\n",
    "        attack_accuracy = 1.0 - model_attack_success[attack_index, ...].mean(axis=-1)\n",
    "        handle = axes[attack_index].plot(epsilons, attack_accuracy, label=model_type)\n",
    "        if attack_index == 0:\n",
    "            handles.extend(handle)\n",
    "    attack_type = str(type(attacks[attack_index])).split('.')[-1][:-2]\n",
    "    axes[attack_index].format(title=attack_type)\n",
    "axes[0].format(ylabel='Model accuracy')\n",
    "axes.format(\n",
    "    xlabel='Maximum perturbation size',\n",
    "    ylim=[0, 1.0])\n",
    "fig.legend(handles, ncols=1, frame=False, label='Model type', loc='right')\n",
    "plot.show()"
   ]
  },
  {
   "cell_type": "code",
   "execution_count": null,
   "metadata": {},
   "outputs": [],
   "source": []
  }
 ],
 "metadata": {
  "kernelspec": {
   "display_name": "Python 3",
   "language": "python",
   "name": "python3"
  },
  "language_info": {
   "codemirror_mode": {
    "name": "ipython",
    "version": 3
   },
   "file_extension": ".py",
   "mimetype": "text/x-python",
   "name": "python",
   "nbconvert_exporter": "python",
   "pygments_lexer": "ipython3",
   "version": "3.6.7"
  },
  "varInspector": {
   "cols": {
    "lenName": 16,
    "lenType": 16,
    "lenVar": 40
   },
   "kernels_config": {
    "python": {
     "delete_cmd_postfix": "",
     "delete_cmd_prefix": "del ",
     "library": "var_list.py",
     "varRefreshCmd": "print(var_dic_list())"
    },
    "r": {
     "delete_cmd_postfix": ") ",
     "delete_cmd_prefix": "rm(",
     "library": "var_list.r",
     "varRefreshCmd": "cat(var_dic_list()) "
    }
   },
   "types_to_exclude": [
    "module",
    "function",
    "builtin_function_or_method",
    "instance",
    "_Feature"
   ],
   "window_display": false
  }
 },
 "nbformat": 4,
 "nbformat_minor": 2
}
