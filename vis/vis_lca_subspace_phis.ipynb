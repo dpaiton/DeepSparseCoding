{
 "cells": [
  {
   "cell_type": "code",
   "execution_count": 1,
   "metadata": {},
   "outputs": [
    {
     "name": "stdout",
     "output_type": "stream",
     "text": [
      "env: CUDA_VISIBLE_DEVICES=0\n"
     ]
    }
   ],
   "source": [
    "import os\n",
    "os.chdir(\"../\")\n",
    "%env CUDA_VISIBLE_DEVICES=0\n",
    "%matplotlib inline"
   ]
  },
  {
   "cell_type": "code",
   "execution_count": 106,
   "metadata": {},
   "outputs": [],
   "source": [
    "import numpy as np\n",
    "import matplotlib\n",
    "import matplotlib.pyplot as plt\n",
    "import matplotlib.gridspec as gridspec\n",
    "import tensorflow as tf\n",
    "from data.dataset import Dataset\n",
    "import data.data_selector as ds\n",
    "import utils.data_processing as dp\n",
    "import utils.plot_functions as pf\n",
    "import analysis.analysis_picker as ap"
   ]
  },
  {
   "cell_type": "code",
   "execution_count": 145,
   "metadata": {},
   "outputs": [],
   "source": [
    "class lca_4_params():\n",
    "    def __init__(self):\n",
    "        self.model_type = \"lca_subspace\"\n",
    "        self.model_name = \"lca_subspace_vh\"\n",
    "        self.version = \"0.4\"\n",
    "        self.save_info = \"lca_subspace_vh_v{}\".format(self.version)\n",
    "        self.overwrite_analysis_log = False\n",
    "        \n",
    "class lca_8_params():\n",
    "    def __init__(self):\n",
    "        self.model_type = \"lca_subspace\"\n",
    "        self.model_name = \"lca_subspace_vh\"\n",
    "        self.version = \"0.8\"\n",
    "        self.save_info = \"lca_subspace_vh_v{}.log\".format(self.version)\n",
    "        self.overwrite_analysis_log = False\n",
    "             \n",
    "class lca_16_params():\n",
    "    def __init__(self):\n",
    "        self.model_type = \"lca_subspace\"\n",
    "        self.model_name = \"lca_subspace_vh\"\n",
    "        self.version = \"0.16\"\n",
    "        self.save_info = \"lca_subspace_vh_v{}.log\".format(self.version)\n",
    "        self.overwrite_analysis_log = False\n",
    "        \n",
    "class lca_32_params():\n",
    "    def __init__(self):\n",
    "        self.model_type = \"lca_subspace\"\n",
    "        self.model_name = \"lca_subspace_vh\"\n",
    "        self.version = \"0.32\"\n",
    "        self.save_info = \"lca_subspace_vh_v{}.log\".format(self.version)\n",
    "        self.overwrite_analysis_log = False\n",
    "        \n",
    "params_list = [lca_4_params(), lca_8_params(), lca_16_params(), lca_32_params()]\n",
    "for params in params_list:\n",
    "    params.model_dir = (os.path.expanduser(\"~\")+\"/Work/Projects/\"+params.model_name)"
   ]
  },
  {
   "cell_type": "code",
   "execution_count": 146,
   "metadata": {},
   "outputs": [],
   "source": [
    "analyzer_list = [ap.get_analyzer(params.model_type) for params in params_list]\n",
    "for analyzer, params in zip(analyzer_list, params_list):\n",
    "    analyzer.setup(params)\n",
    "    analyzer.model.setup(analyzer.model_params)\n",
    "    analyzer.load_analysis(save_info=params.save_info)\n",
    "    analyzer.model_name = params.model_name"
   ]
  },
  {
   "cell_type": "code",
   "execution_count": 147,
   "metadata": {},
   "outputs": [
    {
     "name": "stdout",
     "output_type": "stream",
     "text": [
      "var_names\n",
      "model_log_file\n",
      "model_logger\n",
      "model_log_text\n",
      "model_params\n",
      "model_schedule\n",
      "analysis_out_dir\n",
      "analysis_log_file\n",
      "analysis_logger\n",
      "analysis_params\n",
      "rand_state\n",
      "model\n",
      "model_name\n"
     ]
    }
   ],
   "source": [
    "for i in analyzer.__dict__:\n",
    "    print(i)"
   ]
  },
  {
   "cell_type": "code",
   "execution_count": 149,
   "metadata": {},
   "outputs": [],
   "source": [
    "analyzer = analyzer_list[0]"
   ]
  },
  {
   "cell_type": "code",
   "execution_count": 150,
   "metadata": {
    "scrolled": false
   },
   "outputs": [],
   "source": []
  },
  {
   "cell_type": "code",
   "execution_count": 161,
   "metadata": {},
   "outputs": [
    {
     "ename": "TypeError",
     "evalue": "eval_analysis() missing 3 required positional arguments: 'images', 'var_names', and 'save_info'",
     "output_type": "error",
     "traceback": [
      "\u001b[0;31m---------------------------------------------------------------------------\u001b[0m",
      "\u001b[0;31mTypeError\u001b[0m                                 Traceback (most recent call last)",
      "\u001b[0;32m<ipython-input-161-31999c4c26f7>\u001b[0m in \u001b[0;36m<module>\u001b[0;34m\u001b[0m\n\u001b[0;32m----> 1\u001b[0;31m \u001b[0manalyzer\u001b[0m\u001b[0;34m.\u001b[0m\u001b[0meval_analysis\u001b[0m\u001b[0;34m(\u001b[0m\u001b[0;34m)\u001b[0m\u001b[0;34m\u001b[0m\u001b[0m\n\u001b[0m",
      "\u001b[0;31mTypeError\u001b[0m: eval_analysis() missing 3 required positional arguments: 'images', 'var_names', and 'save_info'"
     ]
    }
   ],
   "source": [
    "analyzer.eval_analysis()"
   ]
  },
  {
   "cell_type": "code",
   "execution_count": null,
   "metadata": {},
   "outputs": [],
   "source": []
  }
 ],
 "metadata": {
  "kernelspec": {
   "display_name": "Python 3",
   "language": "python",
   "name": "python3"
  },
  "language_info": {
   "codemirror_mode": {
    "name": "ipython",
    "version": 3
   },
   "file_extension": ".py",
   "mimetype": "text/x-python",
   "name": "python",
   "nbconvert_exporter": "python",
   "pygments_lexer": "ipython3",
   "version": "3.6.6"
  }
 },
 "nbformat": 4,
 "nbformat_minor": 2
}
