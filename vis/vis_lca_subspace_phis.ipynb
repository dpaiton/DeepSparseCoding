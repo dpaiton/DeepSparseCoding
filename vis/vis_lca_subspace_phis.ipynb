{
 "cells": [
  {
   "cell_type": "code",
   "execution_count": 2,
   "metadata": {},
   "outputs": [
    {
     "name": "stdout",
     "output_type": "stream",
     "text": [
      "env: CUDA_VISIBLE_DEVICES=0\n"
     ]
    }
   ],
   "source": [
    "import os\n",
    "os.chdir(\"../\")\n",
    "%env CUDA_VISIBLE_DEVICES=0\n",
    "%matplotlib inline"
   ]
  },
  {
   "cell_type": "code",
   "execution_count": 3,
   "metadata": {},
   "outputs": [],
   "source": [
    "import numpy as np\n",
    "import matplotlib\n",
    "import matplotlib.pyplot as plt\n",
    "import matplotlib.gridspec as gridspec\n",
    "import tensorflow as tf\n",
    "from data.dataset import Dataset\n",
    "import data.data_selector as ds\n",
    "import utils.data_processing as dp\n",
    "import utils.plot_functions as pf\n",
    "import analysis.analysis_picker as ap"
   ]
  },
  {
   "cell_type": "code",
   "execution_count": 4,
   "metadata": {},
   "outputs": [],
   "source": [
    "class lca_4_params():\n",
    "    def __init__(self):\n",
    "        self.model_type = \"lca_subspace\"\n",
    "        self.model_name = \"lca_subspace_vh\"\n",
    "        self.version = \"0.4\"\n",
    "        self.save_info = \"lca_subspace_vh_v{}\".format(self.version)\n",
    "        self.overwrite_analysis_log = False\n",
    "        \n",
    "class lca_8_params():\n",
    "    def __init__(self):\n",
    "        self.model_type = \"lca_subspace\"\n",
    "        self.model_name = \"lca_subspace_vh\"\n",
    "        self.version = \"0.8\"\n",
    "        self.save_info = \"lca_subspace_vh_v{}.log\".format(self.version)\n",
    "        self.overwrite_analysis_log = False\n",
    "             \n",
    "class lca_16_params():\n",
    "    def __init__(self):\n",
    "        self.model_type = \"lca_subspace\"\n",
    "        self.model_name = \"lca_subspace_vh\"\n",
    "        self.version = \"0.16\"\n",
    "        self.save_info = \"lca_subspace_vh_v{}.log\".format(self.version)\n",
    "        self.overwrite_analysis_log = False\n",
    "        \n",
    "class lca_32_params():\n",
    "    def __init__(self):\n",
    "        self.model_type = \"lca_subspace\"\n",
    "        self.model_name = \"lca_subspace_vh\"\n",
    "        self.version = \"0.32\"\n",
    "        self.save_info = \"lca_subspace_vh_v{}.log\".format(self.version)\n",
    "        self.overwrite_analysis_log = False\n",
    "        \n",
    "params_list = [lca_4_params(), lca_8_params(), lca_16_params(), lca_32_params()]\n",
    "for params in params_list:\n",
    "    params.model_dir = (os.path.expanduser(\"~\")+\"/Work/Projects/\"+params.model_name)"
   ]
  },
  {
   "cell_type": "code",
   "execution_count": null,
   "metadata": {},
   "outputs": [],
   "source": [
    "analyzer_list = [ap.get_analyzer(params.model_type) for params in params_list]\n",
    "for analyzer, params in zip(analyzer_list, params_list):\n",
    "    analyzer.setup(params)\n",
    "    analyzer.model.setup(analyzer.model_params)\n",
    "    analyzer.load_analysis(save_info=params.save_info)\n",
    "    analyzer.model_name = params.model_name"
   ]
  },
  {
   "cell_type": "code",
   "execution_count": null,
   "metadata": {},
   "outputs": [],
   "source": [
    "for i in analyzer.__dict__:\n",
    "    print(i)"
   ]
  },
  {
   "cell_type": "code",
   "execution_count": null,
   "metadata": {},
   "outputs": [],
   "source": [
    "analyzer.bf_stats"
   ]
  },
  {
   "cell_type": "code",
   "execution_count": null,
   "metadata": {},
   "outputs": [],
   "source": []
  }
 ],
 "metadata": {
  "kernelspec": {
   "display_name": "Python 3",
   "language": "python",
   "name": "python3"
  },
  "language_info": {
   "codemirror_mode": {
    "name": "ipython",
    "version": 3
   },
   "file_extension": ".py",
   "mimetype": "text/x-python",
   "name": "python",
   "nbconvert_exporter": "python",
   "pygments_lexer": "ipython3",
   "version": "3.6.6"
  }
 },
 "nbformat": 4,
 "nbformat_minor": 2
}
