{
 "cells": [
  {
   "cell_type": "markdown",
   "metadata": {},
   "source": [
    "## Imports"
   ]
  },
  {
   "cell_type": "code",
   "execution_count": null,
   "metadata": {
    "scrolled": true
   },
   "outputs": [],
   "source": [
    "import os\n",
    "os.chdir(\"../\")\n",
    "%env CUDA_VISIBLE_DEVICES=0\n",
    "%matplotlib inline"
   ]
  },
  {
   "cell_type": "code",
   "execution_count": null,
   "metadata": {},
   "outputs": [],
   "source": [
    "import numpy as np                                                              \n",
    "import matplotlib.pyplot as plt\n",
    "import scipy\n",
    "import tensorflow as tf                                                         \n",
    "import data.data_selector as ds                                                   \n",
    "import analysis.analysis_picker as ap\n",
    "import utils.plot_functions as pf                                               "
   ]
  },
  {
   "cell_type": "markdown",
   "metadata": {},
   "source": [
    "## Model parameters"
   ]
  },
  {
   "cell_type": "code",
   "execution_count": null,
   "metadata": {},
   "outputs": [],
   "source": [
    "class analysis_params(object):\n",
    "  def __init__(self):\n",
    "    self.model_type = \"lca_subspace\"\n",
    "    self.model_name = \"lca_subspace_mnist\"\n",
    "    self.version = \"0.0\"\n",
    "    self.save_info = \"analysis_test_carlini_targeted\"\n",
    "    self.overwrite_analysis_log = False\n",
    "\n",
    "# Computed params\n",
    "params = analysis_params()\n",
    "params.model_dir = (os.path.expanduser(\"~\")+\"/Work/Projects/\"+params.model_name)"
   ]
  },
  {
   "cell_type": "markdown",
   "metadata": {},
   "source": [
    "## Load analyzer"
   ]
  },
  {
   "cell_type": "code",
   "execution_count": null,
   "metadata": {
    "scrolled": false
   },
   "outputs": [],
   "source": [
    "analyzer = ap.get_analyzer(params.model_type)\n",
    "analyzer.setup(params)\n",
    "analyzer.setup_model(analyzer.model_params)\n",
    "analyzer.load_analysis(save_info=params.save_info)\n",
    "analyzer.model_name = params.model_name"
   ]
  },
  {
   "cell_type": "markdown",
   "metadata": {},
   "source": [
    "### New Analysis"
   ]
  },
  {
   "cell_type": "raw",
   "metadata": {},
   "source": [
    "data = ds.get_data(analyzer.model_params)\n",
    "data = analyzer.model.preprocess_dataset(data, analyzer.model_params)\n",
    "data = analyzer.model.reshape_dataset(data, analyzer.model_params)"
   ]
  },
  {
   "cell_type": "raw",
   "metadata": {},
   "source": [
    "num_imgs = 10000#data[\"train\"].images.shape[0]\n",
    "config = tf.ConfigProto()\n",
    "config.gpu_options.allow_growth = True\n",
    "with tf.Session(config=config, graph=analyzer.model.graph) as sess:\n",
    "  feed_dict = analyzer.model.get_feed_dict(data[\"train\"].images[0:num_imgs,...])\n",
    "  sess.run(analyzer.model.init_op, feed_dict)\n",
    "  analyzer.model.load_full_model(sess, analyzer.analysis_params.cp_loc)\n",
    "  run_list = [analyzer.model.a, analyzer.model.module.group_activity, analyzer.model.module.group_angles]\n",
    "  neuron_activations, group_activations, group_angles = sess.run(run_list, feed_dict)"
   ]
  },
  {
   "cell_type": "markdown",
   "metadata": {},
   "source": [
    "### MNIST"
   ]
  },
  {
   "cell_type": "raw",
   "metadata": {},
   "source": [
    "labels = np.array([np.nonzero(data[\"train\"].labels[label_index,:])[0].item()\n",
    "  for label_index in range(data[\"train\"].labels.shape[0])]).T"
   ]
  },
  {
   "cell_type": "raw",
   "metadata": {
    "scrolled": false
   },
   "source": [
    "# rank groupings by label category\n",
    "# grab input samples where labels match a category\n",
    "# sort activations of groups for those samples with the most active first\n",
    "# compute mode of top groups\n",
    "# repeat, excluding previous mode\n",
    "\n",
    "#np.argwhere(labels==0)\n",
    "\n",
    "#get_mode = lambda x : scipy.stats.mode(x)[0].item()\n",
    "\n",
    "# Need to exclude groups that were never active for this label\n",
    "\n",
    "#include_indices = np.arange(analyzer.model.num_groups, dtype=int) # startout looking across all groups\n",
    "#modes = []\n",
    "#for neuron_index in range(analyzer.model.num_groups):\n",
    "#  mode = get_mode([np.argsort(np.squeeze(group_activations)[batch_index, include_indices])[-1]\n",
    "#    for batch_index in np.argwhere(labels==0)])\n",
    "#  modes.append(mode)\n",
    "#  print(include_indices.size)\n",
    "#  include_indices = include_indices[include_indices!=mode]\n",
    "#print(modes)\n",
    "\n",
    "#get_mode([sorted_activations(group_activations[batch_index, include_indices])[0]\n",
    "#  for batch_index in np.argwhere(labels==0)])\n",
    "#[np.argsort(np.squeeze(group_activations[batch_index,:]))[::-1]\n",
    "#  for batch_index in np.argwhere(labels==0)]"
   ]
  },
  {
   "cell_type": "markdown",
   "metadata": {},
   "source": [
    "### VanHateren"
   ]
  },
  {
   "cell_type": "raw",
   "metadata": {},
   "source": [
    "cent_group_activations = np.zeros_like(group_activations)\n",
    "for group_id in range(analyzer.model.num_groups):\n",
    "  cent_group_activations[:,group_id] = group_activations[:,group_id] - np.mean(group_activations[:,group_id])"
   ]
  },
  {
   "cell_type": "raw",
   "metadata": {},
   "source": [
    "#cov = 1/num_imgs * np.dot(group_activations.T, group_activations)\n",
    "cov = 1/num_imgs * np.dot(np.squeeze(cent_group_activations).T, np.squeeze(cent_group_activations))\n",
    "np.fill_diagonal(cov, 0.0)"
   ]
  },
  {
   "cell_type": "raw",
   "metadata": {},
   "source": [
    "fig = plt.figure(figsize=(10, 10))\n",
    "plt.imshow(cov, cmap=\"Greys_r\")\n",
    "plt.colorbar()\n",
    "plt.show()"
   ]
  },
  {
   "cell_type": "raw",
   "metadata": {},
   "source": [
    "from matplotlib.ticker import FormatStrFormatter\n",
    "group_idx = 1\n",
    "num_bins = 1000\n",
    "figsize = None\n",
    "indiv_group_act = group_activations[:, group_idx]\n",
    "bins = np.linspace(np.min(indiv_group_act), np.max(indiv_group_act), num_bins)\n",
    "hist, bin_edges = np.histogram(indiv_group_act.flatten(), bins)\n",
    "bin_left, bin_right = bin_edges[:-1], bin_edges[1:]\n",
    "bin_centers = bin_left + (bin_right - bin_left)/2\n",
    "fig, ax = plt.subplots(1, figsize=figsize)\n",
    "ax.bar(bin_centers, hist, width=2.0, log=True, align=\"center\")\n",
    "ax.set_xticks(bin_left, minor=True)\n",
    "ax.set_xticks(bin_left[::10], minor=False)\n",
    "ax.xaxis.set_major_formatter(FormatStrFormatter(\"%0.0f\"))\n",
    "ax.set_xlim([np.min(indiv_group_act), np.max(indiv_group_act)])\n",
    "ax.set_title(\"Group \"+str(group_idx))\n",
    "ax.set_xlabel(\"Activation\")\n",
    "ax.set_ylabel(\"Probability\")\n",
    "plt.show()"
   ]
  },
  {
   "cell_type": "raw",
   "metadata": {},
   "source": [
    "plt.scatter(np.arange(neuron_activations.size), neuron_activations.flatten())\n",
    "plt.show()"
   ]
  },
  {
   "cell_type": "raw",
   "metadata": {},
   "source": [
    "np.count_nonzero(neuron_activations.flatten())/neuron_activations.size"
   ]
  },
  {
   "cell_type": "raw",
   "metadata": {},
   "source": [
    "print(np.min(group_angles), np.mean(group_angles), np.max(group_angles))"
   ]
  },
  {
   "cell_type": "raw",
   "metadata": {},
   "source": [
    "weights = analyzer.evals[\"lca_subspace/weights/w:0\"]\n",
    "active_idx = np.random.choice(analyzer.model.params.num_groups)\n",
    "group_activity_vector = np.zeros((1, analyzer.model.params.num_groups))\n",
    "group_activity_vector[0, active_idx] = 1"
   ]
  },
  {
   "cell_type": "markdown",
   "metadata": {},
   "source": [
    "## Construct analysis plots"
   ]
  },
  {
   "cell_type": "code",
   "execution_count": null,
   "metadata": {},
   "outputs": [],
   "source": [
    "fig = pf.plot_loc_freq_summary(analyzer.bf_stats)\n",
    "fig.savefig(analyzer.analysis_out_dir+\"vis/location_frequency_centers.png\")"
   ]
  },
  {
   "cell_type": "code",
   "execution_count": null,
   "metadata": {},
   "outputs": [],
   "source": [
    "neuron_angles = analyzer.neuron_angles(analyzer.bf_stats) * (180/np.pi)"
   ]
  },
  {
   "cell_type": "code",
   "execution_count": null,
   "metadata": {},
   "outputs": [],
   "source": [
    "angle_hist_fig = pf.plot_weight_angle_histogram(neuron_angles, num_bins=50, angle_min=0, angle_max=180, figsize=(8,8))\n",
    "angle_hist_fig.savefig(analyzer.analysis_out_dir+\"/vis/neuron_angle_histogram.png\")"
   ]
  },
  {
   "cell_type": "code",
   "execution_count": null,
   "metadata": {},
   "outputs": [],
   "source": [
    "weight_indices = np.stack([np.array(id_list) for id_list in analyzer.model.module.group_ids], axis=0)\n",
    "pooling_weights = np.stack([analyzer.evals[\"lca_subspace/weights/w:0\"][:, id_list] for id_list in analyzer.model.module.group_ids], axis=1)"
   ]
  }
 ],
 "metadata": {
  "kernelspec": {
   "display_name": "Python 3",
   "language": "python",
   "name": "python3"
  },
  "language_info": {
   "codemirror_mode": {
    "name": "ipython",
    "version": 3
   },
   "file_extension": ".py",
   "mimetype": "text/x-python",
   "name": "python",
   "nbconvert_exporter": "python",
   "pygments_lexer": "ipython3",
   "version": "3.6.6"
  }
 },
 "nbformat": 4,
 "nbformat_minor": 1
}
