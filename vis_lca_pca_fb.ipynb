{
 "cells": [
  {
   "cell_type": "markdown",
   "metadata": {},
   "source": [
    "## Imports"
   ]
  },
  {
   "cell_type": "code",
   "execution_count": 1,
   "metadata": {
    "scrolled": false
   },
   "outputs": [
    {
     "name": "stdout",
     "output_type": "stream",
     "text": [
      "env: CUDA_VISIBLE_DEVICES=0\n"
     ]
    }
   ],
   "source": [
    "%env CUDA_VISIBLE_DEVICES=0\n",
    "%matplotlib inline"
   ]
  },
  {
   "cell_type": "code",
   "execution_count": 2,
   "metadata": {
    "collapsed": true
   },
   "outputs": [],
   "source": [
    "import os                                                                       \n",
    "import numpy as np                                                              \n",
    "import tensorflow as tf                                                         \n",
    "import data.data_selector as ds                                                   \n",
    "import analysis.analysis_picker as ap\n",
    "import utils.plot_functions as pf                                               "
   ]
  },
  {
   "cell_type": "markdown",
   "metadata": {},
   "source": [
    "## Model parameters"
   ]
  },
  {
   "cell_type": "code",
   "execution_count": 3,
   "metadata": {
    "collapsed": true
   },
   "outputs": [],
   "source": [
    "analysis_params = {\n",
    "  \"model_type\": \"lca_pca_fb\",\n",
    "  \"model_name\": \"lca_pca_fb_512_vh_ftw\",\n",
    "  \"suffix\": \"300k_imgs\",\n",
    "  \"version\": \"0.0\",\n",
    "  \"device\": \"/gpu:0\",\n",
    "  \"num_inference_images\": 3, #number of images to use for inference statistics\n",
    "  \"cov_num_images\": int(3e5), #number of images used to compute cov matrix\n",
    "  \"ft_padding\": 32, #Fourier analysis padding\n",
    "  \"data_type\": \"vanhateren\",\n",
    "  \"clobber\": True}\n",
    "\n",
    "# Computed params\n",
    "analysis_params[\"model_dir\"] = (os.path.expanduser(\"~\")+\"/Work/Projects/\"\n",
    "  +analysis_params[\"model_name\"])"
   ]
  },
  {
   "cell_type": "markdown",
   "metadata": {},
   "source": [
    "## Load dataset and analyzer"
   ]
  },
  {
   "cell_type": "code",
   "execution_count": 4,
   "metadata": {
    "collapsed": true,
    "scrolled": false
   },
   "outputs": [],
   "source": [
    "analyzer = ap.get_analyzer(analysis_params)"
   ]
  },
  {
   "cell_type": "code",
   "execution_count": 5,
   "metadata": {
    "collapsed": true
   },
   "outputs": [],
   "source": [
    "if analysis_params[\"clobber\"]:\n",
    "  analyzer.model_params[\"data_type\"] = analysis_params[\"data_type\"]\n",
    "  data = ds.get_data(analyzer.model_params)\n",
    "  data = analyzer.model.preprocess_dataset(data)\n",
    "  data = analyzer.model.reshape_dataset(data)\n",
    "  analyzer.model_params[\"data_shape\"] = [                                                       \n",
    "    data[\"train\"].num_rows*data[\"train\"].num_cols*data[\"train\"].num_channels]     "
   ]
  },
  {
   "cell_type": "code",
   "execution_count": 6,
   "metadata": {
    "scrolled": false
   },
   "outputs": [
    {
     "ename": "ValueError",
     "evalue": "Can't load save_path when it is None.",
     "output_type": "error",
     "traceback": [
      "\u001b[0;31m---------------------------------------------------------------------------\u001b[0m",
      "\u001b[0;31mValueError\u001b[0m                                Traceback (most recent call last)",
      "\u001b[0;32m<ipython-input-6-2d47d0de65a2>\u001b[0m in \u001b[0;36m<module>\u001b[0;34m()\u001b[0m\n\u001b[1;32m      1\u001b[0m \u001b[0;32mif\u001b[0m \u001b[0manalysis_params\u001b[0m\u001b[0;34m[\u001b[0m\u001b[0;34m\"clobber\"\u001b[0m\u001b[0;34m]\u001b[0m\u001b[0;34m:\u001b[0m\u001b[0;34m\u001b[0m\u001b[0m\n\u001b[1;32m      2\u001b[0m   analyzer.run_analysis(data[\"train\"].images[:analysis_params[\"cov_num_images\"], ...],\n\u001b[0;32m----> 3\u001b[0;31m     save_info=analysis_params[\"suffix\"])\n\u001b[0m\u001b[1;32m      4\u001b[0m \u001b[0;32melse\u001b[0m\u001b[0;34m:\u001b[0m\u001b[0;34m\u001b[0m\u001b[0m\n\u001b[1;32m      5\u001b[0m   \u001b[0manalyzer\u001b[0m\u001b[0;34m.\u001b[0m\u001b[0mload_analysis\u001b[0m\u001b[0;34m(\u001b[0m\u001b[0msave_info\u001b[0m\u001b[0;34m=\u001b[0m\u001b[0manalysis_params\u001b[0m\u001b[0;34m[\u001b[0m\u001b[0;34m\"suffix\"\u001b[0m\u001b[0;34m]\u001b[0m\u001b[0;34m)\u001b[0m\u001b[0;34m\u001b[0m\u001b[0m\n",
      "\u001b[0;32m~/Work/DeepSparseCoding/analysis/lca_pca_analyzer.py\u001b[0m in \u001b[0;36mrun_analysis\u001b[0;34m(self, images, save_info)\u001b[0m\n\u001b[1;32m     20\u001b[0m \u001b[0;34m\u001b[0m\u001b[0m\n\u001b[1;32m     21\u001b[0m   \u001b[0;32mdef\u001b[0m \u001b[0mrun_analysis\u001b[0m\u001b[0;34m(\u001b[0m\u001b[0mself\u001b[0m\u001b[0;34m,\u001b[0m \u001b[0mimages\u001b[0m\u001b[0;34m,\u001b[0m \u001b[0msave_info\u001b[0m\u001b[0;34m=\u001b[0m\u001b[0;34m\"\"\u001b[0m\u001b[0;34m)\u001b[0m\u001b[0;34m:\u001b[0m\u001b[0;34m\u001b[0m\u001b[0m\n\u001b[0;32m---> 22\u001b[0;31m     \u001b[0msuper\u001b[0m\u001b[0;34m(\u001b[0m\u001b[0mLCA_PCA\u001b[0m\u001b[0;34m,\u001b[0m \u001b[0mself\u001b[0m\u001b[0;34m)\u001b[0m\u001b[0;34m.\u001b[0m\u001b[0mrun_analysis\u001b[0m\u001b[0;34m(\u001b[0m\u001b[0mimages\u001b[0m\u001b[0;34m,\u001b[0m \u001b[0msave_info\u001b[0m\u001b[0;34m)\u001b[0m\u001b[0;34m\u001b[0m\u001b[0m\n\u001b[0m\u001b[1;32m     23\u001b[0m     \u001b[0mself\u001b[0m\u001b[0;34m.\u001b[0m\u001b[0mcov\u001b[0m \u001b[0;34m=\u001b[0m \u001b[0mself\u001b[0m\u001b[0;34m.\u001b[0m\u001b[0manalyze_cov\u001b[0m\u001b[0;34m(\u001b[0m\u001b[0mimages\u001b[0m\u001b[0;34m)\u001b[0m\u001b[0;34m\u001b[0m\u001b[0m\n\u001b[1;32m     24\u001b[0m     \u001b[0mself\u001b[0m\u001b[0;34m.\u001b[0m\u001b[0mevec_atas\u001b[0m \u001b[0;34m=\u001b[0m \u001b[0mself\u001b[0m\u001b[0;34m.\u001b[0m\u001b[0mcompute_atas\u001b[0m\u001b[0;34m(\u001b[0m\u001b[0mself\u001b[0m\u001b[0;34m.\u001b[0m\u001b[0mcov\u001b[0m\u001b[0;34m[\u001b[0m\u001b[0;34m\"a2\"\u001b[0m\u001b[0;34m]\u001b[0m\u001b[0;34m,\u001b[0m \u001b[0mimages\u001b[0m\u001b[0;34m)\u001b[0m\u001b[0;34m\u001b[0m\u001b[0m\n",
      "\u001b[0;32m~/Work/DeepSparseCoding/analysis/lca_analyzer.py\u001b[0m in \u001b[0;36mrun_analysis\u001b[0;34m(self, images, save_info)\u001b[0m\n\u001b[1;32m     19\u001b[0m   \u001b[0;32mdef\u001b[0m \u001b[0mrun_analysis\u001b[0m\u001b[0;34m(\u001b[0m\u001b[0mself\u001b[0m\u001b[0;34m,\u001b[0m \u001b[0mimages\u001b[0m\u001b[0;34m,\u001b[0m \u001b[0msave_info\u001b[0m\u001b[0;34m=\u001b[0m\u001b[0;34m\"\"\u001b[0m\u001b[0;34m)\u001b[0m\u001b[0;34m:\u001b[0m\u001b[0;34m\u001b[0m\u001b[0m\n\u001b[1;32m     20\u001b[0m     \u001b[0mself\u001b[0m\u001b[0;34m.\u001b[0m\u001b[0mrun_stats\u001b[0m \u001b[0;34m=\u001b[0m \u001b[0mself\u001b[0m\u001b[0;34m.\u001b[0m\u001b[0mget_log_stats\u001b[0m\u001b[0;34m(\u001b[0m\u001b[0;34m)\u001b[0m\u001b[0;34m\u001b[0m\u001b[0m\n\u001b[0;32m---> 21\u001b[0;31m     \u001b[0mself\u001b[0m\u001b[0;34m.\u001b[0m\u001b[0mevals\u001b[0m \u001b[0;34m=\u001b[0m \u001b[0mself\u001b[0m\u001b[0;34m.\u001b[0m\u001b[0mevaluate_model\u001b[0m\u001b[0;34m(\u001b[0m\u001b[0mimages\u001b[0m\u001b[0;34m,\u001b[0m \u001b[0mself\u001b[0m\u001b[0;34m.\u001b[0m\u001b[0mvar_names\u001b[0m\u001b[0;34m)\u001b[0m\u001b[0;34m\u001b[0m\u001b[0m\n\u001b[0m\u001b[1;32m     22\u001b[0m     \u001b[0mself\u001b[0m\u001b[0;34m.\u001b[0m\u001b[0matas\u001b[0m \u001b[0;34m=\u001b[0m \u001b[0mself\u001b[0m\u001b[0;34m.\u001b[0m\u001b[0mcompute_atas\u001b[0m\u001b[0;34m(\u001b[0m\u001b[0mself\u001b[0m\u001b[0;34m.\u001b[0m\u001b[0mevals\u001b[0m\u001b[0;34m[\u001b[0m\u001b[0;34m\"inference/activity:0\"\u001b[0m\u001b[0;34m]\u001b[0m\u001b[0;34m,\u001b[0m \u001b[0mimages\u001b[0m\u001b[0;34m)\u001b[0m\u001b[0;34m\u001b[0m\u001b[0m\n\u001b[1;32m     23\u001b[0m     image_indices = np.random.choice(np.arange(images.shape[0]), self.num_inference_images,\n",
      "\u001b[0;32m~/Work/DeepSparseCoding/analysis/base_analysis.py\u001b[0m in \u001b[0;36mevaluate_model\u001b[0;34m(self, images, var_names)\u001b[0m\n\u001b[1;32m     58\u001b[0m     \u001b[0;32mwith\u001b[0m \u001b[0mtf\u001b[0m\u001b[0;34m.\u001b[0m\u001b[0mSession\u001b[0m\u001b[0;34m(\u001b[0m\u001b[0mgraph\u001b[0m\u001b[0;34m=\u001b[0m\u001b[0mself\u001b[0m\u001b[0;34m.\u001b[0m\u001b[0mmodel\u001b[0m\u001b[0;34m.\u001b[0m\u001b[0mgraph\u001b[0m\u001b[0;34m)\u001b[0m \u001b[0;32mas\u001b[0m \u001b[0msess\u001b[0m\u001b[0;34m:\u001b[0m\u001b[0;34m\u001b[0m\u001b[0m\n\u001b[1;32m     59\u001b[0m       \u001b[0msess\u001b[0m\u001b[0;34m.\u001b[0m\u001b[0mrun\u001b[0m\u001b[0;34m(\u001b[0m\u001b[0mself\u001b[0m\u001b[0;34m.\u001b[0m\u001b[0mmodel\u001b[0m\u001b[0;34m.\u001b[0m\u001b[0minit_op\u001b[0m\u001b[0;34m,\u001b[0m \u001b[0mfeed_dict\u001b[0m\u001b[0;34m)\u001b[0m\u001b[0;34m\u001b[0m\u001b[0m\n\u001b[0;32m---> 60\u001b[0;31m       \u001b[0mself\u001b[0m\u001b[0;34m.\u001b[0m\u001b[0mmodel\u001b[0m\u001b[0;34m.\u001b[0m\u001b[0mload_weights\u001b[0m\u001b[0;34m(\u001b[0m\u001b[0msess\u001b[0m\u001b[0;34m,\u001b[0m \u001b[0mself\u001b[0m\u001b[0;34m.\u001b[0m\u001b[0mcp_loc\u001b[0m\u001b[0;34m)\u001b[0m\u001b[0;34m\u001b[0m\u001b[0m\n\u001b[0m\u001b[1;32m     61\u001b[0m       \u001b[0mtensors\u001b[0m \u001b[0;34m=\u001b[0m \u001b[0;34m[\u001b[0m\u001b[0mself\u001b[0m\u001b[0;34m.\u001b[0m\u001b[0mmodel\u001b[0m\u001b[0;34m.\u001b[0m\u001b[0mgraph\u001b[0m\u001b[0;34m.\u001b[0m\u001b[0mget_tensor_by_name\u001b[0m\u001b[0;34m(\u001b[0m\u001b[0mname\u001b[0m\u001b[0;34m)\u001b[0m \u001b[0;32mfor\u001b[0m \u001b[0mname\u001b[0m \u001b[0;32min\u001b[0m \u001b[0mvar_names\u001b[0m\u001b[0;34m]\u001b[0m\u001b[0;34m\u001b[0m\u001b[0m\n\u001b[1;32m     62\u001b[0m       \u001b[0meval_list\u001b[0m \u001b[0;34m=\u001b[0m \u001b[0msess\u001b[0m\u001b[0;34m.\u001b[0m\u001b[0mrun\u001b[0m\u001b[0;34m(\u001b[0m\u001b[0mtensors\u001b[0m\u001b[0;34m,\u001b[0m \u001b[0mfeed_dict\u001b[0m\u001b[0;34m)\u001b[0m\u001b[0;34m\u001b[0m\u001b[0m\n",
      "\u001b[0;32m~/Work/DeepSparseCoding/models/base_model.py\u001b[0m in \u001b[0;36mload_weights\u001b[0;34m(self, session, model_dir)\u001b[0m\n\u001b[1;32m    332\u001b[0m       \u001b[0mmodel_dir\u001b[0m\u001b[0;34m:\u001b[0m \u001b[0mString\u001b[0m \u001b[0mspecifying\u001b[0m \u001b[0mthe\u001b[0m \u001b[0mpath\u001b[0m \u001b[0mto\u001b[0m \u001b[0mthe\u001b[0m \u001b[0mcheckpoint\u001b[0m\u001b[0;34m\u001b[0m\u001b[0m\n\u001b[1;32m    333\u001b[0m     \"\"\"\n\u001b[0;32m--> 334\u001b[0;31m     \u001b[0mself\u001b[0m\u001b[0;34m.\u001b[0m\u001b[0mweight_saver\u001b[0m\u001b[0;34m.\u001b[0m\u001b[0mrestore\u001b[0m\u001b[0;34m(\u001b[0m\u001b[0msession\u001b[0m\u001b[0;34m,\u001b[0m \u001b[0mmodel_dir\u001b[0m\u001b[0;34m)\u001b[0m\u001b[0;34m\u001b[0m\u001b[0m\n\u001b[0m\u001b[1;32m    335\u001b[0m \u001b[0;34m\u001b[0m\u001b[0m\n\u001b[1;32m    336\u001b[0m   \u001b[0;32mdef\u001b[0m \u001b[0mget_schedule\u001b[0m\u001b[0;34m(\u001b[0m\u001b[0mself\u001b[0m\u001b[0;34m,\u001b[0m \u001b[0mkey\u001b[0m\u001b[0;34m=\u001b[0m\u001b[0;32mNone\u001b[0m\u001b[0;34m)\u001b[0m\u001b[0;34m:\u001b[0m\u001b[0;34m\u001b[0m\u001b[0m\n",
      "\u001b[0;32m~/tensorflow/lib/python3.4/site-packages/tensorflow/python/training/saver.py\u001b[0m in \u001b[0;36mrestore\u001b[0;34m(self, sess, save_path)\u001b[0m\n\u001b[1;32m   1660\u001b[0m       \u001b[0;32mreturn\u001b[0m\u001b[0;34m\u001b[0m\u001b[0m\n\u001b[1;32m   1661\u001b[0m     \u001b[0;32mif\u001b[0m \u001b[0msave_path\u001b[0m \u001b[0;32mis\u001b[0m \u001b[0;32mNone\u001b[0m\u001b[0;34m:\u001b[0m\u001b[0;34m\u001b[0m\u001b[0m\n\u001b[0;32m-> 1662\u001b[0;31m       \u001b[0;32mraise\u001b[0m \u001b[0mValueError\u001b[0m\u001b[0;34m(\u001b[0m\u001b[0;34m\"Can't load save_path when it is None.\"\u001b[0m\u001b[0;34m)\u001b[0m\u001b[0;34m\u001b[0m\u001b[0m\n\u001b[0m\u001b[1;32m   1663\u001b[0m     \u001b[0mlogging\u001b[0m\u001b[0;34m.\u001b[0m\u001b[0minfo\u001b[0m\u001b[0;34m(\u001b[0m\u001b[0;34m\"Restoring parameters from %s\"\u001b[0m\u001b[0;34m,\u001b[0m \u001b[0msave_path\u001b[0m\u001b[0;34m)\u001b[0m\u001b[0;34m\u001b[0m\u001b[0m\n\u001b[1;32m   1664\u001b[0m     \u001b[0;32mif\u001b[0m \u001b[0mcontext\u001b[0m\u001b[0;34m.\u001b[0m\u001b[0min_graph_mode\u001b[0m\u001b[0;34m(\u001b[0m\u001b[0;34m)\u001b[0m\u001b[0;34m:\u001b[0m\u001b[0;34m\u001b[0m\u001b[0m\n",
      "\u001b[0;31mValueError\u001b[0m: Can't load save_path when it is None."
     ]
    }
   ],
   "source": [
    "if analysis_params[\"clobber\"]:\n",
    "  analyzer.run_analysis(data[\"train\"].images[:analysis_params[\"cov_num_images\"], ...],\n",
    "    save_info=analysis_params[\"suffix\"])\n",
    "else:\n",
    "  analyzer.load_analysis(save_info=analysis_params[\"suffix\"])"
   ]
  },
  {
   "cell_type": "markdown",
   "metadata": {},
   "source": [
    "## Construct analysis plots"
   ]
  },
  {
   "cell_type": "markdown",
   "metadata": {},
   "source": [
    "### Run statistics"
   ]
  },
  {
   "cell_type": "code",
   "execution_count": null,
   "metadata": {
    "collapsed": true
   },
   "outputs": [],
   "source": [
    "fig = pf.plot_stats(analyzer.run_stats,\n",
    "  keys=[\"a_fraction_active\", \"recon_loss\", \"sparse_loss\", \"total_loss\"],\n",
    "  labels=[\"activity\", \"recon loss\", \"sparse loss\", \"total loss\"])\n",
    "fig.savefig(analyzer.analysis_out_dir+\"fig_run_stats.png\")"
   ]
  },
  {
   "cell_type": "markdown",
   "metadata": {},
   "source": [
    "### Neural inputs during inference"
   ]
  },
  {
   "cell_type": "code",
   "execution_count": null,
   "metadata": {
    "collapsed": true
   },
   "outputs": [],
   "source": [
    "fig = pf.plot_inference_stats(analyzer.inference_stats, title=\"Average Loss Statistics During Inference\")\n",
    "fig.savefig(analyzer.analysis_out_dir+\"fig_inference_stats.pdf\")"
   ]
  },
  {
   "cell_type": "code",
   "execution_count": null,
   "metadata": {
    "collapsed": true
   },
   "outputs": [],
   "source": [
    "fig = pf.plot_inference_traces(analyzer.inference_stats, analyzer.model_schedule[0][\"sparse_mult\"], 0)\n",
    "fig.savefig(analyzer.analysis_out_dir+\"fig_inference_traces.pdf\")"
   ]
  },
  {
   "cell_type": "markdown",
   "metadata": {},
   "source": [
    "### Activity triggered averages"
   ]
  },
  {
   "cell_type": "code",
   "execution_count": null,
   "metadata": {
    "collapsed": true
   },
   "outputs": [],
   "source": [
    "num_pixels, num_neurons = analyzer.atas.shape\n",
    "fig = pf.plot_data_tiled(analyzer.atas.T.reshape(num_neurons,\n",
    "  int(np.sqrt(num_pixels)), int(np.sqrt(num_pixels))), normalize=False,\n",
    "  title=\"Activity triggered averages on image data\")\n",
    "fig.savefig(analyzer.analysis_out_dir+\"fig_l1_atas.png\")"
   ]
  },
  {
   "cell_type": "code",
   "execution_count": null,
   "metadata": {
    "collapsed": true
   },
   "outputs": [],
   "source": [
    "num_pixels, num_neurons = analyzer.evec_atas.shape\n",
    "fig = pf.plot_data_tiled(analyzer.evec_atas.T.reshape(num_neurons,\n",
    "  int(np.sqrt(num_pixels)), int(np.sqrt(num_pixels))), normalize=True,\n",
    "  title=\"Eigen Vector activity triggered averages on image data\")\n",
    "fig.savefig(analyzer.analysis_out_dir+\"fig_atas_eigen.png\")"
   ]
  },
  {
   "cell_type": "code",
   "execution_count": null,
   "metadata": {
    "collapsed": true
   },
   "outputs": [],
   "source": [
    "def plot_weights(weights):\n",
    "  num_plots = weights.shape[0]\n",
    "  num_plots_y = int(np.ceil(np.sqrt(num_plots))+1)\n",
    "  num_plots_x = int(np.floor(np.sqrt(num_plots)))\n",
    "  fig, sub_ax = plt.subplots(num_plots_y, num_plots_x, figsize=(18,18))\n",
    "  filter_total = 0\n",
    "  for plot_id in  np.ndindex((num_plots_y, num_plots_x)):\n",
    "    if filter_total < num_plots:\n",
    "      sub_ax[plot_id].imshow(weights[filter_total, ...], cmap=\"Greys_r\")\n",
    "      filter_total += 1\n",
    "    pf.clear_axis(sub_ax[plot_id])\n",
    "    sub_ax[plot_id].set_aspect(\"equal\")\n",
    "  plt.show()\n",
    "  return fig"
   ]
  },
  {
   "cell_type": "code",
   "execution_count": null,
   "metadata": {
    "collapsed": true
   },
   "outputs": [],
   "source": [
    "import matplotlib.pyplot as plt\n",
    "num_pixels, num_neurons = analyzer.evec_atas.shape\n",
    "fig = plot_weights(analyzer.evec_atas.T.reshape(num_neurons, int(np.sqrt(num_pixels)), int(np.sqrt(num_pixels))))\n",
    "fig.savefig(analyzer.analysis_out_dir+\"fig_atas_evec.png\")"
   ]
  },
  {
   "cell_type": "code",
   "execution_count": null,
   "metadata": {
    "collapsed": true
   },
   "outputs": [],
   "source": [
    "num_pixels, num_neurons = analyzer.pool_atas.shape\n",
    "fig = plot_weights(analyzer.pool_atas.T.reshape(num_neurons, int(np.sqrt(num_pixels)), int(np.sqrt(num_pixels))))\n",
    "fig.savefig(analyzer.analysis_out_dir+\"fig_atas_pool.png\")"
   ]
  },
  {
   "cell_type": "markdown",
   "metadata": {},
   "source": [
    "### Activity covariance matrix summaries"
   ]
  },
  {
   "cell_type": "code",
   "execution_count": null,
   "metadata": {
    "collapsed": true
   },
   "outputs": [],
   "source": [
    "fig = pf.plot_cov_matrix(analyzer.cov[\"act_cov\"], str(analysis_params[\"cov_num_images\"]))\n",
    "fig.savefig(analyzer.analysis_out_dir+\"fig_covariance_matrix.png\")"
   ]
  },
  {
   "cell_type": "code",
   "execution_count": null,
   "metadata": {
    "collapsed": true
   },
   "outputs": [],
   "source": [
    "fig = pf.plot_eigenvalues(analyzer.cov[\"a_eigvals\"], ylim=[0,100])\n",
    "fig.savefig(analyzer.analysis_out_dir+\"fig_eigenvalues.png\")"
   ]
  },
  {
   "cell_type": "code",
   "execution_count": null,
   "metadata": {
    "collapsed": true,
    "scrolled": false
   },
   "outputs": [],
   "source": [
    "num_random_bases = 10\n",
    "num_top_cov_bases = 10\n",
    "bf_indices = np.random.choice(np.arange(analyzer.cov[\"act_cov\"].shape[0]), num_random_bases)\n",
    "fig = pf.plot_top_bases(analyzer.cov[\"act_cov\"], analyzer.evals[\"weights/phi:0\"],\n",
    "  bf_indices, num_top_cov_bases)\n",
    "fig.savefig(analyzer.analysis_out_dir+\"fig_top_cov_bases.png\")"
   ]
  },
  {
   "cell_type": "markdown",
   "metadata": {},
   "source": [
    "### Basis function analysis"
   ]
  },
  {
   "cell_type": "code",
   "execution_count": null,
   "metadata": {
    "collapsed": true,
    "scrolled": false
   },
   "outputs": [],
   "source": [
    "fig = pf.plot_hilbert_analysis(analyzer.evals[\"weights/phi:0\"], analysis_params[\"ft_padding\"])\n",
    "fig.savefig(analyzer.analysis_out_dir+\"fig_hilbert_analysis.png\")"
   ]
  },
  {
   "cell_type": "code",
   "execution_count": null,
   "metadata": {
    "collapsed": true
   },
   "outputs": [],
   "source": [
    "fig = pf.plot_loc_freq_summary(analyzer.bf_stats)\n",
    "fig.savefig(analyzer.analysis_out_dir+\"fig_location_frequency_centers.png\")"
   ]
  },
  {
   "cell_type": "code",
   "execution_count": null,
   "metadata": {
    "collapsed": true,
    "scrolled": false
   },
   "outputs": [],
   "source": [
    "fig = pf.plot_bf_stats(analyzer.bf_stats, num_bf=10)\n",
    "fig.savefig(analyzer.analysis_out_dir+\"fig_basis_function_summary_stats.png\")"
   ]
  },
  {
   "cell_type": "code",
   "execution_count": null,
   "metadata": {
    "collapsed": true
   },
   "outputs": [],
   "source": [
    "fig = pf.plot_gaussian_contours(analyzer.bf_stats, num_plots=128)\n",
    "fig.savefig(analyzer.analysis_out_dir+\"fig_gauss_contours.png\")"
   ]
  },
  {
   "cell_type": "markdown",
   "metadata": {},
   "source": [
    "### Pooling and eigen summary plots"
   ]
  },
  {
   "cell_type": "code",
   "execution_count": null,
   "metadata": {
    "collapsed": true,
    "scrolled": false,
    "slideshow": {
     "slide_type": "-"
    }
   },
   "outputs": [],
   "source": [
    "fig = pf.plot_ellipse_summaries(analyzer.bf_stats, num_bf=1000, lines=True)\n",
    "fig.savefig(analyzer.analysis_out_dir+\"fig_ellipse_fitting_summary.png\")"
   ]
  },
  {
   "cell_type": "code",
   "execution_count": null,
   "metadata": {
    "collapsed": true,
    "scrolled": false
   },
   "outputs": [],
   "source": [
    "num_pooling_filters = 64 # How many 2nd layer filters to display\n",
    "num_connected_weights = analyzer.model.num_neurons # How many of strongest connected weight summaries to show\n",
    "fig = pf.plot_pooling_summaries(analyzer.bf_stats, analyzer.cov[\"a_eigvecs\"],\n",
    "  num_pooling_filters, num_connected_weights, lines=True)\n",
    "fig.savefig(analyzer.analysis_out_dir+\"fig_eigen_pooling_lines.png\")"
   ]
  },
  {
   "cell_type": "code",
   "execution_count": null,
   "metadata": {
    "collapsed": true,
    "scrolled": false
   },
   "outputs": [],
   "source": [
    "num_pooling_filters = 64\n",
    "fig_size = (10, 10)\n",
    "spot_size = 60\n",
    "fig = pf.plot_pooling_centers(analyzer.bf_stats, analyzer.cov[\"a_eigvecs\"],\n",
    "  num_pooling_filters, fig_size, spot_size)\n",
    "fig.savefig(analyzer.analysis_out_dir+\"fig_eigen_pooling_centers.png\", bbox_inches=\"tight\")"
   ]
  },
  {
   "cell_type": "code",
   "execution_count": null,
   "metadata": {
    "collapsed": true,
    "scrolled": false
   },
   "outputs": [],
   "source": [
    "num_pooling_filters = 25\n",
    "num_connected_weights = analyzer.model.num_neurons\n",
    "fig = pf.plot_pooling_summaries(analyzer.bf_stats, analyzer.cov[\"pooling_filters\"], num_pooling_filters,\n",
    "  num_connected_weights, lines=True)\n",
    "fig.savefig(analyzer.analysis_out_dir+\"fig_reduc_pooling_lines.png\")"
   ]
  },
  {
   "cell_type": "code",
   "execution_count": null,
   "metadata": {
    "collapsed": true
   },
   "outputs": [],
   "source": [
    "num_pooling_filters = 25\n",
    "fig_size = (10, 10)\n",
    "spot_size = 60\n",
    "fig = pf.plot_pooling_centers(analyzer.bf_stats, analyzer.cov[\"pooling_filters\"], num_pooling_filters,\n",
    "  fig_size, spot_size)\n",
    "fig.savefig(analyzer.analysis_out_dir+\"fig_reduc_pooling_centers.png\", bbox_inches=\"tight\")"
   ]
  }
 ],
 "metadata": {
  "kernelspec": {
   "display_name": "Python 3",
   "language": "python",
   "name": "python3"
  },
  "language_info": {
   "codemirror_mode": {
    "name": "ipython",
    "version": 3
   },
   "file_extension": ".py",
   "mimetype": "text/x-python",
   "name": "python",
   "nbconvert_exporter": "python",
   "pygments_lexer": "ipython3",
   "version": "3.4.3"
  }
 },
 "nbformat": 4,
 "nbformat_minor": 1
}
