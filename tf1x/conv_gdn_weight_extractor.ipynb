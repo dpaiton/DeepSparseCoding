{
 "cells": [
  {
   "cell_type": "code",
   "execution_count": 11,
   "metadata": {},
   "outputs": [],
   "source": [
    "import os\n",
    "import numpy as np\n",
    "import tensorflow as tf\n",
    "from utils.logger import Logger\n",
    "import models.model_picker as mp"
   ]
  },
  {
   "cell_type": "code",
   "execution_count": 14,
   "metadata": {},
   "outputs": [],
   "source": [
    "model_name = \"conv_gdn_autoencoder_dropout\"\n",
    "model_version = \"1.0\"\n",
    "model_log_file = \"/home/dpaiton/Work/Projects/\"+model_name+\"/logfiles/\"+model_name+\"_v\"+model_version+\".log\"\n",
    "\n",
    "model_logger = Logger(model_log_file, overwrite=False)\n",
    "model_log_text = model_logger.load_file()\n",
    "model_params = model_logger.read_params(model_log_text)[-1]\n",
    "\n",
    "model_schedule = model_logger.read_schedule(model_log_text)"
   ]
  },
  {
   "cell_type": "code",
   "execution_count": 15,
   "metadata": {},
   "outputs": [],
   "source": [
    "num_logged_input_channels = len(model_params.input_channels)\n",
    "model_params.input_channels = model_params.input_channels[:num_logged_input_channels//2]\n",
    "num_logged_output_channels = len(model_params.output_channels)\n",
    "model_params.output_channels = model_params.output_channels[:num_logged_output_channels//2]\n",
    "num_logged_strides = len(model_params.strides)\n",
    "model_params.strides = model_params.strides[:num_logged_strides//2]"
   ]
  },
  {
   "cell_type": "code",
   "execution_count": 16,
   "metadata": {},
   "outputs": [],
   "source": [
    "model_params.model_dir = (os.path.expanduser(\"~\")+\"/Work/Projects/\"+model_params.model_name)\n",
    "\n",
    "analysis_out_dir = model_params.model_dir+\"/analysis/\"+model_params.version+\"/\"\n",
    "if not os.path.exists(analysis_out_dir):\n",
    "  os.makedirs(analysis_out_dir)\n",
    "analysis_log_file = analysis_out_dir+\"analysis.log\"\n",
    "model_params.model_out_dir = analysis_out_dir\n",
    "model_params.cp_load = True\n",
    "model_params.cp_load_name = model_name\n",
    "model_params.cp_load_step = None\n",
    "model_params.cp_load_ver = \"1.0\"\n",
    "model_params.cp_load_dir = model_params.model_dir+\"/checkpoints/\""
   ]
  },
  {
   "cell_type": "code",
   "execution_count": 17,
   "metadata": {},
   "outputs": [],
   "source": [
    "model_params.gdn_w_init_const = 0.1\n",
    "model_params.gdn_b_init_const = 0.1\n",
    "model_params.gdn_w_thresh_min = 1e-6\n",
    "model_params.gdn_b_thresh_min = 1e-6\n",
    "model_params.gdn_eps = 1e-6"
   ]
  },
  {
   "cell_type": "code",
   "execution_count": 18,
   "metadata": {},
   "outputs": [
    {
     "name": "stderr",
     "output_type": "stream",
     "text": [
      "/home/dpaiton/Work/DeepSparseCoding/utils/get_data.py:55: FutureWarning: Using a non-tuple sequence for multidimensional indexing is deprecated; use `arr[tuple(seq)]` instead of `arr[seq]`. In the future this will be interpreted as an array index, `arr[np.array(seq)]`, which will result either in an error or a different result.\n",
      "  Rs_min = Rs[min_Vs_indx]\n",
      "/home/dpaiton/Work/DeepSparseCoding/utils/get_data.py:56: FutureWarning: Using a non-tuple sequence for multidimensional indexing is deprecated; use `arr[tuple(seq)]` instead of `arr[seq]`. In the future this will be interpreted as an array index, `arr[np.array(seq)]`, which will result either in an error or a different result.\n",
      "  Rs_max = Rs[max_Vs_indx]\n",
      "/home/dpaiton/Work/DeepSparseCoding/utils/get_data.py:57: FutureWarning: Using a non-tuple sequence for multidimensional indexing is deprecated; use `arr[tuple(seq)]` instead of `arr[seq]`. In the future this will be interpreted as an array index, `arr[np.array(seq)]`, which will result either in an error or a different result.\n",
      "  Vs_min = Vs[min_Vs_indx] - delta_V\n",
      "/home/dpaiton/Work/DeepSparseCoding/utils/get_data.py:58: FutureWarning: Using a non-tuple sequence for multidimensional indexing is deprecated; use `arr[tuple(seq)]` instead of `arr[seq]`. In the future this will be interpreted as an array index, `arr[np.array(seq)]`, which will result either in an error or a different result.\n",
      "  Vs_max = Vs[max_Vs_indx] + delta_V\n"
     ]
    }
   ],
   "source": [
    "model = mp.get_model(model_params.model_type)\n",
    "#model.w_init_list = [None,]*num_layers/2+[np.loadz(\"path_to_w\"+idx) for idx in range(3,6)]\n",
    "#...\n",
    "model.setup(model_params)"
   ]
  },
  {
   "cell_type": "code",
   "execution_count": 19,
   "metadata": {},
   "outputs": [
    {
     "name": "stdout",
     "output_type": "stream",
     "text": [
      "INFO:tensorflow:Restoring parameters from /home/dpaiton/Work/Projects/conv_gdn_autoencoder_dropout/checkpoints/conv_gdn_autoencoder_dropout_v0.0_weights-100000\n"
     ]
    }
   ],
   "source": [
    "feed_dict = model.get_feed_dict(np.zeros([model_params.batch_size]+model_params.data_shape, dtype=np.float32))\n",
    "config = tf.compat.v1.ConfigProto()\n",
    "config.gpu_options.allow_growth = True\n",
    "with tf.compat.v1.Session(config=config, graph=model.graph) as sess:\n",
    "  sess.run(model.init_op, feed_dict)\n",
    "  cp_load_file = tf.train.latest_checkpoint(model.cp_load_dir, model.cp_latest_filename)\n",
    "  model.load_weights(sess, cp_load_file)\n",
    "  tensors = [model.w_list, model.w_gdn_list, model.b_list, model.b_gdn_list]\n",
    "  eval_list = sess.run(tensors, feed_dict)"
   ]
  },
  {
   "cell_type": "code",
   "execution_count": 20,
   "metadata": {},
   "outputs": [
    {
     "name": "stdout",
     "output_type": "stream",
     "text": [
      "weight  3   (4, 4, 64, 28)\n",
      "weight  4   (9, 9, 128, 64)\n",
      "weight  5   (8, 8, 1, 128)\n",
      "gdn  3   (64, 64)\n",
      "gdn  4   (128, 128)\n",
      "b  3   (64,)\n",
      "b  4   (128,)\n",
      "b  5   (1,)\n",
      "b_gdn 3   (64,)\n",
      "b_gdn 4   (128,)\n"
     ]
    }
   ],
   "source": [
    "num_weights = len(eval_list[0])\n",
    "half_weight_idx = int((num_weights/2))\n",
    "decode_weights_list = eval_list[0][half_weight_idx:]\n",
    "for decode_idx, decode_weights in enumerate(decode_weights_list):\n",
    "  w_idx = str(decode_idx+half_weight_idx)\n",
    "  print(\"weight \",w_idx,\" \",decode_weights.shape)\n",
    "  np.savez(analysis_out_dir+\"w\"+w_idx+\".npz\", data=decode_weights)\n",
    "  \n",
    "decode_gdn_list = eval_list[1][half_weight_idx:]\n",
    "for decode_idx, decode_gdn in enumerate(decode_gdn_list):\n",
    "  w_idx = str(decode_idx+half_weight_idx)\n",
    "  print(\"gdn \",w_idx,\" \",decode_gdn.shape)\n",
    "  np.savez(analysis_out_dir+\"w_gdn\"+w_idx+\".npz\", data=decode_gdn)\n",
    "\n",
    "decode_b_list = eval_list[2][half_weight_idx:]\n",
    "for decode_idx, decode_b in enumerate(decode_b_list):\n",
    "  w_idx = str(decode_idx+half_weight_idx)\n",
    "  print(\"b \",w_idx,\" \",decode_b.shape)\n",
    "  np.savez(analysis_out_dir+\"b\"+w_idx+\".npz\", data=decode_b)\n",
    "  \n",
    "decode_b_gdn_list = eval_list[3][half_weight_idx:]\n",
    "for decode_idx, decode_b_gdn in enumerate(decode_b_gdn_list):\n",
    "  w_idx = str(decode_idx+half_weight_idx)\n",
    "  print(\"b_gdn\", w_idx, \" \", decode_b_gdn.shape)\n",
    "  np.savez(analysis_out_dir+\"b_gdn\"+w_idx+\".npz\", data=decode_b_gdn)"
   ]
  },
  {
   "cell_type": "code",
   "execution_count": null,
   "metadata": {},
   "outputs": [],
   "source": []
  }
 ],
 "metadata": {
  "kernelspec": {
   "display_name": "Python 3",
   "language": "python",
   "name": "python3"
  },
  "language_info": {
   "codemirror_mode": {
    "name": "ipython",
    "version": 3
   },
   "file_extension": ".py",
   "mimetype": "text/x-python",
   "name": "python",
   "nbconvert_exporter": "python",
   "pygments_lexer": "ipython3",
   "version": "3.6.6"
  }
 },
 "nbformat": 4,
 "nbformat_minor": 2
}
