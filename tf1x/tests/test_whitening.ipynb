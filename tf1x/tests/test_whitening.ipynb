{
 "cells": [
  {
   "cell_type": "markdown",
   "metadata": {},
   "source": [
    "## Testing function for whitening code."
   ]
  },
  {
   "cell_type": "code",
   "execution_count": null,
   "metadata": {
    "scrolled": true
   },
   "outputs": [],
   "source": [
    "%matplotlib inline"
   ]
  },
  {
   "cell_type": "code",
   "execution_count": null,
   "metadata": {},
   "outputs": [],
   "source": [
    "import os\n",
    "import sys\n",
    "\n",
    "import numpy as np\n",
    "import matplotlib.pyplot as plt\n",
    "import tensorflow as tf\n",
    "\n",
    "root_path = os.path.dirname(os.path.dirname(os.path.dirname(os.getcwd())))\n",
    "if root_path not in sys.path: sys.path.append(root_path)\n",
    "\n",
    "import DeepSparseCoding.tf1x.data.data_selector as ds\n",
    "import DeepSparseCoding.tf1x.utils.plot_functions as pf\n",
    "import DeepSparseCoding.tf1x.utils.data_processing as dp"
   ]
  },
  {
   "cell_type": "code",
   "execution_count": null,
   "metadata": {},
   "outputs": [],
   "source": [
    "class data_params():\n",
    "  def __init__(self):\n",
    "    self.data_type = \"vanHateren\"\n",
    "    self.num_images = 2\n",
    "    self.extract_patches = False\n",
    "    self.patch_edge_size = 8\n",
    "    self.overlapping_patches = False\n",
    "    self.randomize_patches = False\n",
    "    self.image_edge_size = 256\n",
    "    self.patch_variance_threshold = 0\n",
    "    self.norm_data = False\n",
    "    self.whiten_data = False\n",
    "    self.contrast_normalize = False\n",
    "    self.data_dir = os.path.expanduser(\"~\")+\"/Work/Datasets/\"\n",
    "    self.rand_seed = 5\n",
    "params = data_params()"
   ]
  },
  {
   "cell_type": "code",
   "execution_count": null,
   "metadata": {},
   "outputs": [],
   "source": [
    "data = ds.get_data(params)"
   ]
  },
  {
   "cell_type": "code",
   "execution_count": null,
   "metadata": {},
   "outputs": [],
   "source": [
    "full_img = dp.reshape_data(data[\"train\"].images, flatten=False)[0]\n",
    "patches_per_image = int((512/params.patch_edge_size)**2)\n",
    "patch_shape = (int(params.num_images*patches_per_image), int(params.patch_edge_size),\n",
    "  int(params.patch_edge_size), 1)\n",
    "img_patches = dp.extract_patches(full_img, patch_shape, overlapping=params.overlapping_patches, \n",
    "  randomize=params.randomize_patches, var_thresh=params.patch_variance_threshold)\n",
    "recon_full_img = dp.patches_to_image(img_patches, full_img.shape)"
   ]
  },
  {
   "cell_type": "code",
   "execution_count": null,
   "metadata": {},
   "outputs": [],
   "source": [
    "test_img = full_img[0,...]\n",
    "test_patches = dp.extract_patches_from_single_image(test_img,\n",
    "  [params.patch_edge_size, params.patch_edge_size, 1])\n",
    "recon_test_img = dp.patches_to_image(test_patches, test_img.shape)\n",
    "assert np.max(np.abs(test_img - recon_test_img)) == 0.0"
   ]
  },
  {
   "cell_type": "code",
   "execution_count": null,
   "metadata": {},
   "outputs": [],
   "source": [
    "ft_wht_data, ft_data_mean, ft_filter = dp.whiten_data(full_img, method=\"FT\")\n",
    "ft_unwht_data = dp.unwhiten_data(ft_wht_data, ft_data_mean, ft_filter, method=\"FT\")\n",
    "\n",
    "pca_wht_patches, pca_data_mean, pca_filter = dp.whiten_data(img_patches, method=\"PCA\")\n",
    "pca_wht_data = dp.patches_to_image(pca_wht_patches, im_shape=full_img.shape)\n",
    "pca_unwht_patches = dp.unwhiten_data(pca_wht_patches, pca_data_mean, pca_filter, method=\"PCA\")\n",
    "pca_unwht_data = dp.patches_to_image(pca_unwht_patches, im_shape=full_img.shape)\n",
    "\n",
    "zca_wht_patches, zca_data_mean, zca_filter = dp.whiten_data(img_patches, method=\"ZCA\")\n",
    "zca_wht_data = dp.patches_to_image(zca_wht_patches, im_shape=full_img.shape)\n",
    "zca_unwht_patches = dp.unwhiten_data(zca_wht_patches, pca_data_mean, zca_filter, method=\"ZCA\")\n",
    "zca_unwht_data = dp.patches_to_image(zca_unwht_patches, im_shape=full_img.shape)"
   ]
  },
  {
   "cell_type": "code",
   "execution_count": null,
   "metadata": {
    "scrolled": false
   },
   "outputs": [],
   "source": [
    "data_set = [full_img, recon_full_img, full_img-recon_full_img, ft_wht_data, pca_wht_data, zca_wht_data,\n",
    "  ft_unwht_data, pca_unwht_data, zca_unwht_data]\n",
    "\n",
    "data_keys = [\"original\", \"unpatched\", \"original-unpatched\", \"ft_whitened\", \"pca_whitened\", \"zca_whitened\",\n",
    "  \"ft_unwhitened\", \"pca_unwhitened\", \"zca_unwhitened\"]\n",
    "img_idx = np.random.choice(params.num_images, 1)[0]\n",
    "num_plots_y = 3\n",
    "num_plots_x = 3\n",
    "fig, ax = plt.subplots(num_plots_y, num_plots_x, figsize=(20, 20))\n",
    "img_count = 0\n",
    "for plot_id in  np.ndindex((num_plots_y, num_plots_x)):\n",
    "  ax[plot_id] = pf.clear_axis(ax[plot_id])\n",
    "  if img_count < len(data_set):\n",
    "    ax[plot_id].imshow(np.squeeze(data_set[img_count][img_idx,...]), cmap=\"Greys_r\")\n",
    "    ax[plot_id].set_title(data_keys[img_count], fontsize=18)\n",
    "  img_count += 1\n",
    "plt.show()"
   ]
  },
  {
   "cell_type": "code",
   "execution_count": null,
   "metadata": {},
   "outputs": [],
   "source": [
    "pspec = dp.phase_avg_pow_spec(full_img)\n",
    "avg_pspec = np.mean(pspec, axis=0)\n",
    "\n",
    "ft_pspec = dp.phase_avg_pow_spec(ft_wht_data)\n",
    "avg_ft_pspec = np.mean(ft_pspec, axis=0)\n",
    "\n",
    "pca_pspec = dp.phase_avg_pow_spec(pca_wht_data)\n",
    "avg_pca_pspec = np.mean(pca_pspec, axis=0)\n",
    "\n",
    "zca_pspec = dp.phase_avg_pow_spec(zca_wht_data)\n",
    "avg_zca_pspec = np.mean(zca_pspec, axis=0)\n",
    "\n",
    "(fig, ax) = plt.subplots(1)\n",
    "ax.loglog(range(avg_pspec.shape[0]), avg_pspec, 'k', label=\"original\")\n",
    "ax.loglog(range(avg_ft_pspec.shape[0]), avg_ft_pspec, 'r', label=\"FT\")\n",
    "ax.loglog(range(avg_pca_pspec.shape[0]), avg_pca_pspec, 'b', label=\"PCA\")\n",
    "ax.loglog(range(avg_zca_pspec.shape[0]), avg_zca_pspec, 'g', label=\"ZCA\")\n",
    "ax.set_ylim([10**-4, 10**10])\n",
    "handles, labels = ax.get_legend_handles_labels()\n",
    "legend = ax.legend(handles, labels, fontsize=12, ncol=4,\n",
    "  borderaxespad=0., bbox_to_anchor=[0, -0.1], fancybox=True, loc=\"upper left\")\n",
    "plt.show()"
   ]
  }
 ],
 "metadata": {
  "kernelspec": {
   "display_name": "Python 3",
   "language": "python",
   "name": "python3"
  },
  "language_info": {
   "codemirror_mode": {
    "name": "ipython",
    "version": 3
   },
   "file_extension": ".py",
   "mimetype": "text/x-python",
   "name": "python",
   "nbconvert_exporter": "python",
   "pygments_lexer": "ipython3",
   "version": "3.6.8"
  },
  "varInspector": {
   "cols": {
    "lenName": 16,
    "lenType": 16,
    "lenVar": 40
   },
   "kernels_config": {
    "python": {
     "delete_cmd_postfix": "",
     "delete_cmd_prefix": "del ",
     "library": "var_list.py",
     "varRefreshCmd": "print(var_dic_list())"
    },
    "r": {
     "delete_cmd_postfix": ") ",
     "delete_cmd_prefix": "rm(",
     "library": "var_list.r",
     "varRefreshCmd": "cat(var_dic_list()) "
    }
   },
   "types_to_exclude": [
    "module",
    "function",
    "builtin_function_or_method",
    "instance",
    "_Feature"
   ],
   "window_display": false
  }
 },
 "nbformat": 4,
 "nbformat_minor": 1
}
