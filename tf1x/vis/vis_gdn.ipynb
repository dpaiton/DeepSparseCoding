{
 "cells": [
  {
   "cell_type": "markdown",
   "metadata": {},
   "source": [
    "## Imports"
   ]
  },
  {
   "cell_type": "code",
   "execution_count": null,
   "metadata": {
    "scrolled": true
   },
   "outputs": [],
   "source": [
    "import os\n",
    "import sys\n",
    "%env CUDA_VISIBLE_DEVICES=0\n",
    "%matplotlib inline"
   ]
  },
  {
   "cell_type": "code",
   "execution_count": null,
   "metadata": {},
   "outputs": [],
   "source": [
    "import numpy as np\n",
    "import matplotlib\n",
    "import matplotlib.pyplot as plt\n",
    "import matplotlib.gridspec as gridspec\n",
    "import tensorflow as tf\n",
    "\n",
    "root_path = os.path.dirname(os.path.dirname(os.path.dirname(os.getcwd())))\n",
    "if root_path not in sys.path: sys.path.append(root_path)\n",
    "\n",
    "import DeepSparseCoding.tf1x.data.data_selector as ds\n",
    "import DeepSparseCoding.tf1x.utils.data_processing as dp\n",
    "import DeepSparseCoding.tf1x.utils.plot_functions as pf\n",
    "import DeepSparseCoding.tf1x.analysis.analysis_picker as ap"
   ]
  },
  {
   "cell_type": "code",
   "execution_count": null,
   "metadata": {},
   "outputs": [],
   "source": [
    "class analysis_params(object):\n",
    "  model_type = \"gdn_autoencoder\"\n",
    "  model_name = \"gdn_autoencoder\"\n",
    "  version = \"1.0\"\n",
    "  save_info = \"analysis\"\n",
    "  overwrite_analysis = False\n",
    "\n",
    "# Computed params\n",
    "analysis_params.model_dir = (os.path.expanduser(\"~\")+\"/Work/Projects/\"+analysis_params.model_name+\"_bkp\")"
   ]
  },
  {
   "cell_type": "code",
   "execution_count": null,
   "metadata": {
    "scrolled": false
   },
   "outputs": [],
   "source": [
    "analyzer = ap.get_analyzer(analysis_params)\n",
    "analyzer.model.setup(analyzer.model_params)\n",
    "analyzer.load_analysis(save_info=analysis_params.save_info)"
   ]
  },
  {
   "cell_type": "code",
   "execution_count": null,
   "metadata": {
    "scrolled": false
   },
   "outputs": [],
   "source": [
    "keys=[\"a_fraction_active\",\n",
    "  \"a_max\",\n",
    "  \"a_min\",\n",
    "  \"b_dec_max_grad\",\n",
    "  \"b_dec_min_grad\",\n",
    "  \"b_enc_max_grad\",\n",
    "  \"b_enc_min_grad\",\n",
    "  \"entropy_loss\",\n",
    "  \"gdn_b_max_grad\",\n",
    "  \"gdn_b_min_grad\",\n",
    "  \"gdn_w_max_grad\",\n",
    "  \"gdn_w_min_grad\",\n",
    "  \"igdn_b_max_grad\",\n",
    "  \"igdn_b_min_grad\",\n",
    "  \"igdn_w_max_grad\",\n",
    "  \"igdn_w_min_grad\",\n",
    "  \"recon_loss\",\n",
    "  \"total_loss\",\n",
    "  \"w_dec_max_grad\",\n",
    "  \"w_dec_min_grad\",\n",
    "  \"w_enc_max_grad\",\n",
    "  \"w_enc_min_grad\"]\n",
    "\n",
    "labels=[\"act\",\n",
    "  \"a max\",\n",
    "  \"a min\",\n",
    "  \"b dec max grad\",\n",
    "  \"b dec min grad\",\n",
    "  \"b enc max grad\",\n",
    "  \"b enc min grad\",\n",
    "  \"entropy loss\",\n",
    "  \"gdn b max grad\",\n",
    "  \"gdn b min grad\",\n",
    "  \"gdn w max grad\",\n",
    "  \"gdn w min grad\",\n",
    "  \"igdn b max grad\",\n",
    "  \"igdn b min grad\",\n",
    "  \"igdn w max grad\",\n",
    "  \"igdn w min grad\",\n",
    "  \"recon loss\",\n",
    "  \"total loss\",\n",
    "  \"w dec max grad\",\n",
    "  \"w dec min grad\",\n",
    "  \"w enc max grad\",\n",
    "  \"w enc min grad\"]\n",
    "\n",
    "stats_fig = pf.plot_stats(analyzer.run_stats, keys=keys, labels=labels, figsize=(15,40))\n",
    "#stats_fig.savefig(analyzer.analysis_out_dir+analysis_params[\"model_name\"]+\"_train_stats.png\")"
   ]
  },
  {
   "cell_type": "code",
   "execution_count": null,
   "metadata": {},
   "outputs": [],
   "source": [
    "weight_shape = [analyzer.bf_stats[\"num_outputs\"], analyzer.bf_stats[\"patch_edge_size\"], analyzer.bf_stats[\"patch_edge_size\"]]\n",
    "dict_fig = pf.plot_weights(analyzer.evals[\"weights/w_enc:0\"].T.reshape(weight_shape), title=\"Weights\")\n",
    "dict_fig.savefig(analyzer.analysis_out_dir+analysis_params[\"model_name\"]+\"_dict.png\")"
   ]
  },
  {
   "cell_type": "code",
   "execution_count": null,
   "metadata": {},
   "outputs": [],
   "source": [
    "gdn_weights = analyzer.evals['weights/gdn_w:0']\n",
    "fig, ax = plt.subplots(1, 1, figsize=(10,10))\n",
    "im = ax.imshow(gdn_weights, vmin=np.min(gdn_weights), vmax=np.max(gdn_weights), cmap=\"Greys_r\")\n",
    "ax.set_title(\"GDN weights\")\n",
    "pf.clear_axis(ax)\n",
    "pf.add_colorbar_to_im(im, aspect=50)\n",
    "plt.show()"
   ]
  },
  {
   "cell_type": "code",
   "execution_count": null,
   "metadata": {},
   "outputs": [],
   "source": [
    "gdn_weights = analyzer.evals['weights/igdn_w:0']\n",
    "fig, ax = plt.subplots(1, 1, figsize=(10,10))\n",
    "im = ax.imshow(gdn_weights, vmin=np.min(gdn_weights), vmax=np.max(gdn_weights), cmap=\"Greys_r\")\n",
    "ax.set_title(\"Inverse GDN weights\")\n",
    "pf.clear_axis(ax)\n",
    "pf.add_colorbar_to_im(im, aspect=50)\n",
    "plt.show()"
   ]
  }
 ],
 "metadata": {
  "kernelspec": {
   "display_name": "Python 3",
   "language": "python",
   "name": "python3"
  },
  "language_info": {
   "codemirror_mode": {
    "name": "ipython",
    "version": 3
   },
   "file_extension": ".py",
   "mimetype": "text/x-python",
   "name": "python",
   "nbconvert_exporter": "python",
   "pygments_lexer": "ipython3",
   "version": "3.6.8"
  },
  "varInspector": {
   "cols": {
    "lenName": 16,
    "lenType": 16,
    "lenVar": 40
   },
   "kernels_config": {
    "python": {
     "delete_cmd_postfix": "",
     "delete_cmd_prefix": "del ",
     "library": "var_list.py",
     "varRefreshCmd": "print(var_dic_list())"
    },
    "r": {
     "delete_cmd_postfix": ") ",
     "delete_cmd_prefix": "rm(",
     "library": "var_list.r",
     "varRefreshCmd": "cat(var_dic_list()) "
    }
   },
   "types_to_exclude": [
    "module",
    "function",
    "builtin_function_or_method",
    "instance",
    "_Feature"
   ],
   "window_display": false
  }
 },
 "nbformat": 4,
 "nbformat_minor": 1
}
