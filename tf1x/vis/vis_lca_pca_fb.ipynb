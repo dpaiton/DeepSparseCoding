{
 "cells": [
  {
   "cell_type": "markdown",
   "metadata": {},
   "source": [
    "## Imports"
   ]
  },
  {
   "cell_type": "code",
   "execution_count": null,
   "metadata": {
    "scrolled": false
   },
   "outputs": [],
   "source": [
    "import os\n",
    "import sys\n",
    "%env CUDA_VISIBLE_DEVICES=0\n",
    "%matplotlib inline"
   ]
  },
  {
   "cell_type": "code",
   "execution_count": null,
   "metadata": {},
   "outputs": [],
   "source": [
    "import numpy as np                                                              \n",
    "import tensorflow as tf                                                         \n",
    "\n",
    "root_path = os.path.dirname(os.path.dirname(os.path.dirname(os.getcwd())))\n",
    "if root_path not in sys.path: sys.path.append(root_path)\n",
    "\n",
    "import DeepSparseCoding.tf1x.data.data_selector as ds                                                   \n",
    "import DeepSparseCoding.tf1x.analysis.analysis_picker as ap\n",
    "import DeepSparseCoding.tf1x.utils.plot_functions as pf                                               "
   ]
  },
  {
   "cell_type": "markdown",
   "metadata": {},
   "source": [
    "## Model parameters"
   ]
  },
  {
   "cell_type": "code",
   "execution_count": null,
   "metadata": {},
   "outputs": [],
   "source": [
    "class analysis_params(object):\n",
    "  model_type = \"lca_pca_fb\"\n",
    "  model_name = \"lca_pca_fb_512_vh_ftw\"\n",
    "  suffix = \"300k_imgs\"\n",
    "  version = \"0.0\"\n",
    "  device = \"/gpu:0\"\n",
    "  num_inference_images = 3 #number of images to use for inference statistics\n",
    "  cov_num_images = int(3e5) #number of images used to compute cov matrix\n",
    "  ft_padding = 32 #Fourier analysis padding\n",
    "  data_type = \"vanhateren\"\n",
    "  clobber = True\n",
    "\n",
    "# Computed params\n",
    "analysis_params.model_dir = (os.path.expanduser(\"~\")+\"/Work/Projects/\"+analysis_params.model_name)"
   ]
  },
  {
   "cell_type": "markdown",
   "metadata": {},
   "source": [
    "## Load dataset and analyzer"
   ]
  },
  {
   "cell_type": "code",
   "execution_count": null,
   "metadata": {
    "scrolled": false
   },
   "outputs": [],
   "source": [
    "analyzer = ap.get_analyzer(analysis_params)"
   ]
  },
  {
   "cell_type": "code",
   "execution_count": null,
   "metadata": {},
   "outputs": [],
   "source": [
    "if analysis_params.clobber:\n",
    "  analyzer.model_params.data_type = analysis_params.data_type\n",
    "  data = ds.get_data(analyzer.model_params)\n",
    "  data = analyzer.model.preprocess_dataset(data)\n",
    "  data = analyzer.model.reshape_dataset(data)\n",
    "  analyzer.model_params.data_shape = [                                                       \n",
    "    data[\"train\"].num_rows*data[\"train\"].num_cols*data[\"train\"].num_channels]     "
   ]
  },
  {
   "cell_type": "code",
   "execution_count": null,
   "metadata": {
    "scrolled": false
   },
   "outputs": [],
   "source": [
    "if analysis_params.clobber:\n",
    "  analyzer.run_analysis(data[\"train\"].images[:analysis_params.cov_num_images, ...],\n",
    "    save_info=analysis_params.suffix)\n",
    "else:\n",
    "  analyzer.load_analysis(save_info=analysis_params.suffix)"
   ]
  },
  {
   "cell_type": "markdown",
   "metadata": {},
   "source": [
    "## Construct analysis plots"
   ]
  },
  {
   "cell_type": "markdown",
   "metadata": {},
   "source": [
    "### Run statistics"
   ]
  },
  {
   "cell_type": "code",
   "execution_count": null,
   "metadata": {},
   "outputs": [],
   "source": [
    "fig = pf.plot_stats(analyzer.run_stats,\n",
    "  keys=[\"a_fraction_active\", \"recon_loss\", \"sparse_loss\", \"total_loss\"],\n",
    "  labels=[\"activity\", \"recon loss\", \"sparse loss\", \"total loss\"])\n",
    "fig.savefig(analyzer.analysis_out_dir+\"fig_run_stats.png\")"
   ]
  },
  {
   "cell_type": "markdown",
   "metadata": {},
   "source": [
    "### Neural inputs during inference"
   ]
  },
  {
   "cell_type": "code",
   "execution_count": null,
   "metadata": {},
   "outputs": [],
   "source": [
    "fig = pf.plot_inference_stats(analyzer.inference_stats, title=\"Average Loss Statistics During Inference\")\n",
    "fig.savefig(analyzer.analysis_out_dir+\"fig_inference_stats.pdf\")"
   ]
  },
  {
   "cell_type": "code",
   "execution_count": null,
   "metadata": {},
   "outputs": [],
   "source": [
    "fig = pf.plot_inference_traces(analyzer.inference_stats, analyzer.model_schedule[0][\"sparse_mult\"], 0)\n",
    "fig.savefig(analyzer.analysis_out_dir+\"fig_inference_traces.pdf\")"
   ]
  },
  {
   "cell_type": "markdown",
   "metadata": {},
   "source": [
    "### Activity triggered averages"
   ]
  },
  {
   "cell_type": "code",
   "execution_count": null,
   "metadata": {},
   "outputs": [],
   "source": [
    "num_pixels, num_neurons = analyzer.atas.shape\n",
    "fig = pf.plot_data_tiled(analyzer.atas.T.reshape(num_neurons,\n",
    "  int(np.sqrt(num_pixels)), int(np.sqrt(num_pixels))), normalize=False,\n",
    "  title=\"Activity triggered averages on image data\")\n",
    "fig.savefig(analyzer.analysis_out_dir+\"fig_l1_atas.png\")"
   ]
  },
  {
   "cell_type": "code",
   "execution_count": null,
   "metadata": {},
   "outputs": [],
   "source": [
    "num_pixels, num_neurons = analyzer.evec_atas.shape\n",
    "fig = pf.plot_data_tiled(analyzer.evec_atas.T.reshape(num_neurons,\n",
    "  int(np.sqrt(num_pixels)), int(np.sqrt(num_pixels))), normalize=True,\n",
    "  title=\"Eigen Vector activity triggered averages on image data\")\n",
    "fig.savefig(analyzer.analysis_out_dir+\"fig_atas_eigen.png\")"
   ]
  },
  {
   "cell_type": "code",
   "execution_count": null,
   "metadata": {},
   "outputs": [],
   "source": [
    "def plot_weights(weights):\n",
    "  num_plots = weights.shape[0]\n",
    "  num_plots_y = int(np.ceil(np.sqrt(num_plots))+1)\n",
    "  num_plots_x = int(np.floor(np.sqrt(num_plots)))\n",
    "  fig, sub_ax = plt.subplots(num_plots_y, num_plots_x, figsize=(18,18))\n",
    "  filter_total = 0\n",
    "  for plot_id in  np.ndindex((num_plots_y, num_plots_x)):\n",
    "    if filter_total < num_plots:\n",
    "      sub_ax[plot_id].imshow(weights[filter_total, ...], cmap=\"Greys_r\")\n",
    "      filter_total += 1\n",
    "    pf.clear_axis(sub_ax[plot_id])\n",
    "    sub_ax[plot_id].set_aspect(\"equal\")\n",
    "  plt.show()\n",
    "  return fig"
   ]
  },
  {
   "cell_type": "code",
   "execution_count": null,
   "metadata": {},
   "outputs": [],
   "source": [
    "import matplotlib.pyplot as plt\n",
    "num_pixels, num_neurons = analyzer.evec_atas.shape\n",
    "fig = plot_weights(analyzer.evec_atas.T.reshape(num_neurons, int(np.sqrt(num_pixels)), int(np.sqrt(num_pixels))))\n",
    "fig.savefig(analyzer.analysis_out_dir+\"fig_atas_evec.png\")"
   ]
  },
  {
   "cell_type": "code",
   "execution_count": null,
   "metadata": {},
   "outputs": [],
   "source": [
    "num_pixels, num_neurons = analyzer.pool_atas.shape\n",
    "fig = plot_weights(analyzer.pool_atas.T.reshape(num_neurons, int(np.sqrt(num_pixels)), int(np.sqrt(num_pixels))))\n",
    "fig.savefig(analyzer.analysis_out_dir+\"fig_atas_pool.png\")"
   ]
  },
  {
   "cell_type": "markdown",
   "metadata": {},
   "source": [
    "### Activity covariance matrix summaries"
   ]
  },
  {
   "cell_type": "code",
   "execution_count": null,
   "metadata": {},
   "outputs": [],
   "source": [
    "fig = pf.plot_cov_matrix(analyzer.cov[\"act_cov\"], str(analysis_params.cov_num_images))\n",
    "fig.savefig(analyzer.analysis_out_dir+\"fig_covariance_matrix.png\")"
   ]
  },
  {
   "cell_type": "code",
   "execution_count": null,
   "metadata": {},
   "outputs": [],
   "source": [
    "fig = pf.plot_eigenvalues(analyzer.cov[\"a_eigvals\"], ylim=[0,100])\n",
    "fig.savefig(analyzer.analysis_out_dir+\"fig_eigenvalues.png\")"
   ]
  },
  {
   "cell_type": "code",
   "execution_count": null,
   "metadata": {
    "scrolled": false
   },
   "outputs": [],
   "source": [
    "num_random_bases = 10\n",
    "num_top_cov_bases = 10\n",
    "bf_indices = np.random.choice(np.arange(analyzer.cov[\"act_cov\"].shape[0]), num_random_bases)\n",
    "fig = pf.plot_top_bases(analyzer.cov[\"act_cov\"], analyzer.evals[\"weights/phi:0\"],\n",
    "  bf_indices, num_top_cov_bases)\n",
    "fig.savefig(analyzer.analysis_out_dir+\"fig_top_cov_bases.png\")"
   ]
  },
  {
   "cell_type": "markdown",
   "metadata": {},
   "source": [
    "### Basis function analysis"
   ]
  },
  {
   "cell_type": "code",
   "execution_count": null,
   "metadata": {
    "scrolled": false
   },
   "outputs": [],
   "source": [
    "fig = pf.plot_hilbert_analysis(analyzer.evals[\"weights/phi:0\"], analysis_params.ft_padding)\n",
    "fig.savefig(analyzer.analysis_out_dir+\"fig_hilbert_analysis.png\")"
   ]
  },
  {
   "cell_type": "code",
   "execution_count": null,
   "metadata": {},
   "outputs": [],
   "source": [
    "fig = pf.plot_loc_freq_summary(analyzer.bf_stats)\n",
    "fig.savefig(analyzer.analysis_out_dir+\"fig_location_frequency_centers.png\")"
   ]
  },
  {
   "cell_type": "code",
   "execution_count": null,
   "metadata": {
    "scrolled": false
   },
   "outputs": [],
   "source": [
    "fig = pf.plot_bf_stats(analyzer.bf_stats, num_bf=10)\n",
    "fig.savefig(analyzer.analysis_out_dir+\"fig_basis_function_summary_stats.png\")"
   ]
  },
  {
   "cell_type": "code",
   "execution_count": null,
   "metadata": {},
   "outputs": [],
   "source": [
    "fig = pf.plot_gaussian_contours(analyzer.bf_stats, num_plots=128)\n",
    "fig.savefig(analyzer.analysis_out_dir+\"fig_gauss_contours.png\")"
   ]
  },
  {
   "cell_type": "markdown",
   "metadata": {},
   "source": [
    "### Pooling and eigen summary plots"
   ]
  },
  {
   "cell_type": "code",
   "execution_count": null,
   "metadata": {
    "scrolled": false,
    "slideshow": {
     "slide_type": "-"
    }
   },
   "outputs": [],
   "source": [
    "fig = pf.plot_ellipse_summaries(analyzer.bf_stats, num_bf=1000, lines=True)\n",
    "fig.savefig(analyzer.analysis_out_dir+\"fig_ellipse_fitting_summary.png\")"
   ]
  },
  {
   "cell_type": "code",
   "execution_count": null,
   "metadata": {
    "scrolled": false
   },
   "outputs": [],
   "source": [
    "num_pooling_filters = 64 # How many 2nd layer filters to display\n",
    "num_connected_weights = analyzer.model.num_neurons # How many of strongest connected weight summaries to show\n",
    "fig = pf.plot_pooling_summaries(analyzer.bf_stats, analyzer.cov[\"a_eigvecs\"],\n",
    "  num_pooling_filters, num_connected_weights, lines=True)\n",
    "fig.savefig(analyzer.analysis_out_dir+\"fig_eigen_pooling_lines.png\")"
   ]
  },
  {
   "cell_type": "code",
   "execution_count": null,
   "metadata": {
    "scrolled": false
   },
   "outputs": [],
   "source": [
    "num_pooling_filters = 64\n",
    "fig_size = (10, 10)\n",
    "spot_size = 60\n",
    "fig = pf.plot_pooling_centers(analyzer.bf_stats, analyzer.cov[\"a_eigvecs\"],\n",
    "  num_pooling_filters, fig_size, spot_size)\n",
    "fig.savefig(analyzer.analysis_out_dir+\"fig_eigen_pooling_centers.png\", bbox_inches=\"tight\")"
   ]
  },
  {
   "cell_type": "code",
   "execution_count": null,
   "metadata": {
    "scrolled": false
   },
   "outputs": [],
   "source": [
    "num_pooling_filters = 25\n",
    "num_connected_weights = analyzer.model.num_neurons\n",
    "fig = pf.plot_pooling_summaries(analyzer.bf_stats, analyzer.cov[\"pooling_filters\"], num_pooling_filters,\n",
    "  num_connected_weights, lines=True)\n",
    "fig.savefig(analyzer.analysis_out_dir+\"fig_reduc_pooling_lines.png\")"
   ]
  },
  {
   "cell_type": "code",
   "execution_count": null,
   "metadata": {},
   "outputs": [],
   "source": [
    "num_pooling_filters = 25\n",
    "fig_size = (10, 10)\n",
    "spot_size = 60\n",
    "fig = pf.plot_pooling_centers(analyzer.bf_stats, analyzer.cov[\"pooling_filters\"], num_pooling_filters,\n",
    "  fig_size, spot_size)\n",
    "fig.savefig(analyzer.analysis_out_dir+\"fig_reduc_pooling_centers.png\", bbox_inches=\"tight\")"
   ]
  }
 ],
 "metadata": {
  "kernelspec": {
   "display_name": "Python 3",
   "language": "python",
   "name": "python3"
  },
  "language_info": {
   "codemirror_mode": {
    "name": "ipython",
    "version": 3
   },
   "file_extension": ".py",
   "mimetype": "text/x-python",
   "name": "python",
   "nbconvert_exporter": "python",
   "pygments_lexer": "ipython3",
   "version": "3.6.8"
  },
  "varInspector": {
   "cols": {
    "lenName": 16,
    "lenType": 16,
    "lenVar": 40
   },
   "kernels_config": {
    "python": {
     "delete_cmd_postfix": "",
     "delete_cmd_prefix": "del ",
     "library": "var_list.py",
     "varRefreshCmd": "print(var_dic_list())"
    },
    "r": {
     "delete_cmd_postfix": ") ",
     "delete_cmd_prefix": "rm(",
     "library": "var_list.r",
     "varRefreshCmd": "cat(var_dic_list()) "
    }
   },
   "types_to_exclude": [
    "module",
    "function",
    "builtin_function_or_method",
    "instance",
    "_Feature"
   ],
   "window_display": false
  }
 },
 "nbformat": 4,
 "nbformat_minor": 1
}
