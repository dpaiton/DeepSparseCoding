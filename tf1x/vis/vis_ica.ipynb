{
 "cells": [
  {
   "cell_type": "markdown",
   "metadata": {},
   "source": [
    "## Imports"
   ]
  },
  {
   "cell_type": "code",
   "execution_count": null,
   "metadata": {
    "scrolled": false
   },
   "outputs": [],
   "source": [
    "import os\n",
    "import sys\n",
    "%env CUDA_VISIBLE_DEVICES=1\n",
    "%matplotlib inline"
   ]
  },
  {
   "cell_type": "code",
   "execution_count": null,
   "metadata": {},
   "outputs": [],
   "source": [
    "import numpy as np                                                              \n",
    "import matplotlib\n",
    "import matplotlib.pyplot as plt\n",
    "import matplotlib.gridspec as gridspec\n",
    "import tensorflow as tf                                                         \n",
    "\n",
    "root_path = os.path.dirname(os.path.dirname(os.path.dirname(os.getcwd())))\n",
    "if root_path not in sys.path: sys.path.append(root_path)\n",
    "\n",
    "import DeepSparseCoding.tf1x.data.data_selector as ds\n",
    "import DeepSparseCoding.tf1x.utils.data_processing as dp\n",
    "import DeepSparseCoding.tf1x.utils.plot_functions as pf\n",
    "import DeepSparseCoding.tf1x.analysis.analysis_picker as ap"
   ]
  },
  {
   "cell_type": "code",
   "execution_count": null,
   "metadata": {},
   "outputs": [],
   "source": [
    "class analysis_params(object):\n",
    "  model_type = \"ica\"\n",
    "  model_name = \"ica\"\n",
    "  version = \"1.0\"\n",
    "\n",
    "# Computed params\n",
    "analysis_params.model_dir = (os.path.expanduser(\"~\")+\"/Work/Projects/\"+analysis_params.model_name)"
   ]
  },
  {
   "cell_type": "code",
   "execution_count": null,
   "metadata": {
    "scrolled": false
   },
   "outputs": [],
   "source": [
    "analyzer = ap.get_analyzer(analysis_params)\n",
    "analyzer.model.setup(analyzer.model_params)\n",
    "analyzer.load_analysis(save_info=\"full_imgs\")\n",
    "\n",
    "ot_bf_indices = analyzer.ot_grating_responses[\"neuron_indices\"]\n",
    "ot_contrasts = analyzer.ot_grating_responses[\"contrasts\"]\n",
    "ot_phases = analyzer.ot_grating_responses[\"phases\"]\n",
    "ot_orientations = analyzer.ot_grating_responses[\"orientations\"]\n",
    "ot_best_phases = analyzer.ot_grating_responses[\"best_phases\"]\n",
    "ot_mean_activations = analyzer.ot_grating_responses[\"mean_responses\"]\n",
    "\n",
    "co_bf_indices = analyzer.co_grating_responses[\"neuron_indices\"]\n",
    "co_contrasts = analyzer.co_grating_responses[\"contrasts\"]\n",
    "co_phases = analyzer.co_grating_responses[\"phases\"]\n",
    "co_base_orientations = analyzer.co_grating_responses[\"base_orientations\"]\n",
    "co_mask_orientations = analyzer.co_grating_responses[\"mask_orientations\"]\n",
    "co_base_mean_responses = analyzer.co_grating_responses[\"base_mean_responses\"]\n",
    "co_test_mean_responses = analyzer.co_grating_responses[\"test_mean_responses\"]"
   ]
  },
  {
   "cell_type": "code",
   "execution_count": null,
   "metadata": {},
   "outputs": [],
   "source": [
    "stats_fig = pf.plot_stats(analyzer.run_stats,\n",
    "  keys=[\"u_fraction_active\", \"a_max_grad\", \"a_min_grad\"],\n",
    "  labels=[\"activity\", \"a max grad\", \"a min grad\"])"
   ]
  },
  {
   "cell_type": "code",
   "execution_count": null,
   "metadata": {
    "scrolled": false
   },
   "outputs": [],
   "source": [
    "atas_fig = pf.plot_weights(analyzer.atas.T.reshape(256,16,16), title=\"Activity triggered averages on image data\")"
   ]
  },
  {
   "cell_type": "code",
   "execution_count": null,
   "metadata": {},
   "outputs": [],
   "source": [
    "noise_images = np.random.standard_normal([analyzer.model_params.num_images]+analyzer.model_params.data_shape)\n",
    "noise_evals = analyzer.evaluate_model(noise_images, [\"inference/coefficients:0\"])\n",
    "noise_atas = analyzer.compute_atas(noise_evals[\"inference/coefficients:0\"], noise_images)\n",
    "noise_atas_fig = pf.plot_data_tiled(noise_atas.T, normalize=False, title=\"Activity triggered averages on standard normal noise data\")\n",
    "noise_atas_fig.savefig(analyzer.analysis_out_dir+analysis_params.model_name+\"_noise_atas.png\")"
   ]
  },
  {
   "cell_type": "code",
   "execution_count": null,
   "metadata": {
    "scrolled": false
   },
   "outputs": [],
   "source": [
    "grating = dp.generate_grating(rf_edge=100, location=(50,50), diameter=25,\n",
    "  orientation=np.pi/4, frequency=10, phase=4*np.pi/6, contrast=0.5)\n",
    "fig, ax = plt.subplots(1, figsize=(3, 3))\n",
    "ax = pf.clear_axis(ax, spines=\"k\")\n",
    "ax.imshow(grating, cmap=\"Greys_r\", vmin=0, vmax=1)\n",
    "plt.show()"
   ]
  },
  {
   "cell_type": "code",
   "execution_count": null,
   "metadata": {},
   "outputs": [],
   "source": [
    "constructed_bfs = np.zeros_like(analyzer.evals[\"weights/a_inverse:0\"])\n",
    "for bf_idx in range(constructed_bfs.shape[0]):\n",
    "  params = dp.get_grating_params(analyzer.bf_stats, bf_idx)\n",
    "  grating = dp.generate_grating(*params)\n",
    "  constructed_bfs[bf_idx,...] = grating.reshape(256)\n",
    "fig = pf.plot_data_tiled(constructed_bfs)"
   ]
  },
  {
   "cell_type": "code",
   "execution_count": null,
   "metadata": {},
   "outputs": [],
   "source": [
    "fig = pf.plot_bf_stats(analyzer.bf_stats, num_bf=10)"
   ]
  },
  {
   "cell_type": "code",
   "execution_count": null,
   "metadata": {},
   "outputs": [],
   "source": [
    "bf_idx = 0\n",
    "cmap = plt.get_cmap('Greys')\n",
    "cNorm = matplotlib.colors.Normalize(vmin=0.0, vmax=1.0)\n",
    "scalarMap = matplotlib.cm.ScalarMappable(norm=cNorm, cmap=cmap)\n",
    "\n",
    "fig, ax = plt.subplots(1, figsize=(3,3))\n",
    "ax.set_ylabel(\"Activation\", fontsize=16)\n",
    "ax.set_xlabel(\"Stimulus Orientation\", fontsize=16)\n",
    "#for co_idx, contrast in enumerate(ot_contrasts):\n",
    "co_idx = -1\n",
    "contrast = ot_contrasts[co_idx]\n",
    "activity = ot_mean_activations[bf_idx,co_idx,:]# / np.max(ot_contrast_activations)\n",
    "color_val = scalarMap.to_rgba(1.0)#contrast)\n",
    "ax.plot(np.asarray(ot_orientations)*(180/np.pi), activity, color=color_val)\n",
    "ax.scatter(np.asarray(ot_orientations)*(180/np.pi), activity, s=12, c=color_val)\n",
    "plt.show()"
   ]
  },
  {
   "cell_type": "code",
   "execution_count": null,
   "metadata": {},
   "outputs": [],
   "source": [
    "num_orientations = np.asarray(co_mask_orientations).size\n",
    "cmap = plt.get_cmap('Greys')\n",
    "cNorm = matplotlib.colors.Normalize(vmin=0.0, vmax=1.0)\n",
    "scalarMap = matplotlib.cm.ScalarMappable(norm=cNorm, cmap=cmap)\n",
    "\n",
    "fig, ax = plt.subplots(1, figsize=(3,3))\n",
    "ax.set_ylabel(\"Activation\", fontsize=16)\n",
    "ax.set_xlabel(\"Mask Orientation\", fontsize=16)\n",
    "bco_idx = -1\n",
    "co_idx = -1\n",
    "contrast = co_contrasts[bco_idx]\n",
    "base_activity = co_base_mean_responses[0, bco_idx]\n",
    "test_activity  = co_test_mean_responses[0, bco_idx, co_idx, :]\n",
    "ax.set_ylim([0.0, np.max(np.stack([[base_activity,]*num_orientations, test_activity]))+0.1])\n",
    "color_val = scalarMap.to_rgba(1.0)\n",
    "ax.plot(np.asarray(co_mask_orientations)*(180/np.pi), [base_activity,]*num_orientations, linestyle=\"--\", color=color_val)\n",
    "ax.plot(np.asarray(co_mask_orientations)*(180/np.pi), test_activity, linestyle=\"-\", color=color_val)\n",
    "ax.scatter(np.asarray(co_mask_orientations)*(180/np.pi), test_activity, s=12, c=color_val)\n",
    "plt.show()"
   ]
  },
  {
   "cell_type": "code",
   "execution_count": null,
   "metadata": {},
   "outputs": [],
   "source": [
    "#num_orientations = np.asarray(co_mask_orientations).size\n",
    "#num_contrasts = np.asarray(co_contrasts).size\n",
    "## index of value in mask_orientations that is closest to orthogonal to base_orientations[bf_idx]\n",
    "#orthogonal_orientation = co_base_orientations[0]-(np.pi/2)\n",
    "#if orthogonal_orientation < 0:\n",
    "#  orthogonal_orientation += np.pi\n",
    "#mask_or_idx = np.argmin(orthogonal_orientation - mask_orientations)\n",
    "#max_test_responses = np.max(co_test_responses)\n",
    "#\n",
    "#cmap = plt.get_cmap('Greys')\n",
    "##cNorm = matplotlib.colors.Normalize(vmin=0.0, vmax=1.0)\n",
    "#cNorm = matplotlib.colors.SymLogNorm(linthresh=0.03, linscale=0.01, vmin=0.0, vmax=1.0)\n",
    "#scalarMap = matplotlib.cm.ScalarMappable(norm=cNorm, cmap=cmap)\n",
    "#\n",
    "#fig, ax = plt.subplots(1, figsize=(13,13))\n",
    "##ax.set_ylabel(\"Activation\", fontsize=16)\n",
    "##ax.set_xlabel(\"Base Contrast\", fontsize=16)\n",
    "#ax.set_ylim([0.0, 0.65])\n",
    "#for co_idx, mask_contrast in enumerate(contrasts):\n",
    "#  # vary base contrast for fixed mask contrast & orthogonal mask\n",
    "#  activity  = co_test_responses[0, :, co_idx, mask_or_idx]\n",
    "#  #activity /= max_test_responses\n",
    "#  color_val = scalarMap.to_rgba(mask_contrast)\n",
    "#  ax.plot(contrasts, activity, linestyle=\"-\", color=color_val, label=\"{:.1f}\".format(mask_contrast))\n",
    "#  ax.scatter(contrasts, activity, s=30, c=color_val)\n",
    "#  ax.set_xscale('log')\n",
    "#  #ax.tick_params(\n",
    "#  #  axis='x',          # changes apply to the x-axis\n",
    "#  #  which='both',      # both major and minor ticks are affected\n",
    "#  #  labelbottom='off')\n",
    "#  #ax.set_xticks(contrasts)\n",
    "#  #ax.get_xaxis().set_major_formatter(matplotlib.ticker.ScalarFormatter())\n",
    "#  #ax.get_xaxis().get_major_formatter().set_scientific(False)\n",
    "#  #ax.set_xticklabels([str(contrast) for contrast in contrasts])\n",
    "#  #ax.set_xticklabels([\"\" for contrast in contrasts])\n",
    "#  #ax.ticklabel_format(style=\"plain\")\n",
    "#ax.legend(title=\"Mask Contrast\")\n",
    "#plt.show()\n",
    "fig = pf.plot_plaid_contrast_tuning([0], co_contrasts, co_contrasts, co_base_orientations, co_mask_orientations,\n",
    "  co_test_mean_responses)"
   ]
  },
  {
   "cell_type": "code",
   "execution_count": null,
   "metadata": {},
   "outputs": [],
   "source": [
    "#grating = lambda orientation,phase,contrast:dp.generate_grating(*dp.get_grating_params(analyzer.bf_stats, bf_idx,\n",
    "#  orientation=orientation, phase=phase, contrast=contrast, diameter=-1))\n",
    "##def plot_phase_orientation_responses(bf_idx, contrast_idx, analyzer):\n",
    "#bf_idx = 40#120\n",
    "#contrast_idx = -1\n",
    "#peak_orientation_idx = np.argmax(contrast_activations[bf_idx, contrast_idx])\n",
    "#fig = plt.figure()\n",
    "#gs_widths = [1, 1]\n",
    "#gs_heights = [1, 1]\n",
    "#gs = gridspec.GridSpec(2, 2, wspace=0.6, hspace=0.8, width_ratios=gs_widths, height_ratios=gs_heights)\n",
    "#\n",
    "#ax = plt.subplot(gs[0,0])\n",
    "#ax.bar(phases, phase_activations[bf_idx, contrast_idx, peak_orientation_idx, :], width=0.3)\n",
    "#ax.set_xlabel(\"Phase (Radians)\")\n",
    "#ax.set_ylabel(\"Activation\")\n",
    "#\n",
    "#ax = plt.subplot(gs[0,1])\n",
    "#ax.bar(orientations, contrast_activations[bf_idx, contrast_idx], width=0.3)\n",
    "#ax.set_xlabel(\"Orientation (Radians)\")\n",
    "#ax.set_ylabel(\"Normalized\\nActivation\")\n",
    "#\n",
    "#ax = pf.clear_axis(plt.subplot(gs[1,0]))\n",
    "#ax.imshow(analyzer.bf_stats[\"basis_functions\"][bf_idx], cmap=\"Greys_r\")\n",
    "#\n",
    "#best_phase = best_phases[bf_idx, contrast_idx, peak_orientation_idx]\n",
    "#stim = grating(orientations[peak_orientation_idx], best_phase, contrast=1.0)\n",
    "#ax = pf.clear_axis(plt.subplot(gs[1,1]))\n",
    "#ax.imshow(stim, cmap=\"Greys_r\")\n",
    "#plt.show()"
   ]
  },
  {
   "cell_type": "code",
   "execution_count": null,
   "metadata": {},
   "outputs": [],
   "source": [
    "#finite_widths = half_widths[np.isfinite(half_widths)]\n",
    "#if np.sum(int(np.isfinite(half_widths[bf_idx,:]))) > 1:\n",
    "#  slope = (np.max(finite_widths[bf_idx,:]) - np.min(finite_widths[bf_idx,:]))/(np.max(contrasts) - np.min(contrasts))\n",
    "#  fig, ax = plt.subplots(1)\n",
    "#  ax.plot(contrasts, finite_widths[bf_idx,:])\n",
    "#  ax.set_ylim([0,np.max(finite_widths[bf_idx,:])+0.1])\n",
    "#  ax.text(0.4,1.0, \"Slope=\"+\"{:.3f}\".format(slope))\n",
    "#  ax.set_xlabel(\"Contrast\", fontsize=16)\n",
    "#  ax.set_ylabel(\"Half Width\", fontsize=16)\n",
    "#  plt.show()"
   ]
  },
  {
   "cell_type": "code",
   "execution_count": null,
   "metadata": {},
   "outputs": [],
   "source": [
    "#from scipy.optimize import curve_fit\n",
    "#\n",
    "#def gauss(x, *p):\n",
    "#  A, mu, sigma = p\n",
    "#  return A*np.exp(-(x-mu)**2/(2*sigma**2))\n",
    "#\n",
    "#contrast_idx = 2\n",
    "#\n",
    "#half_activity = contrast_activations[contrast_idx][19:51]\n",
    "#half_orientations = orientations[19:51]\n",
    "#half_activity /= np.max(contrast_activations)\n",
    "#\n",
    "#a0 = np.max(half_activity)\n",
    "#mu0 = half_orientations[np.argmax(half_activity)]\n",
    "#sig0 = np.std(half_activity[half_activity>0])\n",
    "#p0 = [a0, mu0, sig0] # initial guess\n",
    "#coeff, var_matrix = curve_fit(gauss, half_orientations, half_activity, p0=p0)\n",
    "#\n",
    "#half_max = coeff[0]/2\n",
    "#half_width = 2*np.sqrt(2*np.log(2))*coeff[2]\n",
    "#\n",
    "### Outputs\n",
    "#print(\"Max activation = \", np.max(half_activity[half_activity>0]))\n",
    "#print(\"Mean activation = \", np.mean(half_activity[half_activity>0]))\n",
    "#print(\"Std activation = \", np.std(half_activity[half_activity>0]))\n",
    "#print(\"A0 = \", a0)\n",
    "#print(\"mu0 = \", mu0)\n",
    "#print(\"sig0 = \", sig0)\n",
    "#print(\"Fitted amplitude = \", coeff[0])\n",
    "#print(\"Fitted mean = \", coeff[1])\n",
    "#print(\"Fitted standard deviation = \", coeff[2])\n",
    "#print(\"Half max = \", half_max)\n",
    "#print(\"FWHM = \", half_width)\n",
    "#\n",
    "#hist_fit = gauss(half_orientations, *coeff)# Get the fitted curve\n",
    "#fig, ax = plt.subplots(1)\n",
    "#ax.scatter(half_orientations, half_activity, label=\"Test data\")\n",
    "#ax.plot(half_orientations, hist_fit, c='r', label=\"Fitted data\")\n",
    "#ax.plot(half_orientations, [half_max,]*len(half_orientations), 'k--', label=\"FWHM\")\n",
    "#ax.legend()\n",
    "#plt.show()"
   ]
  },
  {
   "cell_type": "code",
   "execution_count": null,
   "metadata": {},
   "outputs": [],
   "source": [
    "#num_bfs = 9\n",
    "#num_orientations = np.asarray(mask_orientations).size\n",
    "#cmap = plt.get_cmap('Greys')\n",
    "#cNorm = matplotlib.colors.Normalize(vmin=0.0, vmax=1.0)\n",
    "#scalarMap = matplotlib.cm.ScalarMappable(norm=cNorm, cmap=cmap)\n",
    "#\n",
    "#fig = plt.figure(figsize=(18,18))\n",
    "#num_plots_y = np.int32(np.ceil(np.sqrt(num_bfs)))+1\n",
    "#num_plots_x = np.int32(np.ceil(np.sqrt(num_bfs)))\n",
    "#gs_widths = [1.0,]*num_plots_x\n",
    "#gs_heights = [1.0,]*num_plots_y\n",
    "#gs = gridspec.GridSpec(num_plots_y, num_plots_x, wspace=0.5, hspace=0.7, width_ratios=gs_widths, height_ratios=gs_heights)\n",
    "#bf_idx = 0\n",
    "#for plot_id in np.ndindex((num_plots_y, num_plots_x)):\n",
    "#  (y_id, x_id) = plot_id\n",
    "#  if y_id == 0 and x_id == 0:\n",
    "#    ax = fig.add_subplot(gs[plot_id])\n",
    "#    ax.set_ylabel(\"Normalized Activation\", fontsize=16)\n",
    "#    ax.set_ylim([0.0, np.max(co_test_responses)])\n",
    "#    ax00 = ax\n",
    "#  else:\n",
    "#    ax = fig.add_subplot(gs[plot_id], sharey=ax00)\n",
    "#  if bf_idx < num_bfs:\n",
    "#    bco_idx = -1\n",
    "#    co_idx = -1\n",
    "#    contrast = contrasts[bco_idx]\n",
    "#    base_activity = co_base_responses[bf_idx, bco_idx]\n",
    "#    masked_activity  = co_test_responses[bf_idx, bco_idx, co_idx, :]\n",
    "#    color_val = scalarMap.to_rgba(1.0)#contrast)\n",
    "#    ax.plot(mask_orientations*(180/np.pi), [base_activity,]*num_orientations, linestyle=\"--\", color=color_val)\n",
    "#    ax.plot(mask_orientations*(180/np.pi), masked_activity, linestyle=\"-\", color=color_val)\n",
    "#    ax.scatter(mask_orientations*(180/np.pi), masked_activity, s=12, c=color_val)\n",
    "#    bf_idx += 1\n",
    "#  else:\n",
    "#    ax = pf.clear_axis(ax, spines=\"none\")\n",
    "#plt.show()"
   ]
  },
  {
   "cell_type": "code",
   "execution_count": null,
   "metadata": {},
   "outputs": [],
   "source": [
    "#num_bfs = 9\n",
    "#num_orientations = np.asarray(mask_orientations).size\n",
    "#num_contrasts = np.asarray(contrasts).size\n",
    "#base_or_idx = [np.argmax(co_test_responses[bf_idx,-1,-1,:])\n",
    "#  for bf_idx in range(analyzer.bf_stats[\"num_outputs\"])]\n",
    "#\n",
    "#cmap = plt.get_cmap('Greys')\n",
    "#cNorm = matplotlib.colors.Normalize(vmin=0.0, vmax=1.0)\n",
    "#scalarMap = matplotlib.cm.ScalarMappable(norm=cNorm, cmap=cmap)\n",
    "#\n",
    "#fig = plt.figure(figsize=(18,18))\n",
    "#num_plots_y = np.int32(np.ceil(np.sqrt(num_bfs)))+1\n",
    "#num_plots_x = np.int32(np.ceil(np.sqrt(num_bfs)))\n",
    "#gs_widths = [1.0,]*num_plots_x\n",
    "#gs_heights = [1.0,]*num_plots_y\n",
    "#gs = gridspec.GridSpec(num_plots_y, num_plots_x, wspace=0.5, hspace=0.7, width_ratios=gs_widths, height_ratios=gs_heights)\n",
    "#bf_idx = 0\n",
    "#for plot_id in np.ndindex((num_plots_y, num_plots_x)):\n",
    "#  (y_id, x_id) = plot_id\n",
    "#  if y_id == 0 and x_id == 0:\n",
    "#    ax = fig.add_subplot(gs[plot_id])\n",
    "#    ax.set_ylabel(\"Normalized Activation\", fontsize=16)\n",
    "#    ax.set_xlabel(\"Test Contrast\")\n",
    "#    ax.set_ylim([0.0, np.max(co_test_responses)])\n",
    "#    ax00 = ax\n",
    "#  else:\n",
    "#    ax = fig.add_subplot(gs[plot_id], sharey=ax00)\n",
    "#  if bf_idx < num_bfs:\n",
    "#    for co_idx, test_contrast in enumerate(contrasts):\n",
    "#      test_activity  = co_test_responses[bf_idx, :, co_idx, base_or_idx[bf_idx]]\n",
    "#      color_val = scalarMap.to_rgba(test_contrast)\n",
    "#      ax.plot(contrasts, test_activity, linestyle=\"-\", color=color_val)\n",
    "#      ax.scatter(contrasts, test_activity, s=12, c=color_val, label=str(test_contrast))\n",
    "#    bf_idx += 1\n",
    "#  else:\n",
    "#    ax = pf.clear_axis(ax, spines=\"none\")\n",
    "#\n",
    "#  ax00.legend()\n",
    "#plt.show()"
   ]
  }
 ],
 "metadata": {
  "kernelspec": {
   "display_name": "Python 3",
   "language": "python",
   "name": "python3"
  },
  "language_info": {
   "codemirror_mode": {
    "name": "ipython",
    "version": 3
   },
   "file_extension": ".py",
   "mimetype": "text/x-python",
   "name": "python",
   "nbconvert_exporter": "python",
   "pygments_lexer": "ipython3",
   "version": "3.6.8"
  },
  "varInspector": {
   "cols": {
    "lenName": 16,
    "lenType": 16,
    "lenVar": 40
   },
   "kernels_config": {
    "python": {
     "delete_cmd_postfix": "",
     "delete_cmd_prefix": "del ",
     "library": "var_list.py",
     "varRefreshCmd": "print(var_dic_list())"
    },
    "r": {
     "delete_cmd_postfix": ") ",
     "delete_cmd_prefix": "rm(",
     "library": "var_list.r",
     "varRefreshCmd": "cat(var_dic_list()) "
    }
   },
   "types_to_exclude": [
    "module",
    "function",
    "builtin_function_or_method",
    "instance",
    "_Feature"
   ],
   "window_display": false
  }
 },
 "nbformat": 4,
 "nbformat_minor": 1
}
