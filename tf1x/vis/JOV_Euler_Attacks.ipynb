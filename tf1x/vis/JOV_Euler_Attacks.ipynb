{
 "cells": [
  {
   "cell_type": "code",
   "execution_count": null,
   "metadata": {},
   "outputs": [],
   "source": [
    "import os\n",
    "import sys\n",
    "%env CUDA_VISIBLE_DEVICES=0\n",
    "%matplotlib inline"
   ]
  },
  {
   "cell_type": "code",
   "execution_count": null,
   "metadata": {},
   "outputs": [],
   "source": [
    "import logging\n",
    "import warnings\n",
    "\n",
    "warnings.simplefilter(action=\"ignore\")\n",
    "logging.getLogger('tensorflow').disabled = True"
   ]
  },
  {
   "cell_type": "code",
   "execution_count": null,
   "metadata": {},
   "outputs": [],
   "source": [
    "import autograd.numpy as np\n",
    "import matplotlib as mpl\n",
    "import matplotlib.pyplot as plt\n",
    "\n",
    "root_path = os.path.dirname(os.path.dirname(os.path.dirname(os.getcwd())))\n",
    "if root_path not in sys.path: sys.path.append(root_path)\n",
    "\n",
    "import DeepSparseCoding.tf1x.utils.jov_funcs as jov\n",
    "import DeepSparseCoding.tf1x.analysis.analysis_picker as ap\n",
    "from DeepSparseCoding.tf1x.data.dataset import Dataset\n",
    "import DeepSparseCoding.tf1x.utils.data_processing as dp"
   ]
  },
  {
   "cell_type": "markdown",
   "metadata": {},
   "source": [
    "### Importing Module\n",
    "\n",
    "I packaged everything into a module `schematic_utils` with a bunch of sub-modules.\n",
    "The below assumes this is in an adjacent folder to the `cwd`, if it's not in the path.\n",
    "Adjust as needed.\n",
    "\n",
    "These utilities depend on `data.dataset` and `dp`, so make sure those are importable."
   ]
  },
  {
   "cell_type": "code",
   "execution_count": null,
   "metadata": {},
   "outputs": [],
   "source": [
    "try:\n",
    "    import schematic_utils\n",
    "except ImportError:\n",
    "    import sys\n",
    "    usr = os.path.expanduser('~')\n",
    "    sys.path.append(usr+'/Work/DeepSparseCoding/tf1x/')\n",
    "    import schematic_utils"
   ]
  },
  {
   "cell_type": "code",
   "execution_count": null,
   "metadata": {},
   "outputs": [],
   "source": [
    "text_width = 540.60236 #pt 416.83269 #pt = 14.65cm\n",
    "text_width_cm = 18.9973 # 14.705\n",
    "fontsize = 10\n",
    "dpi = 300\n",
    "file_extensions = ['.pdf']#, '.eps', '.png']\n",
    "#figsize = (16, 16)\n",
    "num_y_plots = 3\n",
    "num_x_plots = 1\n",
    "width_ratio = 1.0\n",
    "figsize = jov.set_size(text_width, width_ratio, [num_y_plots, num_x_plots])\n",
    "fontsize = 20\n",
    "font_settings = {\n",
    "        \"text.usetex\": True,\n",
    "        \"font.family\": 'serif',\n",
    "        \"font.serif\": 'Computer Modern Roman',\n",
    "        \"axes.labelsize\": fontsize,\n",
    "        \"axes.titlesize\": fontsize,\n",
    "        \"figure.titlesize\": fontsize+2,\n",
    "        \"font.size\": fontsize,\n",
    "        \"legend.fontsize\": fontsize,\n",
    "        \"xtick.labelsize\": fontsize-2,\n",
    "        \"ytick.labelsize\": fontsize-2,\n",
    "}\n",
    "mpl.rcParams.update(font_settings)"
   ]
  },
  {
   "cell_type": "markdown",
   "metadata": {},
   "source": [
    "# Figure 6ab - Toy Attacks"
   ]
  },
  {
   "cell_type": "markdown",
   "metadata": {},
   "source": [
    "Attacks on the toy networks are done using the `schematic_utils.toy` sub-module, which also includes plotting sub-modules."
   ]
  },
  {
   "cell_type": "markdown",
   "metadata": {},
   "source": [
    "### `compute_panel_info`\n",
    "\n",
    "Given a function to compute a neuron's forward pass plus a few parameters, the below function\n",
    "computes contours and applies a simple gradient-following attack. "
   ]
  },
  {
   "cell_type": "code",
   "execution_count": null,
   "metadata": {},
   "outputs": [],
   "source": [
    "def compute_panel_info(neuron_fwd_pass, attack_start_coords, N_contours, contour_eps):\n",
    "\n",
    "    xlims = [0., 0.27]\n",
    "    ylims = [-0.25, 0.27]\n",
    "    xN, yN = 20, 26\n",
    "\n",
    "    activation_contours, contour_vals = \\\n",
    "        schematic_utils.toy.euler.calculate_activation_contours(\n",
    "            neuron_fwd_pass,\n",
    "            N=N_contours, contour_eps=contour_eps,\n",
    "            mn=0.1, mx=0.22,\n",
    "            contour_lims=[-0.25, 0.3])\n",
    "\n",
    "    grads, grad_coords = schematic_utils.toy.util.compute_grads(neuron_fwd_pass, xlims, ylims, xN, yN)\n",
    "\n",
    "    attack = schematic_utils.toy.util.follow_grad(\n",
    "        np.array(attack_start_coords), neuron_fwd_pass, [-0.1, 0.26], 1e-4)\n",
    "\n",
    "    attack_activations = [neuron_fwd_pass(point) for point in attack]\n",
    "    \n",
    "    return activation_contours, contour_vals, attack, attack_activations, grads, grad_coords"
   ]
  },
  {
   "cell_type": "markdown",
   "metadata": {},
   "source": [
    "### Define Models"
   ]
  },
  {
   "cell_type": "code",
   "execution_count": null,
   "metadata": {},
   "outputs": [],
   "source": [
    "example_dict = schematic_utils.toy.util.normalize_dict(np.asarray(\n",
    "    [[1, 0],\n",
    "     [1, 1],\n",
    "     [1, -1],\n",
    "    ]\n",
    "    ).T)\n",
    "\n",
    "LCA = schematic_utils.toy.models.LCA(example_dict)\n",
    "lca_neuron_1_forward_pass = lambda x: \\\n",
    "    LCA.forward_pass(x, num_iters=50)[0]\n",
    "\n",
    "MLP = schematic_utils.toy.models.MLP([example_dict.T])\n",
    "\n",
    "mlp_neuron_1_forward_pass = lambda x: \\\n",
    "    MLP.forward_pass(x)[0]"
   ]
  },
  {
   "cell_type": "markdown",
   "metadata": {},
   "source": [
    "### Run Attacks and Compute Contours\n",
    "\n",
    "The LCA computations take up to a few minutes."
   ]
  },
  {
   "cell_type": "code",
   "execution_count": null,
   "metadata": {},
   "outputs": [],
   "source": [
    "lca_N_contours, lca_contour_eps = 5, 1e-2\n",
    "lca_attack_start_coords = [0.1, 0.05]\n",
    "\n",
    "lca_activation_contours, lca_contour_vals, lca_attack, lca_attack_activations, lca_grads, lca_grad_coords =\\\n",
    "    compute_panel_info(lca_neuron_1_forward_pass, lca_attack_start_coords, lca_N_contours, lca_contour_eps)"
   ]
  },
  {
   "cell_type": "code",
   "execution_count": null,
   "metadata": {},
   "outputs": [],
   "source": [
    "mlp_N_contours, mlp_contour_eps = 6, 1e-2\n",
    "mlp_attack_start_coords = [0.1, 0.15]\n",
    "\n",
    "mlp_activation_contours, mlp_contour_vals, mlp_attack, mlp_attack_activations, mlp_grads, mlp_grad_coords =\\\n",
    "    compute_panel_info(mlp_neuron_1_forward_pass, mlp_attack_start_coords, mlp_N_contours, mlp_contour_eps)"
   ]
  },
  {
   "cell_type": "markdown",
   "metadata": {},
   "source": [
    "### Make Plots"
   ]
  },
  {
   "cell_type": "code",
   "execution_count": null,
   "metadata": {},
   "outputs": [],
   "source": [
    "f, axs = plt.subplots(ncols=2, figsize=(16, 12))\n",
    "\n",
    "lca_ax, mlp_ax = axs\n",
    "\n",
    "schematic_utils.toy.plot.make_contour_panel(\n",
    "    lca_activation_contours,\n",
    "    lca_contour_vals,\n",
    "    lca_attack, lca_attack_activations,\n",
    "    grads = lca_grads,\n",
    "    grad_coords = lca_grad_coords,\n",
    "    weight_vectors=LCA.dictionary[:, :2].T / 6,\n",
    "    ax=lca_ax)\n",
    "\n",
    "schematic_utils.toy.plot.make_contour_panel(\n",
    "    mlp_activation_contours,\n",
    "    mlp_contour_vals,\n",
    "    mlp_attack, mlp_attack_activations,\n",
    "    grads = mlp_grads,\n",
    "    grad_coords = mlp_grad_coords,\n",
    "    weight_vectors=LCA.dictionary[:, :2].T / 6,\n",
    "    ax=mlp_ax,\n",
    "    skip_x_axis_grads=False);"
   ]
  },
  {
   "cell_type": "markdown",
   "metadata": {},
   "source": [
    "# Figure 6c - Real Attack"
   ]
  },
  {
   "cell_type": "markdown",
   "metadata": {},
   "source": [
    "Attacks on the real network are run using the `schematic_utils.real` sub-module. Again, plotting is delefated to a sub-module."
   ]
  },
  {
   "cell_type": "markdown",
   "metadata": {},
   "source": [
    "### Building Network"
   ]
  },
  {
   "cell_type": "code",
   "execution_count": null,
   "metadata": {},
   "outputs": [],
   "source": [
    "class slp_lca_params(object):\n",
    "    def __init__(self):\n",
    "        self.model_type = \"lca\"\n",
    "        self.model_name = \"slp_lca_768_latent_cosyne_mnist\"\n",
    "        self.display_name = \"LCA\"\n",
    "        self.version = \"0.0\"\n",
    "        self.save_info = \"test_kurakin_targeted\"\n",
    "        self.overwrite_analysis_log = False"
   ]
  },
  {
   "cell_type": "code",
   "execution_count": null,
   "metadata": {},
   "outputs": [],
   "source": [
    "params_list = [slp_lca_params()]\n",
    "\n",
    "for params in params_list:\n",
    "    params.model_dir = (os.path.expanduser(\"~\")+\"/Work/Projects/\"+params.model_name)\n",
    "\n",
    "analyzer_list = [ap.get_analyzer(params.model_type) for params in params_list]\n",
    "\n",
    "for analyzer, params in zip(analyzer_list, params_list):\n",
    "    analyzer.setup(params)\n",
    "    analyzer.model.setup(analyzer.model_params)\n",
    "    analyzer.load_analysis(save_info=params.save_info)\n",
    "    analyzer.model_name = params.model_name"
   ]
  },
  {
   "cell_type": "markdown",
   "metadata": {},
   "source": [
    "The below was necessary on my machine because the `cp_loc` of the analyzer was not being set correctly."
   ]
  },
  {
   "cell_type": "code",
   "execution_count": null,
   "metadata": {},
   "outputs": [],
   "source": [
    "root_model_dir = os.path.expanduser(\"~\")+\"/Work/Projects/slp_lca_768_latent_cosyne_mnist/\"\n",
    "analysis_dir = root_model_dir + \"analysis/0.0/\"\n",
    "\n",
    "analyzer.analysis_params.cp_loc = root_model_dir + \"/checkpoints/slp_lca_768_latent_cosyne_mnist_v0.0-100000\""
   ]
  },
  {
   "cell_type": "markdown",
   "metadata": {},
   "source": [
    "### Loading Attack and Basis Functions"
   ]
  },
  {
   "cell_type": "code",
   "execution_count": null,
   "metadata": {},
   "outputs": [],
   "source": [
    "adversary_images_npz = \"class_adversary_images_analysis_test_kurakin_targeted.npz\"\n",
    "\n",
    "savefiles_dir = os.path.expanduser(\"~\")+\"/Work/Projects/slp_lca_768_latent_cosyne_mnist/analysis/0.0/savefiles\"\n",
    "\n",
    "npz_filepath = os.path.join(savefiles_dir, adversary_images_npz)\n",
    "\n",
    "attack = schematic_utils.real.util.retrieve_attack(npz_filepath)\n",
    "\n",
    "orig_class_bf, attack_class_bf = schematic_utils.real.util.retrieve_basis_functions(analyzer)"
   ]
  },
  {
   "cell_type": "code",
   "execution_count": null,
   "metadata": {},
   "outputs": [],
   "source": [
    "save = False\n",
    "\n",
    "f, ax = plt.subplots(nrows=1, ncols=1, figsize=(12, 12))\n",
    "\n",
    "_, ax = schematic_utils.real.plot.make_panel(analyzer, attack, orig_class_bf, attack_class_bf, ax=ax)\n",
    "\n",
    "if save:  #default is false\n",
    "    f.savefig(\"../Figure 6/Figure 6b.svg\")"
   ]
  },
  {
   "cell_type": "markdown",
   "metadata": {},
   "source": [
    "# Figure 6 - Combined"
   ]
  },
  {
   "cell_type": "code",
   "execution_count": null,
   "metadata": {},
   "outputs": [],
   "source": [
    "figsize = (2*16,16)#(figsize[0], figsize[1])\n",
    "f = plt.figure(figsize=figsize, dpi=dpi)\n",
    "fig_shape = (1, 4)\n",
    "\n",
    "mlp_ax = plt.subplot2grid(fig_shape, loc=(0, 0), colspan=1, fig=f)\n",
    "lca_ax = plt.subplot2grid(fig_shape, loc=(0, 1), colspan=1, fig=f)\n",
    "real_ax = plt.subplot2grid(fig_shape, loc=(0, 2), colspan=2, fig=f)\n",
    "\n",
    "schematic_utils.toy.plot.make_contour_panel(\n",
    "    mlp_activation_contours,\n",
    "    mlp_contour_vals,\n",
    "    mlp_attack, mlp_attack_activations,\n",
    "    grads = mlp_grads,\n",
    "    grad_coords = mlp_grad_coords,\n",
    "    weight_vectors=LCA.dictionary[:, :2].T / 6,\n",
    "    ax=mlp_ax,\n",
    "    skip_x_axis_grads=False);\n",
    "\n",
    "schematic_utils.toy.plot.make_contour_panel(\n",
    "    lca_activation_contours,\n",
    "    lca_contour_vals,\n",
    "    lca_attack, lca_attack_activations,\n",
    "    grads = lca_grads,\n",
    "    grad_coords = lca_grad_coords,\n",
    "    weight_vectors=LCA.dictionary[:, :2].T / 6,\n",
    "    ax=lca_ax)\n",
    "\n",
    "for ax in [mlp_ax, lca_ax]:\n",
    "  for ax_loc in [\"top\", \"bottom\", \"left\", \"right\"]:\n",
    "    ax.spines[ax_loc].set_color(None)\n",
    "\n",
    "\n",
    "schematic_utils.real.plot.make_panel(analyzer, attack, orig_class_bf, attack_class_bf, ax=real_ax);"
   ]
  },
  {
   "cell_type": "code",
   "execution_count": null,
   "metadata": {},
   "outputs": [],
   "source": [
    "for ext in file_extensions:#[\".png\", \".eps\"]:\n",
    "  save_name = (analyzer.analysis_out_dir+\"/vis/contours_and_gradients_schematic_new\"\n",
    "    +\"_\"+analyzer.analysis_params.save_info+ext)\n",
    "  f.savefig(save_name, transparent=False, bbox_inches=\"tight\", pad_inches=0.01, dpi=dpi)"
   ]
  },
  {
   "cell_type": "code",
   "execution_count": null,
   "metadata": {},
   "outputs": [],
   "source": [
    "fig_size_inches = f.get_size_inches()"
   ]
  },
  {
   "cell_type": "code",
   "execution_count": null,
   "metadata": {},
   "outputs": [],
   "source": [
    "fig_size_inches"
   ]
  },
  {
   "cell_type": "code",
   "execution_count": null,
   "metadata": {},
   "outputs": [],
   "source": [
    "f.set_size_inches(fig_size_inches/2)"
   ]
  },
  {
   "cell_type": "code",
   "execution_count": null,
   "metadata": {},
   "outputs": [],
   "source": [
    "for ext in file_extensions:#[\".png\", \".eps\"]:\n",
    "  save_name = (analyzer.analysis_out_dir+\"/vis/contours_and_gradients_schematic_small\"\n",
    "    +\"_\"+analyzer.analysis_params.save_info+ext)\n",
    "  f.savefig(save_name, transparent=False, bbox_inches=\"tight\", pad_inches=0.01, dpi=dpi)"
   ]
  },
  {
   "cell_type": "code",
   "execution_count": null,
   "metadata": {},
   "outputs": [],
   "source": []
  }
 ],
 "metadata": {
  "kernelspec": {
   "display_name": "Python 3",
   "language": "python",
   "name": "python3"
  },
  "language_info": {
   "codemirror_mode": {
    "name": "ipython",
    "version": 3
   },
   "file_extension": ".py",
   "mimetype": "text/x-python",
   "name": "python",
   "nbconvert_exporter": "python",
   "pygments_lexer": "ipython3",
   "version": "3.6.8"
  },
  "varInspector": {
   "cols": {
    "lenName": 16,
    "lenType": 16,
    "lenVar": 40
   },
   "kernels_config": {
    "python": {
     "delete_cmd_postfix": "",
     "delete_cmd_prefix": "del ",
     "library": "var_list.py",
     "varRefreshCmd": "print(var_dic_list())"
    },
    "r": {
     "delete_cmd_postfix": ") ",
     "delete_cmd_prefix": "rm(",
     "library": "var_list.r",
     "varRefreshCmd": "cat(var_dic_list()) "
    }
   },
   "types_to_exclude": [
    "module",
    "function",
    "builtin_function_or_method",
    "instance",
    "_Feature"
   ],
   "window_display": false
  }
 },
 "nbformat": 4,
 "nbformat_minor": 2
}
