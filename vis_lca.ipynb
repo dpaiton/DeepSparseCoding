{
 "cells": [
  {
   "cell_type": "markdown",
   "metadata": {},
   "source": [
    "## Imports"
   ]
  },
  {
   "cell_type": "code",
   "execution_count": 1,
   "metadata": {
    "scrolled": false
   },
   "outputs": [
    {
     "name": "stdout",
     "output_type": "stream",
     "text": [
      "env: CUDA_VISIBLE_DEVICES=1\n",
      "env: TF_CPP_MIN_LOG_LEVEL=1\n",
      "env: TF_CPP_MIN_VLOG_LEVEL=1\n"
     ]
    }
   ],
   "source": [
    "%env CUDA_VISIBLE_DEVICES=1\n",
    "%env TF_CPP_MIN_LOG_LEVEL=1\n",
    "%env TF_CPP_MIN_VLOG_LEVEL=1\n",
    "%matplotlib inline"
   ]
  },
  {
   "cell_type": "code",
   "execution_count": 2,
   "metadata": {
    "collapsed": true
   },
   "outputs": [],
   "source": [
    "import os\n",
    "os.environ['TF_CPP_MIN_LOG_LEVEL'] = '1'\n",
    "os.environ['TF_CPP_MIN_VLOG_LEVEL'] = '1'\n",
    "import numpy as np\n",
    "import matplotlib\n",
    "import matplotlib.pyplot as plt\n",
    "import matplotlib.gridspec as gridspec\n",
    "import tensorflow as tf\n",
    "tf.logging.set_verbosity(tf.logging.ERROR)\n",
    "import data.data_selector as ds\n",
    "import utils.data_processing as dp\n",
    "import utils.plot_functions as pf\n",
    "import analysis.analysis_picker as ap"
   ]
  },
  {
   "cell_type": "code",
   "execution_count": 3,
   "metadata": {
    "collapsed": true
   },
   "outputs": [],
   "source": [
    "analysis_params = {\n",
    "  \"model_type\": \"lca\",\n",
    "  \"model_name\": \"lca_256_l0_0.5\",\n",
    "  \"data_type\": \"vanHateren\",\n",
    "  \"num_patches\": 1e4,\n",
    "  \"device\": \"/gpu:0\",\n",
    "  \"version\": \"2.0\",\n",
    "  \"num_inference_images\": 5, #How many random images to average over for inference statistics\n",
    "  \"ft_padding\": 32, #Fourier analysis padding for weight fitting\n",
    "  \"clobber\": False}\n",
    "\n",
    "# Computed params\n",
    "analysis_params[\"model_dir\"] = (os.path.expanduser(\"~\")+\"/Work/Projects/nowht_v3/\"\n",
    "  +analysis_params[\"model_name\"]+\"_v\"+analysis_params[\"version\"])"
   ]
  },
  {
   "cell_type": "code",
   "execution_count": 4,
   "metadata": {
    "scrolled": false
   },
   "outputs": [],
   "source": [
    "analyzer = ap.get_analyzer(analysis_params)"
   ]
  },
  {
   "cell_type": "code",
   "execution_count": 5,
   "metadata": {
    "collapsed": true
   },
   "outputs": [],
   "source": [
    "analyzer.model_params[\"data_type\"] = analysis_params[\"data_type\"]\n",
    "analyzer.model_params[\"num_patches\"] = analysis_params[\"num_patches\"]\n",
    "data = ds.get_data(analyzer.model_params)\n",
    "data = analyzer.model.preprocess_dataset(data, analyzer.model_params)\n",
    "data = analyzer.model.reshape_dataset(data, analyzer.model_params)\n",
    "analyzer.model_params[\"data_shape\"] = list(data[\"train\"].shape[1:])\n",
    "analyzer.model.setup(analyzer.model_params, analyzer.model_schedule)\n",
    "analyzer.model_params[\"input_shape\"] = [\n",
    "  data[\"train\"].num_rows*data[\"train\"].num_cols*data[\"train\"].num_channels]"
   ]
  },
  {
   "cell_type": "code",
   "execution_count": 6,
   "metadata": {
    "collapsed": true,
    "scrolled": true
   },
   "outputs": [],
   "source": [
    "if analysis_params[\"clobber\"]:\n",
    "  analyzer.run_analysis(data[\"train\"].images, save_info=\"full_imgs\")\n",
    "else:\n",
    "  analyzer.load_analysis(save_info=\"full_imgs\")"
   ]
  },
  {
   "cell_type": "code",
   "execution_count": 7,
   "metadata": {
    "collapsed": true
   },
   "outputs": [],
   "source": [
    "#stats_fig = pf.plot_stats(analyzer.run_stats,\n",
    "#  keys=[\"a_fraction_active\", \"recon_loss\", \"sparse_loss\", \"total_loss\"],\n",
    "#  labels=[\"activity\", \"recon loss\", \"sparse loss\", \"total loss\"])"
   ]
  },
  {
   "cell_type": "code",
   "execution_count": 8,
   "metadata": {
    "collapsed": true,
    "scrolled": false
   },
   "outputs": [],
   "source": [
    "#atas_fig = pf.plot_data_tiled(analyzer.atas.T, normalize=False, title=\"Activity triggered averages on image data\")"
   ]
  },
  {
   "cell_type": "code",
   "execution_count": 9,
   "metadata": {
    "collapsed": true
   },
   "outputs": [],
   "source": [
    "#noise_images = np.random.standard_normal(data[\"train\"].images.shape) \n",
    "#noise_evals = analyzer.evaluate_model(noise_images, analyzer.var_names)\n",
    "#noise_atas = analyzer.compute_atas(noise_evals[\"inference/activity:0\"], noise_images)\n",
    "#noise_atas_fig = pf.plot_data_tiled(noise_atas.T, normalize=False, title=\"Activity triggered averages on standard normal noise data\")"
   ]
  },
  {
   "cell_type": "code",
   "execution_count": 10,
   "metadata": {
    "collapsed": true
   },
   "outputs": [],
   "source": [
    "#fig = pf.plot_data_tiled(analyzer.evals[\"weights/phi:0\"].T)"
   ]
  },
  {
   "cell_type": "code",
   "execution_count": 11,
   "metadata": {
    "collapsed": true
   },
   "outputs": [],
   "source": [
    "#dict_fig = pf.plot_data_tiled(analyzer.evals[\"weights/phi:0\"].T, normalize=False, title=\"Weights\")"
   ]
  },
  {
   "cell_type": "code",
   "execution_count": 12,
   "metadata": {
    "collapsed": true,
    "scrolled": false
   },
   "outputs": [],
   "source": [
    "#inf_trace_fig = pf.plot_inference_traces(analyzer.inference_stats, analyzer.model_schedule[0][\"sparse_mult\"])"
   ]
  },
  {
   "cell_type": "code",
   "execution_count": 13,
   "metadata": {
    "collapsed": true,
    "scrolled": false
   },
   "outputs": [],
   "source": [
    "#inf_stats_fig = pf.plot_inference_stats(analyzer.inference_stats, title=\"Loss During Inference\")"
   ]
  },
  {
   "cell_type": "code",
   "execution_count": 14,
   "metadata": {
    "collapsed": true
   },
   "outputs": [],
   "source": [
    "#rf_edge=10\n",
    "#y_loc, x_loc = (4,4)\n",
    "#Y,X = np.ogrid[-y_loc:rf_edge-y_loc, -x_loc:rf_edge-x_loc]\n",
    "#print(X)\n",
    "#print(Y)\n",
    "#print(X+Y)\n",
    "#print(X*X)\n",
    "#print(Y*Y)\n",
    "#print(X*X+Y*Y)"
   ]
  },
  {
   "cell_type": "code",
   "execution_count": 15,
   "metadata": {
    "collapsed": true,
    "scrolled": false
   },
   "outputs": [],
   "source": [
    "#grating = dp.generate_grating(rf_edge=16, location=(8,8), diameter=11,\n",
    "#  orientation=np.pi/4, cycles=3, phase=4*np.pi/6, contrast=0.7)\n",
    "#fig, ax = plt.subplots(1, figsize=(3, 3))\n",
    "#ax = pf.clear_axis(ax, spines=\"k\")\n",
    "#ax.imshow(grating, cmap=\"Greys_r\", vmin=0, vmax=1)\n",
    "#plt.show()"
   ]
  },
  {
   "cell_type": "code",
   "execution_count": 16,
   "metadata": {
    "collapsed": true
   },
   "outputs": [],
   "source": [
    "#constructed_bfs = np.zeros_like(analyzer.evals[\"weights/phi:0\"].T)\n",
    "#for bf_idx in range(constructed_bfs.shape[0]):\n",
    "#  params = dp.get_grating_params(analyzer.bf_stats, bf_idx)\n",
    "#  grating = dp.generate_grating(*params)\n",
    "#  constructed_bfs[bf_idx,...] = grating.reshape(256)\n",
    "#fig = pf.plot_data_tiled(constructed_bfs)"
   ]
  },
  {
   "cell_type": "code",
   "execution_count": 17,
   "metadata": {
    "collapsed": true
   },
   "outputs": [],
   "source": [
    "#tmp_bf_idx = 3\n",
    "#fit_bf_stats = dp.get_dictionary_stats(constructed_bfs, padding=32)\n",
    "#fit_spatial_frequency = fit_bf_stats[\"spatial_frequencies\"][tmp_bf_idx]\n",
    "#bf_spatial_frequency = dp.get_grating_params(analyzer.bf_stats, tmp_bf_idx)[4]\n",
    "#print(fit_spatial_frequency/bf_spatial_frequency)\n",
    "#print(np.pi/2)"
   ]
  },
  {
   "cell_type": "code",
   "execution_count": 18,
   "metadata": {
    "collapsed": true,
    "scrolled": false
   },
   "outputs": [],
   "source": [
    "#fig = pf.plot_data_tiled(constructed_bfs)"
   ]
  },
  {
   "cell_type": "code",
   "execution_count": 19,
   "metadata": {
    "collapsed": true,
    "scrolled": false
   },
   "outputs": [],
   "source": [
    "#from scipy.optimize import curve_fit\n",
    "#\n",
    "#num_phases = 12\n",
    "#num_orientations = 64\n",
    "#num_contrasts = 7\n",
    "#num_pixels = analyzer.bf_stats[\"patch_edge_size\"]**2\n",
    "#num_bfs = 49#analyzer.bf_stats[\"num_outputs\"]\n",
    "#\n",
    "#def gauss(x, *p):\n",
    "#  A, mu, sigma = p\n",
    "#  return A*np.exp(-(x-mu)**2/(2*sigma**2))\n",
    "#\n",
    "#grating = lambda orientation,phase,contrast:dp.generate_grating(*dp.get_grating_params(analyzer.bf_stats,\n",
    "#  bf_idx, orientation=orientation, phase=phase, contrast=contrast, diameter=-1))\n",
    "#\n",
    "#phases = np.linspace(-np.pi, np.pi, num_phases)\n",
    "#orientations = np.linspace(-np.pi, np.pi, num_orientations)\n",
    "#contrasts = np.linspace(0.4, 1.0, num_contrasts)\n",
    "#contrast_activations = np.zeros((num_bfs, num_contrasts, num_orientations))\n",
    "#half_widths = np.zeros((num_bfs, num_contrasts))\n",
    "#phase_activations = np.zeros((num_bfs, num_contrasts, num_orientations, num_phases))\n",
    "#best_phases = np.zeros((num_bfs, num_contrasts, num_orientations))\n",
    "#for bf_idx in range(num_bfs):\n",
    "#  for co_idx, contrast in enumerate(contrasts):\n",
    "#    orientation_activations = np.zeros(num_orientations)\n",
    "#    for or_idx, orientation in enumerate(orientations):\n",
    "#      phase_stims = np.array([grating(orientation, phase, contrast).reshape(num_pixels) for phase in phases])\n",
    "#      activity = analyzer.compute_activations(phase_stims)[:, bf_idx];\n",
    "#      phase_activations[bf_idx, co_idx, or_idx, :] = activity\n",
    "#      best_phases[bf_idx, co_idx, or_idx] = phases[np.argmax(activity)]\n",
    "#      orientation_activations[or_idx] = np.max(activity) - np.min(activity) # peak-to-peak amplitude\n",
    "#    norm_activity = orientation_activations / np.max(orientation_activations)\n",
    "#    #max_idx = np.argmax(norm_activity)\n",
    "#    #min_idx = np.argmin(norm_activity[:max_idx])\n",
    "#    #min_idx2 = np.argmin(norm_activity[max_idx:])\n",
    "#    #masked_act = norm_activity[min_idx:min_idx2]\n",
    "#    #masked_ori = orientations[min_idx:min_idx2]\n",
    "#    #p0 = [np.max(masked_act), np.mean(masked_act), np.std(masked_act)] # initial guess (A, mu, sigma)\n",
    "#    #try:\n",
    "#    #  coeff, var_matrix = curve_fit(gauss, masked_ori, masked_act, p0=p0)\n",
    "#    #  half_widths[bf_idx, co_idx] = 2*np.sqrt(2*np.log(2))*coeff[2]\n",
    "#    #except RuntimeError:\n",
    "#    #  half_widths[bf_idx, co_idx] = None\n",
    "#    contrast_activations[bf_idx, co_idx, :] = orientation_activations\n",
    "\n",
    "#if np.max(orientation_activations) > 0: # It's possible that the neuron didn't respond\n",
    "#  try:\n",
    "#    norm_activity = orientation_activations / np.max(orientation_activations)\n",
    "#    max_idx = np.argmax(norm_activity[1:])-1\n",
    "#    if max_idx > 0:\n",
    "#      min_idx = np.argmin(norm_activity[:max_idx])\n",
    "#    else:\n",
    "#      min_idx  = 0\n",
    "#    min_idx2 = np.argmin(norm_activity[max_idx:])\n",
    "#    if min_idx2<=1:\n",
    "#       min_idx2 = num_orientations\n",
    "#    masked_act = norm_activity[min_idx:min_idx2]\n",
    "#    masked_ori = orientations[min_idx:min_idx2]\n",
    "#    p0 = [np.max(masked_act), np.mean(masked_act), np.std(masked_act)] # init (A, mu, sigma)\n",
    "#    coeff, var_matrix = curve_fit(gauss, masked_ori, masked_act, p0=p0)\n",
    "#    half_widths[bf_idx, co_idx] = 2*np.sqrt(2*np.log(2))*coeff[2]\n",
    "#  except:\n",
    "#    half_widths[bf_idx, co_idx] = None\n",
    "#else:\n",
    "#  half_widths[bf_idx, co_idx] = None\n",
    "\n",
    "#data = np.load(analyzer.analysis_out_dir+\"/tuning_exp.npz\")[\"data\"].item()\n",
    "#phases = data[\"phases\"]\n",
    "#orientations = data[\"orientations\"]\n",
    "#contrasts = data[\"contrasts\"]\n",
    "#contrast_activations = data[\"contrast_activations\"]\n",
    "#half_widths = data[\"half_widths\"]\n",
    "#phase_activations = data[\"phase_activations\"]\n",
    "#best_phases = data[\"best_phases\"]"
   ]
  },
  {
   "cell_type": "code",
   "execution_count": 9,
   "metadata": {},
   "outputs": [
    {
     "ename": "KeyError",
     "evalue": "'activations'",
     "output_type": "error",
     "traceback": [
      "\u001b[0;31m---------------------------------------------------------------------------\u001b[0m",
      "\u001b[0;31mKeyError\u001b[0m                                  Traceback (most recent call last)",
      "\u001b[0;32m<ipython-input-9-7f1b5253d6b2>\u001b[0m in \u001b[0;36m<module>\u001b[0;34m()\u001b[0m\n\u001b[1;32m     12\u001b[0m   \u001b[0mot_orientations\u001b[0m \u001b[0;34m=\u001b[0m \u001b[0mot_grating_responses\u001b[0m\u001b[0;34m[\u001b[0m\u001b[0;34m\"orientations\"\u001b[0m\u001b[0;34m]\u001b[0m\u001b[0;34m\u001b[0m\u001b[0m\n\u001b[1;32m     13\u001b[0m \u001b[0mot_best_phases\u001b[0m \u001b[0;34m=\u001b[0m \u001b[0mot_grating_responses\u001b[0m\u001b[0;34m[\u001b[0m\u001b[0;34m\"best_phases\"\u001b[0m\u001b[0;34m]\u001b[0m\u001b[0;34m\u001b[0m\u001b[0m\n\u001b[0;32m---> 14\u001b[0;31m \u001b[0mot_activations\u001b[0m \u001b[0;34m=\u001b[0m \u001b[0mot_grating_responses\u001b[0m\u001b[0;34m[\u001b[0m\u001b[0;34m\"activations\"\u001b[0m\u001b[0;34m]\u001b[0m\u001b[0;34m\u001b[0m\u001b[0m\n\u001b[0m\u001b[1;32m     15\u001b[0m \u001b[0mot_contrast_activations\u001b[0m \u001b[0;34m=\u001b[0m \u001b[0mot_grating_responses\u001b[0m\u001b[0;34m[\u001b[0m\u001b[0;34m\"contrast_activations\"\u001b[0m\u001b[0;34m]\u001b[0m\u001b[0;34m\u001b[0m\u001b[0m\n\u001b[1;32m     16\u001b[0m \u001b[0mot_phase_activations\u001b[0m \u001b[0;34m=\u001b[0m \u001b[0mot_grating_responses\u001b[0m\u001b[0;34m[\u001b[0m\u001b[0;34m\"phase_activations\"\u001b[0m\u001b[0;34m]\u001b[0m\u001b[0;34m\u001b[0m\u001b[0m\n",
      "\u001b[0;31mKeyError\u001b[0m: 'activations'"
     ]
    }
   ],
   "source": [
    "if True:#analysis_params[\"clobber\"]:\n",
    "  ot_contrasts = np.linspace(0.4, 1.0, 4)\n",
    "  ot_phases = np.linspace(-np.pi, np.pi, 12)\n",
    "  ot_orientations = np.linspace(-np.pi, np.pi, 64)\n",
    "  ot_grating_responses = analyzer.orientation_tuning(ot_contrasts, ot_orientations, ot_phases)\n",
    "  #TODO: Broke?\n",
    "  #np.savez(analyzer.analysis_out_dir+\"ot_responses.npz\", data=ot_grating_responses)\n",
    "else:\n",
    "  ot_grating_responses = np.load(analyzer.analysis_out_dir+\"ot_responses.npz\")[\"data\"].item()\n",
    "  ot_contrasts = ot_grating_responses[\"contrasts\"]\n",
    "  ot_phases = ot_grating_responses[\"phases\"]\n",
    "  ot_orientations = ot_grating_responses[\"orientations\"]\n",
    "ot_best_phases = ot_grating_responses[\"best_phases\"]\n",
    "ot_contrast_activations = ot_grating_responses[\"contrast_activations\"]\n",
    "ot_phase_activations = ot_grating_responses[\"phase_activations\"]\n",
    "ot_phase_stims = ot_grating_responses[\"phase_stims\"]"
   ]
  },
  {
   "cell_type": "code",
   "execution_count": null,
   "metadata": {},
   "outputs": [],
   "source": [
    "#grating = lambda orientation,phase,contrast:dp.generate_grating(*dp.get_grating_params(analyzer.bf_stats, bf_idx,\n",
    "#  orientation=orientation, phase=phase, contrast=contrast, diameter=-1))\n",
    "##def plot_phase_orientation_responses(bf_idx, contrast_idx, analyzer):\n",
    "#bf_idx = 2\n",
    "#contrast_idx = -1\n",
    "#peak_orientation_idx = np.argmax(ot_contrast_activations[bf_idx, contrast_idx])\n",
    "#fig = plt.figure()\n",
    "#gs_widths = [1, 1]\n",
    "#gs_heights = [1, 1]\n",
    "#gs = gridspec.GridSpec(2, 2, wspace=0.6, hspace=0.8, width_ratios=gs_widths, height_ratios=gs_heights)\n",
    "#\n",
    "#ax = plt.subplot(gs[0,0])\n",
    "#ax.bar(ot_phases, ot_phase_activations[bf_idx, contrast_idx, peak_orientation_idx, :], width=0.3)\n",
    "#ax.set_xlabel(\"Phase (Radians)\")\n",
    "#ax.set_ylabel(\"Activation\")\n",
    "#\n",
    "#ax = plt.subplot(gs[0,1])\n",
    "#ax.bar(ot_orientations, ot_contrast_activations[bf_idx, contrast_idx], width=0.3)\n",
    "#ax.set_xlabel(\"Orientation (Radians)\")\n",
    "#ax.set_ylabel(\"Normalized\\nActivation\")\n",
    "#\n",
    "#ax = pf.clear_axis(plt.subplot(gs[1,0]))\n",
    "#ax.imshow(analyzer.bf_stats[\"basis_functions\"][bf_idx], cmap=\"Greys_r\")\n",
    "#\n",
    "#best_phase = ot_best_phases[bf_idx, contrast_idx, peak_orientation_idx]\n",
    "#stim = grating(ot_orientations[peak_orientation_idx], best_phase, contrast=1.0)\n",
    "#ax = pf.clear_axis(plt.subplot(gs[1,1]))\n",
    "#ax.imshow(stim, cmap=\"Greys_r\")\n",
    "#plt.show()"
   ]
  },
  {
   "cell_type": "code",
   "execution_count": 12,
   "metadata": {},
   "outputs": [
    {
     "data": {
      "image/png": "[encoded data removed]",
      "text/plain": [
       "<matplotlib.figure.Figure at 0x11cf27780>"
      ]
     },
     "metadata": {},
     "output_type": "display_data"
    }
   ],
   "source": [
    "num_bfs = 25\n",
    "cmap = plt.get_cmap('Greys')\n",
    "cNorm = matplotlib.colors.Normalize(vmin=0.0, vmax=1.0)\n",
    "scalarMap = matplotlib.cm.ScalarMappable(norm=cNorm, cmap=cmap)\n",
    "\n",
    "fig = plt.figure(figsize=(18,18))\n",
    "num_plots_y = np.int32(np.ceil(np.sqrt(num_bfs)))+1\n",
    "num_plots_x = np.int32(np.ceil(np.sqrt(num_bfs)))\n",
    "gs_widths = [1.0,]*num_plots_x\n",
    "gs_heights = [1.0,]*num_plots_y\n",
    "gs = gridspec.GridSpec(num_plots_y, num_plots_x, wspace=0.5, hspace=0.7, width_ratios=gs_widths, height_ratios=gs_heights)\n",
    "bf_idx = 0\n",
    "for plot_id in np.ndindex((num_plots_y, num_plots_x)):\n",
    "  (y_id, x_id) = plot_id\n",
    "  if y_id == 0 and x_id == 0:\n",
    "    ax = fig.add_subplot(gs[plot_id])\n",
    "    ax.set_ylabel(\"Normalized Activation\", fontsize=16)\n",
    "    ax00 = ax\n",
    "  else:\n",
    "    ax = fig.add_subplot(gs[plot_id], sharey=ax00)\n",
    "  if bf_idx < num_bfs:\n",
    "    #for co_idx, contrast in enumerate(ot_contrasts):\n",
    "    co_idx = -1\n",
    "    contrast = ot_contrasts[co_idx]\n",
    "    activity = ot_contrast_activations[bf_idx,co_idx,:]\n",
    "    color_val = scalarMap.to_rgba(contrast)\n",
    "    ax.plot(ot_orientations*(180/np.pi), activity, color=color_val)\n",
    "    ax.scatter(ot_orientations*(180/np.pi), activity, s=12, c=color_val)\n",
    "    bf_idx += 1\n",
    "  else:\n",
    "    ax = pf.clear_axis(ax, spines=\"none\")\n",
    "plt.show()"
   ]
  },
  {
   "cell_type": "code",
   "execution_count": null,
   "metadata": {},
   "outputs": [],
   "source": [
    "if True:#analysis_params[\"clobber\"]:\n",
    "  base_contrasts = [0.1, 0.2, 0.3, 0.4, 0.5]\n",
    "  base_phases = [ot_best_phases[bf_idx, -1, np.argmax(ot_contrast_activations[bf_idx,0,:])]\n",
    "    for bf_idx in range(analyzer.bf_stats[\"num_outputs\"])]\n",
    "  base_orientations = [ot_orientations[np.argmax(ot_contrast_activations[bf_idx,0,:])]\n",
    "    for bf_idx in range(analyzer.bf_stats[\"num_outputs\"])]\n",
    "  mask_contrasts = [0.1, 0.2, 0.3, 0.4, 0.5]\n",
    "  mask_orientations = np.linspace(-np.pi, np.pi, 32)\n",
    "  mask_phases = np.linspace(-np.pi, np.pi, 12)\n",
    "  co_grating_responses = analyzer.cross_orientation_suppression(base_contrasts, base_orientations, base_phases,\n",
    "    mask_contrasts, mask_orientations, mask_phases)\n",
    "  np.savez(analyzer.analysis_out_dir+\"co_responses.npz\", data=co_grating_responses)\n",
    "else:\n",
    "  co_grating_responses = np.load(analyzer.analysis_out_dir+\"co_responses.npz\")[\"data\"].item()\n",
    "  base_contrasts = co_grating_responses[\"base_contrasts\"]\n",
    "  base_phases = co_grating_responses[\"base_phases\"]\n",
    "  base_orientations = co_grating_responses[\"base_orientation\"]\n",
    "  mask_contrasts = co_grating_responses[\"mask_contrasts\"]\n",
    "  mask_orientations = co_grating_responses[\"mask_orientations\"]\n",
    "  mask_phases = co_grating_responses[\"mask_phases\"]\n",
    "\n",
    "co_test_stims = co_grating_responses[\"test_stims\"]\n",
    "co_base_stims = co_grating_responses[\"base_stims\"]\n",
    "co_test_responses = co_grating_responses[\"test_responses\"]"
   ]
  },
  {
   "cell_type": "code",
   "execution_count": null,
   "metadata": {},
   "outputs": [],
   "source": [
    "num_bfs = 9\n",
    "num_orientations = np.asarray(mask_orientations).size\n",
    "cmap = plt.get_cmap('Greys')\n",
    "cNorm = matplotlib.colors.Normalize(vmin=0.0, vmax=1.0)\n",
    "scalarMap = matplotlib.cm.ScalarMappable(norm=cNorm, cmap=cmap)\n",
    "\n",
    "fig = plt.figure(figsize=(18,18))\n",
    "num_plots_y = np.int32(np.ceil(np.sqrt(num_bfs)))+1\n",
    "num_plots_x = np.int32(np.ceil(np.sqrt(num_bfs)))\n",
    "gs_widths = [1.0,]*num_plots_x\n",
    "gs_heights = [1.0,]*num_plots_y\n",
    "gs = gridspec.GridSpec(num_plots_y, num_plots_x, wspace=0.5, hspace=0.7, width_ratios=gs_widths, height_ratios=gs_heights)\n",
    "bf_idx = 0\n",
    "for plot_id in np.ndindex((num_plots_y, num_plots_x)):\n",
    "  (y_id, x_id) = plot_id\n",
    "  if y_id == 0 and x_id == 0:\n",
    "    ax = fig.add_subplot(gs[plot_id])\n",
    "    ax.set_ylabel(\"Normalized Activation\", fontsize=16)\n",
    "    ax.set_ylim([0.0, np.max(co_test_responses)])\n",
    "    ax00 = ax\n",
    "  else:\n",
    "    ax = fig.add_subplot(gs[plot_id], sharey=ax00)\n",
    "  if bf_idx < num_bfs:\n",
    "    co_idx = -1\n",
    "    contrast = base_contrast\n",
    "    base_activity = co_base_activations[bf_idx, bf_idx]\n",
    "    masked_activity  = co_test_responses[bf_idx, co_idx, :]\n",
    "    color_val = scalarMap.to_rgba(1.0)#contrast)\n",
    "    ax.plot(mask_orientations*(180/np.pi), [base_activity,]*num_orientations, linestyle=\"--\", color=color_val)\n",
    "    ax.plot(mask_orientations*(180/np.pi), masked_activity, linestyle=\"-\", color=color_val)\n",
    "    ax.scatter(mask_orientations*(180/np.pi), masked_activity, s=12, c=color_val)\n",
    "    bf_idx += 1\n",
    "  else:\n",
    "    ax = pf.clear_axis(ax, spines=\"none\")\n",
    "plt.show()"
   ]
  },
  {
   "cell_type": "code",
   "execution_count": 13,
   "metadata": {},
   "outputs": [
    {
     "ename": "NameError",
     "evalue": "name 'mask_contrasts' is not defined",
     "output_type": "error",
     "traceback": [
      "\u001b[0;31m---------------------------------------------------------------------------\u001b[0m",
      "\u001b[0;31mNameError\u001b[0m                                 Traceback (most recent call last)",
      "\u001b[0;32m<ipython-input-13-4009aa1d0102>\u001b[0m in \u001b[0;36m<module>\u001b[0;34m()\u001b[0m\n\u001b[1;32m      1\u001b[0m \u001b[0mnum_bfs\u001b[0m \u001b[0;34m=\u001b[0m \u001b[0;36m25\u001b[0m\u001b[0;34m\u001b[0m\u001b[0m\n\u001b[1;32m      2\u001b[0m \u001b[0mnum_pixels\u001b[0m \u001b[0;34m=\u001b[0m \u001b[0;36m256\u001b[0m\u001b[0;34m\u001b[0m\u001b[0m\n\u001b[0;32m----> 3\u001b[0;31m \u001b[0mnum_contrasts\u001b[0m \u001b[0;34m=\u001b[0m \u001b[0mnp\u001b[0m\u001b[0;34m.\u001b[0m\u001b[0masarray\u001b[0m\u001b[0;34m(\u001b[0m\u001b[0mmask_contrasts\u001b[0m\u001b[0;34m)\u001b[0m\u001b[0;34m.\u001b[0m\u001b[0msize\u001b[0m\u001b[0;34m\u001b[0m\u001b[0m\n\u001b[0m\u001b[1;32m      4\u001b[0m \u001b[0mnum_orientations\u001b[0m \u001b[0;34m=\u001b[0m \u001b[0mnp\u001b[0m\u001b[0;34m.\u001b[0m\u001b[0masarray\u001b[0m\u001b[0;34m(\u001b[0m\u001b[0mmask_orientations\u001b[0m\u001b[0;34m)\u001b[0m\u001b[0;34m.\u001b[0m\u001b[0msize\u001b[0m\u001b[0;34m\u001b[0m\u001b[0m\n\u001b[1;32m      5\u001b[0m \u001b[0mnum_phases\u001b[0m \u001b[0;34m=\u001b[0m \u001b[0mnp\u001b[0m\u001b[0;34m.\u001b[0m\u001b[0masarray\u001b[0m\u001b[0;34m(\u001b[0m\u001b[0mmask_phases\u001b[0m\u001b[0;34m)\u001b[0m\u001b[0;34m.\u001b[0m\u001b[0msize\u001b[0m\u001b[0;34m\u001b[0m\u001b[0m\n",
      "\u001b[0;31mNameError\u001b[0m: name 'mask_contrasts' is not defined"
     ]
    }
   ],
   "source": [
    "num_bfs = 25\n",
    "num_pixels = 256\n",
    "num_contrasts = np.asarray(mask_contrasts).size\n",
    "num_orientations = np.asarray(mask_orientations).size\n",
    "num_phases = np.asarray(mask_phases).size\n",
    "\n",
    "grating = lambda bf_idx,orientation,phase,contrast:dp.generate_grating(\n",
    "  *dp.get_grating_params(bf_stats=analyzer.bf_stats, bf_idx=bf_idx, orientation=orientation,\n",
    "  phase=phase, contrast=contrast, diameter=-1)).reshape(num_pixels)\n",
    "\n",
    "base_stims = np.zeros((num_bfs, num_pixels))\n",
    "test_stims = np.zeros((num_bfs*num_contrasts*num_orientations*num_phases, num_pixels))\n",
    "stim_idx = 0\n",
    "for bf_idx in range(num_bfs):\n",
    "  base_stim = grating(bf_idx, base_orientations[bf_idx], base_phases[bf_idx], base_contrast)\n",
    "  base_stims[bf_idx,:] = base_stim\n",
    "  for contrast in mask_contrasts:\n",
    "    for orientation in mask_orientations:\n",
    "      for phase in mask_phases:\n",
    "        test_stim = grating(bf_idx, orientation, phase, contrast)\n",
    "        test_stims[stim_idx, :] = 0.5*(base_stim + test_stim)\n",
    "        stim_idx += 1\n",
    "test_stims = test_stims.reshape(num_bfs, num_contrasts, num_orientations, num_phases, num_pixels)"
   ]
  },
  {
   "cell_type": "code",
   "execution_count": null,
   "metadata": {
    "collapsed": true
   },
   "outputs": [],
   "source": [
    "bf_idx = 9\n",
    "co_idx = -1\n",
    "or_idx = np.argmax(co_test_responses[bf_idx, co_idx])#8\n",
    "best_phase = ot_best_phases[bf_idx, co_idx, or_idx]\n",
    "ph_idx = np.argwhere(mask_phases==best_phase)\n",
    "\n",
    "#test_stim = co_test_stims[bf_idx, co_idx, or_idx, ph_idx].reshape(16,16)\n",
    "#base_stim = co_base_stims[bf_idx].reshape((16,16))\n",
    "test_stim = test_stims[bf_idx, co_idx, or_idx, ph_idx].reshape(16,16)\n",
    "base_stim = base_stims[bf_idx].reshape((16,16))\n",
    "\n",
    "print(np.min(test_stim))\n",
    "print(np.max(test_stim))\n",
    "print(np.min(base_stim))\n",
    "print(np.max(base_stim))\n",
    "\n",
    "fig, ax = plt.subplots(1,3)\n",
    "ax[0] = pf.clear_axis(ax[0])\n",
    "ax[0].imshow(analyzer.bf_stats[\"basis_functions\"][bf_idx], cmap=\"Greys_r\")\n",
    "ax[1] = pf.clear_axis(ax[1])\n",
    "ax[1].imshow(base_stim, cmap=\"Greys_r\", vmin=0, vmax=1)\n",
    "ax[2] = pf.clear_axis(ax[2])\n",
    "ax[2].imshow(test_stim, cmap=\"Greys_r\", vmin=0, vmax=1)\n",
    "plt.show()"
   ]
  },
  {
   "cell_type": "code",
   "execution_count": null,
   "metadata": {
    "collapsed": true
   },
   "outputs": [],
   "source": []
  }
 ],
 "metadata": {
  "kernelspec": {
   "display_name": "Python 3",
   "language": "python",
   "name": "python3"
  },
  "language_info": {
   "codemirror_mode": {
    "name": "ipython",
    "version": 3
   },
   "file_extension": ".py",
   "mimetype": "text/x-python",
   "name": "python",
   "nbconvert_exporter": "python",
   "pygments_lexer": "ipython3",
   "version": "3.5.2"
  }
 },
 "nbformat": 4,
 "nbformat_minor": 1
}
