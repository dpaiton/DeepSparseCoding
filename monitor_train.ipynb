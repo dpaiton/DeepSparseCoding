{
 "cells": [
  {
   "cell_type": "markdown",
   "metadata": {},
   "source": [
    "## Imports"
   ]
  },
  {
   "cell_type": "code",
   "execution_count": null,
   "metadata": {
    "scrolled": false
   },
   "outputs": [],
   "source": [
    "%env CUDA_VISIBLE_DEVICES=1\n",
    "%matplotlib inline"
   ]
  },
  {
   "cell_type": "code",
   "execution_count": null,
   "metadata": {
    "collapsed": true
   },
   "outputs": [],
   "source": [
    "import os                                                                       \n",
    "import re\n",
    "import time as ti\n",
    "import numpy as np                                                              \n",
    "import matplotlib.pyplot as plt\n",
    "import scipy\n",
    "import tensorflow as tf                                                         \n",
    "import data.data_selector as ds                                                   \n",
    "import utils.plot_functions as pf                                               \n",
    "import analysis.analysis_picker as ap\n",
    "import utils.log_parser as lp"
   ]
  },
  {
   "cell_type": "code",
   "execution_count": null,
   "metadata": {
    "collapsed": true
   },
   "outputs": [],
   "source": [
    "params = {\n",
    "  \"model_type\": \"conv_lca\",\n",
    "  \"model_name\": \"conv_lca_vh_patch\",\n",
    "  \"version\": \"0.0\"}\n",
    "params[\"model_dir\"] = (os.path.expanduser(\"~\")+\"/Work/Projects/\"\n",
    "  +params[\"model_name\"])"
   ]
  },
  {
   "cell_type": "code",
   "execution_count": null,
   "metadata": {
    "collapsed": true
   },
   "outputs": [],
   "source": [
    "log_file = (params[\"model_dir\"]+\"/logfiles/\"+params[\"model_name\"]+\"_v\"+params[\"version\"]+\".log\")"
   ]
  },
  {
   "cell_type": "code",
   "execution_count": null,
   "metadata": {
    "scrolled": false
   },
   "outputs": [],
   "source": [
    "log_text = lp.load_file(log_file)\n",
    "model_params = lp.read_params(log_text)\n",
    "model_schedule = lp.read_schedule(log_text)\n",
    "\n",
    "stats_fig = pf.plot_stats(lp.read_stats(log_text),\n",
    "  keys=[\"a_fraction_active\", \"recon_loss\", \"sparse_loss\", \"total_loss\"],\n",
    "  labels=[\"activity\", \"recon loss\", \"sparse loss\", \"total loss\"])\n",
    "\n",
    "vis_dir = (model_params[\"out_dir\"]+model_params[\"model_name\"]+\"/vis/\")\n",
    "weight_details = \"phi_v\"+model_params[\"version\"]+\"_\"\n",
    "outputs = [file for file in os.listdir(vis_dir) if weight_details in file and \"dphi\" not in file]\n",
    "indices = sorted([(mid, int(match.group(1)))\n",
    "  for mid, match in\n",
    "  enumerate([re.search(\"_(\\d+)\",output) for output in outputs])\n",
    "  if match], key=lambda x:x[1])\n",
    "disp_filename = vis_dir+outputs[indices[-1][0]]\n",
    "weights = scipy.ndimage.imread(disp_filename)\n",
    "fig, ax = plt.subplots(1, figsize=(12,12))\n",
    "ax.imshow(weights)\n",
    "ax = pf.clear_axis(ax)\n",
    "plt.show()\n",
    "\n",
    "recon_details = \"recons_v\"+model_params[\"version\"]\n",
    "outputs = [file for file in os.listdir(vis_dir) if recon_details in file]\n",
    "indices = sorted([(mid, int(match.group(1)))\n",
    "  for mid, match in\n",
    "  enumerate([re.search(\"-(\\d+)\",output) for output in outputs])\n",
    "  if match], key=lambda x:x[1])\n",
    "disp_filename = vis_dir+outputs[indices[-1][0]]\n",
    "recon = scipy.ndimage.imread(disp_filename)\n",
    "fig, ax = plt.subplots(1, figsize=(2,2))\n",
    "ax.imshow(recon)\n",
    "ax = pf.clear_axis(ax)\n",
    "ax.set_title(\"Reconstruction\")\n",
    "plt.show()"
   ]
  },
  {
   "cell_type": "code",
   "execution_count": null,
   "metadata": {
    "collapsed": true
   },
   "outputs": [],
   "source": [
    "log_int = model_params[\"log_int\"]\n",
    "plot_int = model_params[\"gen_plot_int\"]"
   ]
  },
  {
   "cell_type": "code",
   "execution_count": null,
   "metadata": {},
   "outputs": [],
   "source": [
    "num_in_avg = 3\n",
    "time_list = [None,]*(num_in_avg)\n",
    "for i in range(num_in_avg+1):\n",
    "  log_mtime = os.stat(log_file).st_mtime\n",
    "  start = np.floor(ti.clock())\n",
    "  while np.floor(log_mtime) >= np.floor(os.stat(log_file).st_mtime):\n",
    "    pass\n",
    "  end = np.floor(ti.clock())\n",
    "  if i > 0:\n",
    "    time_list[i-1] = end - start\n",
    "avg_time = np.mean(time_list)\n",
    "\n",
    "log_mtime = os.stat(log_file).st_mtime\n",
    "first_run = True\n",
    "while True:\n",
    "  ti.sleep(avg_time)\n",
    "  if np.floor(os.stat(log_file).st_mtime) > np.floor(log_mtime):\n",
    "    if first_run:\n",
    "      stats_fig = pf.plot_stats(lp.read_stats(log_text),\n",
    "        keys=[\"a_fraction_active\", \"recon_loss\", \"sparse_loss\", \"total_loss\"],\n",
    "        labels=[\"activity\", \"recon loss\", \"sparse loss\", \"total loss\"])\n",
    "    else:\n",
    "      stats_fig.canvas.draw() \n",
    "      first_run = False\n",
    "    log_mtime = os.stat(log_file).st_mtime"
   ]
  },
  {
   "cell_type": "code",
   "execution_count": null,
   "metadata": {},
   "outputs": [],
   "source": [
    "img_dir = (model_params[\"out_dir\"]+model_params[\"model_name\"]+\"/vis/\")\n",
    "file_details = \"phi_v\"+model_params[\"version\"]+\"_\"\n",
    "outputs = [file for file in os.listdir(img_dir) if file_details in file and \"dphi\" not in file]\n",
    "indices = sorted([(mid, int(match.group(1)))\n",
    "  for mid, match in\n",
    "  enumerate([re.search(\"_(\\d+)\",output) for output in outputs])\n",
    "  if match], key=lambda x:x[1])\n",
    "disp_filename = img_dir+outputs[indices[-1][0]]\n",
    "weights = scipy.ndimage.imread(disp_filename)\n",
    "fig, ax = plt.subplots(1)\n",
    "ax.imshow(weights)\n",
    "ax = pf.clear_axis(ax)\n",
    "plt.show()"
   ]
  }
 ],
 "metadata": {
  "kernelspec": {
   "display_name": "Python 3",
   "language": "python",
   "name": "python3"
  },
  "language_info": {
   "codemirror_mode": {
    "name": "ipython",
    "version": 3
   },
   "file_extension": ".py",
   "mimetype": "text/x-python",
   "name": "python",
   "nbconvert_exporter": "python",
   "pygments_lexer": "ipython3",
   "version": "3.4.3"
  }
 },
 "nbformat": 4,
 "nbformat_minor": 1
}
