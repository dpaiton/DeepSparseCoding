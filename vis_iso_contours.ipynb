{
 "cells": [
  {
   "cell_type": "markdown",
   "metadata": {},
   "source": [
    "### BF Analysis & Iso-Response Contours"
   ]
  },
  {
   "cell_type": "code",
   "execution_count": 1,
   "metadata": {
    "scrolled": true
   },
   "outputs": [
    {
     "name": "stdout",
     "output_type": "stream",
     "text": [
      "env: CUDA_VISIBLE_DEVICES=1\n"
     ]
    }
   ],
   "source": [
    "%env CUDA_VISIBLE_DEVICES=1\n",
    "%matplotlib inline"
   ]
  },
  {
   "cell_type": "code",
   "execution_count": 2,
   "metadata": {},
   "outputs": [],
   "source": [
    "import os\n",
    "import numpy as np\n",
    "import matplotlib\n",
    "import matplotlib.pyplot as plt\n",
    "import matplotlib.gridspec as gridspec\n",
    "from mpl_toolkits.mplot3d import Axes3D\n",
    "from matplotlib.ticker import FormatStrFormatter\n",
    "import tensorflow as tf\n",
    "from data.dataset import Dataset\n",
    "import data.data_selector as ds\n",
    "import utils.data_processing as dp\n",
    "import utils.plot_functions as pf\n",
    "import analysis.analysis_picker as ap"
   ]
  },
  {
   "cell_type": "markdown",
   "metadata": {},
   "source": [
    "### Gaussian ball perturbation analysis"
   ]
  },
  {
   "cell_type": "code",
   "execution_count": 3,
   "metadata": {},
   "outputs": [],
   "source": [
    "class lca_params(object):\n",
    "  def __init__(self):\n",
    "    self.model_type = \"lca\"\n",
    "    self.model_name = \"lca_768_mnist\"\n",
    "    self.version = \"0.0\"\n",
    "    self.save_info = \"analysis_kurakin\"\n",
    "    self.overwrite_analysis_log = False\n",
    "    \n",
    "class sae_params(object):\n",
    "  def __init__(self):\n",
    "    self.model_type = \"sae\"\n",
    "    self.model_name = \"sae_768_mnist\"\n",
    "    self.version = \"0.0\"\n",
    "    self.save_info = \"analysis_kurakin\"\n",
    "    self.overwrite_analysis_log = False\n",
    "  \n",
    "#class vae_params(object):\n",
    "#  def __init__(self):\n",
    "#    self.model_type = \"vae\"\n",
    "#    self.model_name = \"vae_mnist\"\n",
    "#    self.version = \"0.0\"\n",
    "#    self.save_info = \"analysis_carlini\"\n",
    "#    self.overwrite_analysis_log = False\n",
    "\n",
    "params_list = [lca_params(), sae_params()]\n",
    "model_name_list = [params.model_name for params in params_list]\n",
    "\n",
    "for params in params_list:\n",
    "  params.model_dir = (os.path.expanduser(\"~\")+\"/Work/Projects/\"+params.model_name)"
   ]
  },
  {
   "cell_type": "code",
   "execution_count": 4,
   "metadata": {},
   "outputs": [],
   "source": [
    "analyzer_list = [ap.get_analyzer(params.model_type) for params in params_list]\n",
    "for analyzer, params in zip(analyzer_list, params_list):\n",
    "  analyzer.setup(params)\n",
    "  analyzer.model.setup(analyzer.model_params)\n",
    "  analyzer.load_analysis(save_info=params.save_info)"
   ]
  },
  {
   "cell_type": "code",
   "execution_count": 5,
   "metadata": {},
   "outputs": [
    {
     "name": "stdout",
     "output_type": "stream",
     "text": [
      "Preprocessing: Normalized train data with maximum\n",
      "Preprocessing: Normalized test data with maximum\n"
     ]
    }
   ],
   "source": [
    "dataset = ds.get_data(analyzer_list[0].model_params)\n",
    "dataset = analyzer_list[0].model.preprocess_dataset(dataset, analyzer_list[0].model_params)\n",
    "dataset = analyzer_list[0].model.reshape_dataset(dataset, analyzer_list[0].model_params)\n",
    "target_image = dataset[\"train\"].images[0,...]"
   ]
  },
  {
   "cell_type": "code",
   "execution_count": 6,
   "metadata": {},
   "outputs": [
    {
     "name": "stdout",
     "output_type": "stream",
     "text": [
      "Testing on 3200 images\n",
      "Mean MSE = 0.00127551020522582\n"
     ]
    }
   ],
   "source": [
    "# Get images that are adversarial\n",
    "adv_image_set = []\n",
    "prev_num_adv_images = None\n",
    "for analyzer in analyzer_list:\n",
    "  adv_images = analyzer.adversarial_images[0][-1]\n",
    "  num_model_adv_images = adv_images.shape[0]\n",
    "  if prev_num_adv_images is None:\n",
    "    prev_num_adv_images = num_model_adv_images\n",
    "  else:\n",
    "    assert num_model_adv_images == prev_num_adv_images\n",
    "  adv_images = adv_images / np.sqrt(np.sum(np.square(adv_images), axis=1, keepdims=True))\n",
    "  model_adv_image_set = []\n",
    "  for image_id in range(num_model_adv_images):\n",
    "    model_adv_image_set.append(target_image + adv_images[image_id, :])\n",
    "  adv_image_set.append(model_adv_image_set)\n",
    "\n",
    "num_adv_images = num_model_adv_images * len(analyzer_list)\n",
    "\n",
    "# Get images that are from the dataset\n",
    "num_dataset_images = num_model_adv_images\n",
    "image_set = dataset[\"train\"].images[1:num_dataset_images+1, ...]\n",
    "image_set /= np.sqrt(np.sum(np.square(image_set), axis=1, keepdims=True))\n",
    "image_set += target_image[None, ...]\n",
    "\n",
    "# Get random images\n",
    "num_rand_images = num_dataset_images\n",
    "noise_scale_mult = 1.0\n",
    "rand_image_set = []\n",
    "dimensionality = target_image.size\n",
    "rand_vect = np.random.multivariate_normal(mean=[0,]*dimensionality,\n",
    "  cov=np.identity(dimensionality), size=(num_rand_images))\n",
    "rand_vect /= np.sqrt(np.sum(np.square(rand_vect), axis=1, keepdims=True))\n",
    "rand_vect *= noise_scale_mult\n",
    "for datapoint in range(num_rand_images):\n",
    "  rand_image_set.append(target_image + rand_vect[datapoint, ...])\n",
    "rand_image_set = np.stack(rand_image_set) \n",
    "\n",
    "stimulus_set = np.concatenate([target_image[None,...]]+adv_image_set+[image_set, rand_image_set])\n",
    "\n",
    "mse = lambda x,y: np.mean(np.square(x-y))\n",
    "print(\"Testing on\", stimulus_set.shape[0]-1, \"images\")\n",
    "print(\"Mean MSE =\", np.mean([mse(stimulus_set[0, ...], stimulus_set[idx, ...])\n",
    "  for idx in range(1, stimulus_set.shape[0])]))"
   ]
  },
  {
   "cell_type": "code",
   "execution_count": 7,
   "metadata": {
    "scrolled": false
   },
   "outputs": [
    {
     "name": "stdout",
     "output_type": "stream",
     "text": [
      "INFO:tensorflow:Restoring parameters from /home/dpaiton/Work/Projects/lca_768_mnist/checkpoints/lca_768_mnist_v0.0-500000\n",
      "INFO:tensorflow:Restoring parameters from /home/dpaiton/Work/Projects/sae_768_mnist/checkpoints/sae_768_mnist_v0.0-30000\n",
      "lca_768_mnist -> recon MSE 0.0072916666253215676\n",
      "sae_768_mnist -> recon MSE 0.02994138520969554\n"
     ]
    }
   ],
   "source": [
    "evals_list = [analyzer.evaluate_model(stimulus_set, [\"inference/activity:0\", \"output/reconstruction:0\"])\n",
    "  for analyzer in analyzer_list]\n",
    "activations_list = [model_evals[\"inference/activity:0\"] for model_evals in evals_list]\n",
    "recons_list = [model_evals[\"output/reconstruction:0\"] for model_evals in evals_list]\n",
    "\n",
    "for model_name, recon in zip(model_name_list, recons_list):\n",
    "  print(model_name, \"-> recon MSE\", mse(stimulus_set[0], recon[0]))"
   ]
  },
  {
   "cell_type": "code",
   "execution_count": 8,
   "metadata": {},
   "outputs": [],
   "source": [
    "l2_dist = lambda x,y: np.sqrt(np.sum(np.square(x-y)))\n",
    "\n",
    "# Distance from target_image to perturbations\n",
    "img_distances = [l2_dist(rand_image_set[img_id, ...], rand_image_set[0, ...])\n",
    "  for img_id in range(1, rand_image_set.shape[0])]\n",
    "\n",
    "# Distance from recons of target_image to recons of perturbations\n",
    "enc_distances_list = []\n",
    "rec_distances_list = []\n",
    "for activations, recons in zip(activations_list, recons_list):\n",
    "  enc_distances_list.append([l2_dist(activations[img_id, :], activations[0,:])\n",
    "    for img_id in range(1, activations.shape[0])])\n",
    "  rec_distances_list.append([l2_dist(recons[img_id, :], recons[0, :])\n",
    "    for img_id in range(1, recons.shape[0])])"
   ]
  },
  {
   "cell_type": "code",
   "execution_count": 9,
   "metadata": {},
   "outputs": [],
   "source": [
    "lca_lca_adv_distances = rec_distances_list[0][:num_model_adv_images]\n",
    "lca_sae_adv_distances = rec_distances_list[0][num_model_adv_images:2*num_model_adv_images]\n",
    "lca_dataset_distances = rec_distances_list[0][num_adv_images:num_adv_images+num_dataset_images]\n",
    "lca_noise_distances = rec_distances_list[0][num_adv_images+num_dataset_images:]\n",
    "\n",
    "sae_lca_adv_distances = rec_distances_list[1][:num_model_adv_images]\n",
    "sae_sae_adv_distances = rec_distances_list[1][num_model_adv_images:2*num_model_adv_images]\n",
    "sae_dataset_distances = rec_distances_list[1][num_adv_images:num_adv_images+num_dataset_images]\n",
    "sae_noise_distances = rec_distances_list[1][num_adv_images+num_dataset_images:]"
   ]
  },
  {
   "cell_type": "code",
   "execution_count": 10,
   "metadata": {
    "scrolled": false
   },
   "outputs": [
    {
     "data": {
      "image/png": "[encoded data removed]",
      "text/plain": [
       "<Figure size 864x288 with 2 Axes>"
      ]
     },
     "metadata": {
      "needs_background": "light"
     },
     "output_type": "display_data"
    }
   ],
   "source": [
    "fontsize = 18\n",
    "wspace = 0.4\n",
    "line_alpha = 0.7\n",
    "\n",
    "num_bins = 50\n",
    "min_dist = 0.0\n",
    "max_dist = 1.0\n",
    "bins = np.linspace(min_dist, max_dist, num_bins)\n",
    "\n",
    "fig = plt.figure(figsize=(12, 4))\n",
    "\n",
    "gs = gridspec.GridSpec(1, 3, wspace=wspace)\n",
    "\n",
    "ax = plt.subplot(gs[0])\n",
    "\n",
    "lca_lca_adv_rec_hist, bin_edges = np.histogram(lca_lca_adv_distances, bins=bins)\n",
    "lca_lca_adv_rec_hist = lca_lca_adv_rec_hist / np.max(lca_lca_adv_rec_hist)\n",
    "\n",
    "lca_sae_adv_rec_hist = np.histogram(lca_sae_adv_distances, bins=bins)[0]\n",
    "lca_sae_adv_rec_hist = lca_sae_adv_rec_hist / np.max(lca_sae_adv_rec_hist)\n",
    "\n",
    "lca_dataset_rec_hist = np.histogram(lca_dataset_distances, bins=bins)[0]\n",
    "lca_dataset_rec_hist = lca_dataset_rec_hist / np.max(lca_dataset_rec_hist)\n",
    "\n",
    "lca_noise_rec_hist = np.histogram(lca_noise_distances, bins=bins)[0]\n",
    "lca_noise_rec_hist = lca_noise_rec_hist / np.max(lca_noise_rec_hist)\n",
    "\n",
    "bin_left, bin_right = bin_edges[:-1], bin_edges[1:]\n",
    "bin_centers = bin_left + (bin_right - bin_left)/2\n",
    "ax.plot(bin_left, lca_lca_adv_rec_hist, color='k', alpha=line_alpha, linestyle=\"--\", drawstyle=\"steps-mid\", label=\"LCA Adversarial recon distances\")\n",
    "ax.plot(bin_left, lca_sae_adv_rec_hist, color='c', alpha=line_alpha, linestyle=\"--\", drawstyle=\"steps-mid\", label=\"SAE Adversarial recon distances\")\n",
    "ax.plot(bin_left, lca_dataset_rec_hist, color='r', alpha=line_alpha, linestyle=\"-.\", drawstyle=\"steps-mid\", label=\"Image recon distances\")\n",
    "ax.plot(bin_left, lca_noise_rec_hist, color='b', alpha=line_alpha, linestyle=\"-\", drawstyle=\"steps-mid\", label=\"Noise recon distances\")\n",
    "#ax.set_xticks(bin_left[::14], minor=False)\n",
    "#ax.set_xticks(bin_left[::7], minor=True)\n",
    "ax.xaxis.set_major_formatter(FormatStrFormatter(\"%0.2f\"))\n",
    "ax.set_xlabel(\"L2 Distance\", fontsize=fontsize)\n",
    "ax.set_ylabel(\"Count\", fontsize=fontsize)\n",
    "ax.set_title(\"LCA\", fontsize=fontsize)\n",
    "ax.tick_params(\"both\", labelsize=fontsize)\n",
    "\n",
    "ax = plt.subplot(gs[1])\n",
    "\n",
    "sae_lca_adv_rec_hist = np.histogram(sae_lca_adv_distances, bins=bins)[0]\n",
    "sae_lca_adv_rec_hist = sae_lca_adv_rec_hist / np.max(sae_lca_adv_rec_hist)\n",
    "\n",
    "sae_sae_adv_rec_hist = np.histogram(sae_sae_adv_distances, bins=bins)[0]\n",
    "sae_sae_adv_rec_hist = sae_sae_adv_rec_hist / np.max(sae_sae_adv_rec_hist)\n",
    "\n",
    "sae_dataset_rec_hist = np.histogram(sae_dataset_distances, bins=bins)[0]\n",
    "sae_dataset_rec_hist = sae_dataset_rec_hist / np.max(sae_dataset_rec_hist)\n",
    "\n",
    "sae_noise_rec_hist = np.histogram(sae_noise_distances, bins=bins)[0]\n",
    "sae_noise_rec_hist = sae_noise_rec_hist / np.max(sae_noise_rec_hist)\n",
    "\n",
    "ax.plot(bin_left, sae_lca_adv_rec_hist, color='k', alpha=line_alpha, linestyle=\"--\", drawstyle=\"steps-mid\", label=\"LCA Adversarial recon distances\")\n",
    "ax.plot(bin_left, sae_sae_adv_rec_hist, color='c', alpha=line_alpha, linestyle=\"--\", drawstyle=\"steps-mid\", label=\"SAE Adversarial recon distances\")\n",
    "ax.plot(bin_left, sae_dataset_rec_hist, color='r', alpha=line_alpha, linestyle=\"-.\", drawstyle=\"steps-mid\", label=\"Image recon distances\")\n",
    "ax.plot(bin_left, sae_noise_rec_hist, color='b', alpha=line_alpha, linestyle=\"-\", drawstyle=\"steps-mid\", label=\"Noise recon distances\")\n",
    "#ax.set_xticks(bin_left[::14], minor=False)\n",
    "#ax.set_xticks(bin_left[::7], minor=True)\n",
    "ax.xaxis.set_major_formatter(FormatStrFormatter(\"%0.2f\"))\n",
    "ax.set_xlabel(\"L2 Distance\", fontsize=fontsize)\n",
    "ax.set_ylabel(\"Count\", fontsize=fontsize)\n",
    "ax.set_title(\"SAE\", fontsize=fontsize)\n",
    "ax.tick_params(\"both\", labelsize=fontsize)\n",
    "\n",
    "ax.legend(fontsize=fontsize, fancybox=True, shadow=True, bbox_to_anchor=(1.1, 0.8))\n",
    "\n",
    "plt.show()\n",
    "\n",
    "for analyzer in analyzer_list:\n",
    "  fig.savefig(analyzer.analysis_out_dir+\"/vis/network_noise_perturbation_hist.png\")"
   ]
  },
  {
   "cell_type": "code",
   "execution_count": 11,
   "metadata": {},
   "outputs": [],
   "source": [
    "cos_similarity_list = []\n",
    "for analyzer in analyzer_list:\n",
    "  cos_similarity_list.append(analyzer.adversarial_target_adv_cos_similarities[0][-1]) #[r_mult], [step], [batch]"
   ]
  },
  {
   "cell_type": "code",
   "execution_count": 12,
   "metadata": {
    "scrolled": true
   },
   "outputs": [
    {
     "data": {
      "image/png": "[encoded data removed]",
      "text/plain": [
       "<Figure size 864x288 with 1 Axes>"
      ]
     },
     "metadata": {
      "needs_background": "light"
     },
     "output_type": "display_data"
    }
   ],
   "source": [
    "num_bins = 50\n",
    "min_dist = 0.0\n",
    "max_dist = 1.0\n",
    "bins = np.linspace(min_dist, max_dist, num_bins)\n",
    "lca_dist_hist, bin_edges = np.histogram(cos_similarity_list[0], bins=bins)\n",
    "lca_dist_hist = lca_dist_hist / np.max(lca_dist_hist)\n",
    "lca_dist_mean = np.mean(cos_similarity_list[0])\n",
    "lca_dist_std = np.std(cos_similarity_list[0])\n",
    "\n",
    "sae_dist_hist = np.histogram(cos_similarity_list[1], bins=bins)[0]\n",
    "sae_dist_hist = sae_dist_hist / np.max(sae_dist_hist)\n",
    "sae_dist_mean = np.mean(cos_similarity_list[1])\n",
    "sae_dist_std = np.std(cos_similarity_list[1])\n",
    "\n",
    "sensitivity_index = (lca_dist_mean - sae_dist_mean) / np.sqrt(0.5 * (lca_dist_std**2 + sae_dist_std**2))\n",
    "\n",
    "bin_left, bin_right = bin_edges[:-1], bin_edges[1:]\n",
    "bin_centers = bin_left + (bin_right - bin_left)/2\n",
    "\n",
    "fig, ax = plt.subplots(1, figsize=(12,4))\n",
    "\n",
    "ax.plot(bin_left, lca_dist_hist, color='k', alpha=line_alpha, linestyle=\"--\", drawstyle=\"steps-mid\", label=\"LCA\")\n",
    "ax.plot(bin_left, sae_dist_hist, color='g', alpha=line_alpha, linestyle=\"--\", drawstyle=\"steps-mid\", label=\"SAE\")\n",
    "\n",
    "title = (\"Cosine Similarity of Adversarial Examples to Dataset Images\")\n",
    "#title = (\"Cosine Similarity of Adversarial Examples to Dataset Images\\n\"\n",
    "#         +\"Sensitivity Index = \"+str(np.round(sensitivity_index, decimals=2)))\n",
    "ax.set_title(title, fontsize=fontsize)\n",
    "ax.set_xlabel(\"Cosine Similarity\", fontsize=fontsize)\n",
    "ax.set_ylabel(\"Normalized Count\", fontsize=fontsize)\n",
    "ax.tick_params(\"both\", labelsize=fontsize)\n",
    "\n",
    "ax.legend(fontsize=fontsize, fancybox=True, shadow=True, bbox_to_anchor=(0.8, 0.8))\n",
    "plt.show()\n",
    "\n",
    "for analyzer in analyzer_list:\n",
    "  fig.savefig(analyzer.analysis_out_dir+\"/vis/cosyne_similarity.png\", transparent=True, bbox_inches=\"tight\", pad_inches=0.01)"
   ]
  },
  {
   "cell_type": "markdown",
   "metadata": {},
   "source": [
    "### END Gaussian ball perturbation analysis"
   ]
  },
  {
   "cell_type": "code",
   "execution_count": 13,
   "metadata": {},
   "outputs": [],
   "source": [
    "class params(object):\n",
    "  def __init__(self):\n",
    "    self.model_type = \"lca\"\n",
    "    self.model_name = \"lca_768_mnist\"\n",
    "    self.version = \"0.0\"\n",
    "    self.save_info = \"analysis_kurakin\"\n",
    "    self.overwrite_analysis_log = False\n",
    "    \n",
    "analysis_params = params()\n",
    "\n",
    "# Computed params\n",
    "analysis_params.model_dir = (os.path.expanduser(\"~\")+\"/Work/Projects/\"+analysis_params.model_name)"
   ]
  },
  {
   "cell_type": "code",
   "execution_count": 14,
   "metadata": {},
   "outputs": [],
   "source": [
    "analyzer = ap.get_analyzer(analysis_params.model_type)\n",
    "analyzer.setup(analysis_params)\n",
    "analyzer.model.setup(analyzer.model_params)\n",
    "analyzer.load_analysis(save_info=analysis_params.save_info)"
   ]
  },
  {
   "cell_type": "code",
   "execution_count": 21,
   "metadata": {},
   "outputs": [
    {
     "ename": "ValueError",
     "evalue": "cannot reshape array of size 784 into shape (256,1)",
     "output_type": "error",
     "traceback": [
      "\u001b[0;31m----------------------------------------------------------------------\u001b[0m",
      "\u001b[0;31mValueError\u001b[0m                           Traceback (most recent call last)",
      "\u001b[0;32m<ipython-input-21-2568edb78e0d>\u001b[0m in \u001b[0;36m<module>\u001b[0;34m\u001b[0m\n\u001b[0;32m----> 1\u001b[0;31m \u001b[0mneuron_angles\u001b[0m \u001b[0;34m=\u001b[0m \u001b[0manalyzer\u001b[0m\u001b[0;34m.\u001b[0m\u001b[0mneuron_angles\u001b[0m\u001b[0;34m(\u001b[0m\u001b[0manalyzer\u001b[0m\u001b[0;34m.\u001b[0m\u001b[0mbf_stats\u001b[0m\u001b[0;34m)\u001b[0m \u001b[0;34m*\u001b[0m \u001b[0;34m(\u001b[0m\u001b[0;36m180\u001b[0m\u001b[0;34m/\u001b[0m\u001b[0mnp\u001b[0m\u001b[0;34m.\u001b[0m\u001b[0mpi\u001b[0m\u001b[0;34m)\u001b[0m\u001b[0;34m\u001b[0m\u001b[0m\n\u001b[0m",
      "\u001b[0;32m~/Work/DeepSparseCoding/analysis/base_analyzer.py\u001b[0m in \u001b[0;36mneuron_angles\u001b[0;34m(self, bf_stats)\u001b[0m\n\u001b[1;32m    760\u001b[0m     \u001b[0;32mfor\u001b[0m \u001b[0mneuron1\u001b[0m \u001b[0;32min\u001b[0m \u001b[0mrange\u001b[0m\u001b[0;34m(\u001b[0m\u001b[0mbf_stats\u001b[0m\u001b[0;34m[\u001b[0m\u001b[0;34m\"num_outputs\"\u001b[0m\u001b[0;34m]\u001b[0m\u001b[0;34m)\u001b[0m\u001b[0;34m:\u001b[0m\u001b[0;34m\u001b[0m\u001b[0m\n\u001b[1;32m    761\u001b[0m       \u001b[0;32mfor\u001b[0m \u001b[0mneuron2\u001b[0m \u001b[0;32min\u001b[0m \u001b[0mrange\u001b[0m\u001b[0;34m(\u001b[0m\u001b[0mbf_stats\u001b[0m\u001b[0;34m[\u001b[0m\u001b[0;34m\"num_outputs\"\u001b[0m\u001b[0;34m]\u001b[0m\u001b[0;34m)\u001b[0m\u001b[0;34m:\u001b[0m\u001b[0;34m\u001b[0m\u001b[0m\n\u001b[0;32m--> 762\u001b[0;31m         \u001b[0mbf1\u001b[0m \u001b[0;34m=\u001b[0m \u001b[0mbf_stats\u001b[0m\u001b[0;34m[\u001b[0m\u001b[0;34m\"basis_functions\"\u001b[0m\u001b[0;34m]\u001b[0m\u001b[0;34m[\u001b[0m\u001b[0mneuron1\u001b[0m\u001b[0;34m]\u001b[0m\u001b[0;34m.\u001b[0m\u001b[0mreshape\u001b[0m\u001b[0;34m(\u001b[0m\u001b[0;34m(\u001b[0m\u001b[0mnum_pixels\u001b[0m\u001b[0;34m,\u001b[0m\u001b[0;36m1\u001b[0m\u001b[0;34m)\u001b[0m\u001b[0;34m)\u001b[0m\u001b[0;34m\u001b[0m\u001b[0m\n\u001b[0m\u001b[1;32m    763\u001b[0m         \u001b[0mbf2\u001b[0m \u001b[0;34m=\u001b[0m \u001b[0mbf_stats\u001b[0m\u001b[0;34m[\u001b[0m\u001b[0;34m\"basis_functions\"\u001b[0m\u001b[0;34m]\u001b[0m\u001b[0;34m[\u001b[0m\u001b[0mneuron2\u001b[0m\u001b[0;34m]\u001b[0m\u001b[0;34m.\u001b[0m\u001b[0mreshape\u001b[0m\u001b[0;34m(\u001b[0m\u001b[0;34m(\u001b[0m\u001b[0mnum_pixels\u001b[0m\u001b[0;34m,\u001b[0m\u001b[0;36m1\u001b[0m\u001b[0;34m)\u001b[0m\u001b[0;34m)\u001b[0m\u001b[0;34m\u001b[0m\u001b[0m\n\u001b[1;32m    764\u001b[0m         \u001b[0minner_products\u001b[0m \u001b[0;34m=\u001b[0m \u001b[0mnp\u001b[0m\u001b[0;34m.\u001b[0m\u001b[0mdot\u001b[0m\u001b[0;34m(\u001b[0m\u001b[0;34m(\u001b[0m\u001b[0mbf1\u001b[0m\u001b[0;34m/\u001b[0m\u001b[0mnp\u001b[0m\u001b[0;34m.\u001b[0m\u001b[0mlinalg\u001b[0m\u001b[0;34m.\u001b[0m\u001b[0mnorm\u001b[0m\u001b[0;34m(\u001b[0m\u001b[0mbf1\u001b[0m\u001b[0;34m)\u001b[0m\u001b[0;34m)\u001b[0m\u001b[0;34m.\u001b[0m\u001b[0mT\u001b[0m\u001b[0;34m,\u001b[0m \u001b[0mbf2\u001b[0m\u001b[0;34m/\u001b[0m\u001b[0mnp\u001b[0m\u001b[0;34m.\u001b[0m\u001b[0mlinalg\u001b[0m\u001b[0;34m.\u001b[0m\u001b[0mnorm\u001b[0m\u001b[0;34m(\u001b[0m\u001b[0mbf2\u001b[0m\u001b[0;34m)\u001b[0m\u001b[0;34m)\u001b[0m\u001b[0;34m\u001b[0m\u001b[0m\n",
      "\u001b[0;31mValueError\u001b[0m: cannot reshape array of size 784 into shape (256,1)"
     ]
    }
   ],
   "source": [
    "neuron_angles = analyzer.neuron_angles(analyzer.bf_stats) * (180/np.pi)"
   ]
  },
  {
   "cell_type": "code",
   "execution_count": 6,
   "metadata": {},
   "outputs": [
    {
     "ename": "NameError",
     "evalue": "name 'neuron_angles' is not defined",
     "output_type": "error",
     "traceback": [
      "\u001b[0;31m----------------------------------------------------------------------\u001b[0m",
      "\u001b[0;31mNameError\u001b[0m                            Traceback (most recent call last)",
      "\u001b[0;32m<ipython-input-6-9f88ebe4be89>\u001b[0m in \u001b[0;36m<module>\u001b[0;34m\u001b[0m\n\u001b[0;32m----> 1\u001b[0;31m angle_heatmap_fig = pf.plot_weight_angle_heatmap(neuron_angles, angle_min=0, angle_max=180,\n\u001b[0m\u001b[1;32m      2\u001b[0m   title=\"Angles Between Neurons\", figsize=(8,8))\n\u001b[1;32m      3\u001b[0m \u001b[0mangle_heatmap_fig\u001b[0m\u001b[0;34m.\u001b[0m\u001b[0msavefig\u001b[0m\u001b[0;34m(\u001b[0m\u001b[0manalyzer\u001b[0m\u001b[0;34m.\u001b[0m\u001b[0manalysis_out_dir\u001b[0m\u001b[0;34m+\u001b[0m\u001b[0;34m\"/vis/neuron_angle_heatmap.png\"\u001b[0m\u001b[0;34m)\u001b[0m\u001b[0;34m\u001b[0m\u001b[0m\n",
      "\u001b[0;31mNameError\u001b[0m: name 'neuron_angles' is not defined"
     ]
    }
   ],
   "source": [
    "angle_heatmap_fig = pf.plot_weight_angle_heatmap(neuron_angles, angle_min=0, angle_max=180,\n",
    "  title=\"Angles Between Neurons\", figsize=(8,8))\n",
    "angle_heatmap_fig.savefig(analyzer.analysis_out_dir+\"/vis/neuron_angle_heatmap.png\")"
   ]
  },
  {
   "cell_type": "code",
   "execution_count": null,
   "metadata": {},
   "outputs": [],
   "source": [
    "angle_hist_fig = pf.plot_weight_angle_histogram(neuron_angles, num_bins=50, angle_min=0, angle_max=180, figsize=(8,8))\n",
    "angle_hist_fig.savefig(analyzer.analysis_out_dir+\"/vis/neuron_angle_histogram.png\")"
   ]
  },
  {
   "cell_type": "code",
   "execution_count": null,
   "metadata": {},
   "outputs": [],
   "source": [
    "angle_neighbor_fig = pf.plot_weight_nearest_neighbor_histogram(neuron_angles, num_bins=25, angle_min=0, angle_max=90, figsize=(8,8))\n",
    "angle_neighbor_fig.savefig(analyzer.analysis_out_dir+\"/vis/neuron_neighbor_histogram.png\")"
   ]
  },
  {
   "cell_type": "code",
   "execution_count": null,
   "metadata": {},
   "outputs": [],
   "source": [
    "#min_angle = 0.5\n",
    "#max_angle = 50\n",
    "\n",
    "min_angle = 50\n",
    "max_angle = 60\n",
    "\n",
    "#min_angle = 89\n",
    "#max_angle = 91\n",
    "\n",
    "#min_angle = 100\n",
    "#max_angle = 180\n",
    "\n",
    "vectors = np.argwhere(np.logical_and(neuron_angles<max_angle, neuron_angles>min_angle))\n",
    "print(\"num vectors = \", vectors.shape[0])\n",
    "\n",
    "if vectors.shape[0] > 0:\n",
    "  print(\"min angle = \", np.min(neuron_angles[vectors[:,0], vectors[:,1]]), \" rad\")\n",
    "  print(\"min angle is at index \", np.argmin(neuron_angles[vectors[:,0], vectors[:,1]]))\n",
    "\n",
    "  vector_id = 11 #LCA: 18, 26, 29, 30, 39, 48, 59! #[50,60]\n",
    "  bf_id0 = vectors[vector_id, 0]#max_indices[0]\n",
    "  bf_id1 = vectors[vector_id, 1]#max_indices[1]\n",
    "  print(\"BF indices = [\",bf_id0,\", \",bf_id1,\"]\")\n",
    "\n",
    "  fig, ax = plt.subplots(2)\n",
    "  ax[0] = pf.clear_axis(ax[0])\n",
    "  ax[0].imshow(analyzer.bf_stats[\"basis_functions\"][bf_id0], cmap=\"Greys_r\")\n",
    "  ax[0].set_title(str(bf_id0))\n",
    "  ax[1] = pf.clear_axis(ax[1])\n",
    "  ax[1].imshow(analyzer.bf_stats[\"basis_functions\"][bf_id1], cmap=\"Greys_r\")\n",
    "  ax[1].set_title(str(bf_id1))\n",
    "\n",
    "  print(\"vector angle\\t= \", neuron_angles[bf_id0, bf_id1]*(np.pi/180), \" rad\\n\\t\\t= \", neuron_angles[bf_id0, bf_id1], \" deg\")\n",
    "  bf1 = analyzer.bf_stats[\"basis_functions\"][bf_id0].reshape((analyzer.model_params.patch_edge_size**2))\n",
    "  bf2 = analyzer.bf_stats[\"basis_functions\"][bf_id1].reshape((analyzer.model_params.patch_edge_size**2))\n",
    "  bf1_norm = np.linalg.norm(bf1)\n",
    "  bf2_norm = np.linalg.norm(bf2)\n",
    "  print(\"bf1 norm = \", bf1_norm)\n",
    "  print(\"bf2 norm = \", bf2_norm)\n",
    "  bf1 /= bf1_norm\n",
    "  bf2 /= bf2_norm\n",
    "else:\n",
    "  assert False"
   ]
  },
  {
   "cell_type": "code",
   "execution_count": null,
   "metadata": {},
   "outputs": [],
   "source": [
    "num_imgs = int(228**2)\n",
    "\n",
    "x_pts = np.linspace(-2.0, 2.0, int(np.sqrt(num_imgs)))\n",
    "y_pts = np.linspace(-2.0, 2.0, int(np.sqrt(num_imgs)))\n",
    "X_mesh, Y_mesh = np.meshgrid(x_pts, y_pts)\n",
    "proj_datapoints = np.stack([X_mesh.reshape(num_imgs), Y_mesh.reshape(num_imgs)], axis=1)\n",
    "\n",
    "proj_matrix, v = analyzer.bf_projections(bf1, bf2)\n",
    "proj_neuron1 = np.dot(proj_matrix, bf1).T\n",
    "proj_neuron2 = np.dot(proj_matrix, bf2).T\n",
    "proj_v = np.dot(proj_matrix, v).T\n",
    "\n",
    "datapoints = np.stack([np.dot(proj_matrix.T, proj_datapoints[data_id,:]) for data_id in range(num_imgs)]) #inject\n",
    "datapoints, orig_shape = dp.reshape_data(datapoints, flatten=False)[:2]\n",
    "datapoints = {\"test\": Dataset(datapoints, lbls=None, ignore_lbls=None, rand_state=analyzer.rand_state)}\n",
    "datapoints = analyzer.model.preprocess_dataset(datapoints,\n",
    "  params={\"whiten_data\":analyzer.model_params.whiten_data,\n",
    "  \"whiten_method\":analyzer.model_params.whiten_method})\n",
    "datapoints = analyzer.model.reshape_dataset(datapoints, analyzer.model_params)\n",
    "datapoints[\"test\"].images /= np.max(np.abs(datapoints[\"test\"].images))\n",
    "datapoints[\"test\"].images *= analyzer.analysis_params[\"input_scale\"]"
   ]
  },
  {
   "cell_type": "code",
   "execution_count": null,
   "metadata": {},
   "outputs": [],
   "source": [
    "activations = analyzer.compute_activations(datapoints[\"test\"].images)\n",
    "activity_max = np.amax(np.abs(activations)) # Rescale between -1 and 1\n",
    "norm_activity = activations / (activity_max + 0.00001)"
   ]
  },
  {
   "cell_type": "code",
   "execution_count": null,
   "metadata": {},
   "outputs": [],
   "source": [
    "#def plot_iso_response_contours(cmap, save_filename)\n",
    "num_plots_y = 1\n",
    "num_plots_x = 2\n",
    "gs1 = gridspec.GridSpec(num_plots_y, num_plots_x, wspace=0.5, width_ratios=[4, 1])\n",
    "fig = plt.figure(figsize=(6, 6))\n",
    "curve_ax = pf.clear_axis(fig.add_subplot(gs1[0]))\n",
    "#cmap = plt.get_cmap('tab20b')\n",
    "cmap = plt.get_cmap('viridis')\n",
    "vmin = np.floor(np.min(norm_activity))#0.0\n",
    "vmax = np.ceil(np.max(norm_activity))#1.0\n",
    "\n",
    "#pts = curve_ax.scatter(proj_datapoints[:,0], proj_datapoints[:,1],\n",
    "#  vmin=vmin, vmax=vmax, cmap=cmap, alpha=0.5, c=norm_activity[:, bf_id0], s=5.0)\n",
    "\n",
    "levels = 5\n",
    "contsf = curve_ax.contourf(X_mesh, Y_mesh, norm_activity[:,bf_id0].reshape(int(np.sqrt(num_imgs)), int(np.sqrt(num_imgs))),\n",
    "  levels=levels, vmin=vmin, vmax=vmax, alpha=1.0, antialiased=True, cmap=cmap)\n",
    "\n",
    "#conts = curve_ax.contour(X_mesh, Y_mesh, norm_activity[:,bf_id0].reshape(int(np.sqrt(num_imgs)), int(np.sqrt(num_imgs))),\n",
    "#  levels=levels, vmin=vmin, vmax=vmax, alpha=1.0, antialiased=True, colors='w', linewidths=3)\n",
    "\n",
    "curve_ax.arrow(0, 0, proj_neuron1[0].item(), proj_neuron1[1].item(), width=0.05, head_width=0.15,\n",
    "  head_length=0.15, fc='r', ec='r')\n",
    "curve_ax.arrow(0, 0, proj_neuron2[0].item(), proj_neuron2[1].item(), width=0.05, head_width=0.15,\n",
    "  head_length=0.15, fc='w', ec='w')\n",
    "#curve_ax.arrow(0, 0, proj_v[0].item(), proj_v[1].item(), width=0.05, head_width=0.15,\n",
    "#  head_length=0.15, fc='b', ec='b')\n",
    "\n",
    "curve_ax.set_title(\"Angle = \"+\"{:.2f}\".format(neuron_angles[bf_id0, bf_id1])+\" deg\", fontsize=16)\n",
    "curve_ax.set_ylim([-2, 2.0])\n",
    "curve_ax.set_xlim([-2, 2.0])\n",
    "curve_ax.set_aspect(\"equal\")\n",
    "#cbar = pf.add_colorbar_to_im(pts, aspect=20, pad_fraction=0.5, labelsize=16, ticks=[vmin, vmax])\n",
    "#cbar.ax.set_yticklabels([\"{:.0f}\".format(vmin), \"{:.0f}\".format(vmax)])\n",
    "\n",
    "gs2 = gridspec.GridSpecFromSubplotSpec(2, 1, gs1[1], wspace=2, hspace=-0.2)\n",
    "bf1_ax = pf.clear_axis(fig.add_subplot(gs2[0]))\n",
    "bf1_ax.imshow(analyzer.bf_stats[\"basis_functions\"][bf_id0], cmap=\"Greys_r\")\n",
    "bf1_ax.set_title(\"Primary\\nBasis Function\", color='r', fontsize=16)\n",
    "bf2_ax = pf.clear_axis(fig.add_subplot(gs2[1]))\n",
    "bf2_ax.imshow(analyzer.bf_stats[\"basis_functions\"][bf_id1], cmap=\"Greys_r\")\n",
    "bf2_ax.set_title(\"Comparison\\nBasis Function\", color='k', fontsize=16)\n",
    "fig.savefig(analyzer.analysis_out_dir+\"/vis/neuron_response_contours_bf0id\"+str(bf_id0)+\"_bf1id\"+str(bf_id1)+\".png\")\n",
    "plt.show()"
   ]
  },
  {
   "cell_type": "code",
   "execution_count": null,
   "metadata": {},
   "outputs": [],
   "source": [
    "test_imgs = datapoints[\"test\"].images.reshape([int(np.sqrt(num_imgs)), int(np.sqrt(num_imgs)), 16, 16])\n",
    "\n",
    "num_plots_y = 3\n",
    "num_plots_x = 3\n",
    "gs = gridspec.GridSpec(num_plots_y, num_plots_x)\n",
    "fig = plt.figure(figsize=(8,8))\n",
    "half_sqrt_imgs = int(np.sqrt(num_imgs)/2)\n",
    "filter_indices = [(0,0), (0, half_sqrt_imgs), (0, -1),\n",
    "  (half_sqrt_imgs, 0), (half_sqrt_imgs, half_sqrt_imgs), (half_sqrt_imgs, -1),\n",
    "  (-1, 0), (-1, half_sqrt_imgs), (-1, -1)]\n",
    "filter_idx = 0\n",
    "for plot_id in  np.ndindex((num_plots_y, num_plots_x)):\n",
    "  ax = pf.clear_axis(fig.add_subplot(gs[plot_id]))\n",
    "  if filter_idx < num_imgs:\n",
    "    ax.imshow(test_imgs[filter_indices[filter_idx][0], filter_indices[filter_idx][1], ...], cmap=\"Greys_r\")\n",
    "  filter_idx += 1\n",
    "fig.suptitle(\"Basis Function Interpolation\", y=0.95)\n",
    "plt.show()"
   ]
  },
  {
   "cell_type": "code",
   "execution_count": null,
   "metadata": {
    "scrolled": true
   },
   "outputs": [],
   "source": [
    "var_names = [\"inference/activity:0\"]\n",
    "test_datapoints = analyzer.analysis_params.input_scale*np.squeeze(np.stack([bf1, bf2]))\n",
    "test_activations = analyzer.evaluate_model(test_datapoints, var_names)[\"inference/activity:0\"]\n",
    "print(\"num nonzero for bf1: \", np.count_nonzero(test_activations[0,:]))\n",
    "print(\"num nonzero for bf2: \", np.count_nonzero(test_activations[1,:]))\n",
    "fig, ax = plt.subplots(1)\n",
    "ax.hist(test_activations[1,:], rwidth=0.5)\n",
    "ax.set_title(\"Activity histogram for a basis function as input\")\n",
    "plt.show()"
   ]
  },
  {
   "cell_type": "code",
   "execution_count": null,
   "metadata": {
    "scrolled": false
   },
   "outputs": [],
   "source": [
    "#def plot_iso_response_contours(cmap, save_filename)\n",
    "num_plots_y = 1\n",
    "num_plots_x = 2\n",
    "gs1 = gridspec.GridSpec(num_plots_y, num_plots_x, wspace=0.5)#, width_ratios=[4, 1])\n",
    "fig = plt.figure(figsize=(12, 12))\n",
    "curve_ax = pf.clear_axis(fig.add_subplot(gs1[0]))\n",
    "cmap = plt.get_cmap('tab20b')\n",
    "\n",
    "pts = curve_ax.scatter(proj_datapoints[:,0], proj_datapoints[:,1], cmap=cmap, c=\"blue\", s=0.5)\n",
    "curve_ax.arrow(0, 0, proj_neuron1[0].item(), proj_neuron1[1].item(), width=0.05, head_width=0.15,\n",
    "  head_length=0.15, fc='k', ec='k')\n",
    "#curve_ax.arrow(0, 0, proj_neuron2[0].item(), proj_neuron2[1].item(), width=0.05, head_width=0.15,\n",
    "#  head_length=0.15, fc='r', ec='r')\n",
    "curve_ax.arrow(0, 0, proj_v[0].item(), proj_v[1].item(), width=0.05, head_width=0.15,\n",
    "  head_length=0.15, fc='k', ec='k')\n",
    "curve_ax.set_ylim([-2.0, 2.0])\n",
    "curve_ax.set_xlim([-2.0, 2.0])\n",
    "curve_ax.set_aspect(\"equal\")\n",
    "\n",
    "#img_idx = -1\n",
    "#pts = curve_ax.scatter(proj_datapoints[img_idx, 0], proj_datapoints[img_idx, 1], cmap=cmap, c=\"red\", s=50.0)\n",
    "\n",
    "def plt_img(axis, img_idx):\n",
    "  axis.imshow(datapoints[\"test\"].images[img_idx, ...].reshape((int(np.sqrt(analyzer.model_params.num_pixels)),\n",
    "    int(np.sqrt(analyzer.model_params.num_pixels)))), cmap=\"Greys_r\")\n",
    "  axis.set_title(\"Position \"+str(img_idx))\n",
    "  return axis\n",
    "\n",
    "img_idx = 0\n",
    "gs2 = gridspec.GridSpecFromSubplotSpec(3, 3, gs1[1])#, wspace=2, hspace=-0.2)\n",
    "bf1_ax = plt_img(pf.clear_axis(fig.add_subplot(gs2[0])), img_idx)\n",
    "\n",
    "img_idx = 49\n",
    "bf2_ax = plt_img(pf.clear_axis(fig.add_subplot(gs2[1])), img_idx)\n",
    "\n",
    "img_idx = 99\n",
    "bf3_ax = plt_img(pf.clear_axis(fig.add_subplot(gs2[2])), img_idx)\n",
    "\n",
    "img_idx = 5000\n",
    "bf4_ax = plt_img(pf.clear_axis(fig.add_subplot(gs2[3])), img_idx)\n",
    "\n",
    "img_idx = 5049\n",
    "bf5_ax = plt_img(pf.clear_axis(fig.add_subplot(gs2[4])), img_idx)\n",
    "\n",
    "img_idx = 5099\n",
    "bf6_ax = plt_img(pf.clear_axis(fig.add_subplot(gs2[5])), img_idx)\n",
    "\n",
    "img_idx = -99\n",
    "bf7_ax = plt_img(pf.clear_axis(fig.add_subplot(gs2[6])), img_idx)\n",
    "\n",
    "img_idx = -49\n",
    "bf8_ax = plt_img(pf.clear_axis(fig.add_subplot(gs2[7])), img_idx)\n",
    "\n",
    "img_idx = -1\n",
    "bf9_ax = plt_img(pf.clear_axis(fig.add_subplot(gs2[8])), img_idx)\n",
    "\n",
    "fig.savefig(analyzer.analysis_out_dir+\"/vis/projection_visualization\"+str(bf_id0)+\"_bf1id\"+str(bf_id1)+\".png\")\n",
    "plt.show()"
   ]
  },
  {
   "cell_type": "code",
   "execution_count": null,
   "metadata": {},
   "outputs": [],
   "source": [
    "x_target = x_pts[int(6*np.sqrt(num_imgs)/8)] # find a location to take a slice\n",
    "slice_indices = np.where(proj_datapoints[:,0]==x_target)[0]\n",
    "x_vals = proj_datapoints[slice_indices,:][:,1] # slice grid"
   ]
  },
  {
   "cell_type": "code",
   "execution_count": null,
   "metadata": {},
   "outputs": [],
   "source": [
    "num_comparison_points = 8\n",
    "num_plots_y = 1\n",
    "num_plots_x = 1+num_comparison_points\n",
    "gs1 = gridspec.GridSpec(num_plots_y, num_plots_x, hspace=0.6, wspace=0.6)\n",
    "fig = plt.figure(figsize=(15, 6))\n",
    "for yid in range(num_plots_y):\n",
    "  ax1 = fig.add_subplot(gs1[yid, 0])\n",
    "\n",
    "  cmap = plt.get_cmap('viridis')\n",
    "  vmin = 0.0\n",
    "  vmax = 1.0\n",
    "  rank_indices = np.argsort(norm_activity[slice_indices, bf_id0])\n",
    "  slice_datapoints = proj_datapoints[slice_indices,:]\n",
    "  pts = ax1.scatter(slice_datapoints[rank_indices,0],\n",
    "    slice_datapoints[rank_indices,1], vmin=vmin, vmax=vmax,\n",
    "    cmap=cmap, c=norm_activity[slice_indices, bf_id0][rank_indices], s=1.0)\n",
    "  ax1.arrow(0, 0, proj_neuron1[0].item(), proj_neuron1[1].item(),\n",
    "    width=0.05, head_width=0.15, head_length=0.15, fc='r', ec='r')\n",
    "  ax1.arrow(0, 0, proj_neuron2[0].item(), proj_neuron2[1].item(),\n",
    "    width=0.05, head_width=0.15, head_length=0.15, fc='k', ec='k')\n",
    "  ax1.set_xlim([-2,2])\n",
    "  ax1.set_ylim([-2,2])\n",
    "  ax1.set_aspect(\"equal\")\n",
    "  ax1.set_title(\"bf1id=\"+str(bf_id1))\n",
    "\n",
    "  y_indices = np.arange(slice_indices.size)[::int(slice_indices.size/num_comparison_points)]\n",
    "  if y_indices.size < num_comparison_points:\n",
    "    y_indices.append(-1)\n",
    "  for pid, xid in enumerate(range(1, num_plots_x)):\n",
    "    ax = pf.clear_axis(fig.add_subplot(gs1[yid, xid]))\n",
    "    images = datapoints[\"test\"].images[slice_indices, :]\n",
    "    ax.imshow(images[y_indices[pid], :].reshape([analyzer.model_params.patch_edge_size,\n",
    "      analyzer.model_params.patch_edge_size]), cmap=\"Greys_r\")\n",
    "    subfig_title = (\"({:.1f}, \".format(proj_datapoints[slice_indices,:][y_indices[pid],0])\n",
    "      +\"{:.1f})\".format(proj_datapoints[slice_indices,:][y_indices[pid],1]))\n",
    "    ax.set_title(subfig_title)\n",
    "fig.savefig(analyzer.analysis_out_dir+\"/vis/single_slice_example_bf0id\"+str(bf_id0)+\".png\")\n",
    "plt.show()"
   ]
  },
  {
   "cell_type": "code",
   "execution_count": null,
   "metadata": {},
   "outputs": [],
   "source": [
    "fig, ax = plt.subplots(1,2, figsize=(8,8))\n",
    "ax[0].plot(x_vals, norm_activity[slice_indices, bf_id0], color='b', alpha=0.3) # x_vals in the 2-D grid are plotted along the x axis\n",
    "ax[0].set_title(\"Normalized Responses to Orthogonal Inputs\", y=1.08)\n",
    "ax[0].set_ylabel(\"Normalized Activation\", fontsize=14)\n",
    "ax[0].set_xlabel(\"Distance from Basis Function\", fontsize=14)\n",
    "ax[0].grid(True)\n",
    "ax[0].set_ylim([0.0, 1.0])\n",
    "ax[0].set_xlim([np.min(x_vals), np.max(x_vals)])\n",
    "ax[0].set_aspect((np.max(x_vals)-np.min(x_vals)))\n",
    "ax[0].tick_params(labelsize=14)\n",
    "ax[1] = pf.clear_axis(ax[1])\n",
    "ax[1].imshow(analyzer.bf_stats[\"basis_functions\"][bf_id0], cmap=\"Greys_r\")\n",
    "ax[1].set_title(\"Basis Function\", y=1.08)\n",
    "fig.savefig(analyzer.analysis_out_dir+\"/vis/bf_example_curvature_bf0id\"+str(bf_id0)+\".png\")\n",
    "plt.show()"
   ]
  },
  {
   "cell_type": "markdown",
   "metadata": {},
   "source": [
    "Here we can either:\n",
    "  * Compute a unit vector that is in the same plane as a given basis function pair (B1,B2) and is orthogonal to B1, where B1 is the target basis for comparison and B2 is selected from all other bases.\n",
    "  * Construct a line of data points in this plane\n",
    "  * Project the data points into image space, compute activations, plot activations\n",
    "\n",
    "or\n",
    "\n",
    "  * Construct the set of unit-length bases that are orthogonal to B1 (there should be B1.size-1 of them)\n",
    "  * Construct a line of data points in each plane defined by B1 and a given orthogonal basis\n",
    "  * Project the data points into image space, compute activations, plot activations"
   ]
  },
  {
   "cell_type": "code",
   "execution_count": null,
   "metadata": {
    "scrolled": false
   },
   "outputs": [],
   "source": [
    "pop_num_imgs = 100\n",
    "\n",
    "orthogonal_list = [idx for idx in range(analyzer.bf_stats[\"num_outputs\"]) if idx != bf_id0]#[bf_id1]\n",
    "num_orthogonal = len(orthogonal_list)\n",
    "\n",
    "pop_x_pts = np.linspace(-2.0, 2.0, int(pop_num_imgs))\n",
    "pop_y_pts = np.linspace(-2.0, 2.0, int(pop_num_imgs))\n",
    "pop_X, pop_Y = np.meshgrid(pop_x_pts, pop_y_pts)\n",
    "pop_proj_datapoints = np.stack([pop_X.reshape(pop_num_imgs**2), pop_Y.reshape(pop_num_imgs**2)], axis=1) # construct a grid\n",
    "x_target = pop_x_pts[int(6*pop_num_imgs/8)] # find a location to take a slice\n",
    "slice_indices = np.where(pop_proj_datapoints[:,0]==x_target)[0]\n",
    "pop_proj_datapoints = pop_proj_datapoints[slice_indices,:] # slice grid\n",
    "\n",
    "pop_datapoints = [None,]*num_orthogonal\n",
    "pop_proj_neurons = [None,]*num_orthogonal\n",
    "for pop_idx, tmp_bf_id1 in enumerate(orthogonal_list):\n",
    "  tmp_bf2 = analyzer.bf_stats[\"basis_functions\"][tmp_bf_id1].reshape((analyzer.model_params.patch_edge_size**2))\n",
    "  tmp_bf2 /= np.linalg.norm(tmp_bf2)\n",
    "  tmp_proj_matrix, v = analyzer.bf_projections(bf1, tmp_bf2) \n",
    "  pop_proj_neurons[pop_idx] = (np.dot(tmp_proj_matrix, bf1).T, np.dot(tmp_proj_matrix, tmp_bf2).T)\n",
    "  pop_datapoints[pop_idx] = np.dot(pop_proj_datapoints, tmp_proj_matrix)#[slice_indices,:]\n",
    "\n",
    "pop_datapoints = np.reshape(np.stack(pop_datapoints, axis=0),\n",
    "  [num_orthogonal*pop_num_imgs, analyzer.model_params.patch_edge_size**2])\n",
    "\n",
    "pop_datapoints = dp.reshape_data(pop_datapoints, flatten=False)[0]\n",
    "pop_datapoints = {\"test\": Dataset(pop_datapoints, lbls=None, ignore_lbls=None, rand_state=analyzer.rand_state)}\n",
    "pop_datapoints = analyzer.model.preprocess_dataset(pop_datapoints,\n",
    "  params={\"whiten_data\":analyzer.model_params.whiten_data,\n",
    "  \"whiten_method\":analyzer.model_params.whiten_method})\n",
    "pop_datapoints = analyzer.model.reshape_dataset(pop_datapoints, analyzer.model_params)\n",
    "pop_datapoints[\"test\"].images /= np.max(np.abs(pop_datapoints[\"test\"].images))\n",
    "pop_datapoints[\"test\"].images *= analyzer.analysis_params[\"input_scale\"]"
   ]
  },
  {
   "cell_type": "code",
   "execution_count": null,
   "metadata": {},
   "outputs": [],
   "source": [
    "pop_activations = analyzer.compute_activations(pop_datapoints[\"test\"].images)[:, bf_id0]\n",
    "pop_activations = pop_activations.reshape([num_orthogonal, pop_num_imgs])\n",
    "pop_norm_activity = pop_activations / np.amax(np.abs(pop_activations))"
   ]
  },
  {
   "cell_type": "code",
   "execution_count": null,
   "metadata": {},
   "outputs": [],
   "source": [
    "num_comparison_points = 8\n",
    "num_plots_y = 4\n",
    "num_plots_x = 1+num_comparison_points\n",
    "gs1 = gridspec.GridSpec(num_plots_y, num_plots_x, hspace=0.6, wspace=0.3)\n",
    "fig = plt.figure(figsize=(15, 6))\n",
    "for yid in range(num_plots_y):\n",
    "  orthog_idx = np.random.choice(np.arange(num_orthogonal), replace=False)\n",
    "  ax1 = fig.add_subplot(gs1[yid, 0])\n",
    "  pop_orthog_activity = pop_norm_activity[orthog_idx, :] \n",
    "\n",
    "  cmap = plt.get_cmap('viridis')\n",
    "  \n",
    "  vmin = np.floor(np.min(pop_orthog_activity))\n",
    "  vmax = np.ceil(np.max(pop_orthog_activity))\n",
    "  rank_indices = np.argsort(pop_orthog_activity)\n",
    "  pts = ax1.scatter(pop_proj_datapoints[rank_indices,0], pop_proj_datapoints[rank_indices,1],\n",
    "    vmin=vmin, vmax=vmax, cmap=cmap, c=pop_orthog_activity[rank_indices], s=1.0)\n",
    "  ax1.arrow(0, 0, pop_proj_neurons[orthog_idx][0][0].item(), pop_proj_neurons[orthog_idx][0][1].item(),\n",
    "    width=0.05, head_width=0.15, head_length=0.15, fc='r', ec='r')\n",
    "  ax1.arrow(0, 0, pop_proj_neurons[orthog_idx][1][0].item(), pop_proj_neurons[orthog_idx][1][1].item(),\n",
    "    width=0.05, head_width=0.15, head_length=0.15, fc='k', ec='k')\n",
    "  ax1.set_xlim([-2,2])\n",
    "  ax1.set_ylim([-2,2])\n",
    "  ax1.set_aspect(\"equal\")\n",
    "  ax1.set_title(\"bfid=\"+str(orthogonal_list[orthog_idx]))\n",
    "\n",
    "  y_indices = np.arange(pop_num_imgs)[::int(pop_num_imgs/num_comparison_points)]\n",
    "  if y_indices.size < num_comparison_points:\n",
    "    y_indices.append(-1)\n",
    "  for pid, xid in enumerate(range(1, num_plots_x)):\n",
    "    ax = pf.clear_axis(fig.add_subplot(gs1[yid, xid]))\n",
    "    imid = np.ravel_multi_index((orthog_idx, y_indices[pid]), (num_orthogonal, pop_num_imgs))\n",
    "    ax.imshow(pop_datapoints[\"test\"].images[imid, ...].reshape([analyzer.model_params.patch_edge_size,\n",
    "      analyzer.model_params.patch_edge_size]), cmap=\"Greys_r\")\n",
    "    subfig_title = (\"({:.1f}, \".format(pop_proj_datapoints[y_indices[pid],0])\n",
    "      +\"{:.1f})\".format(pop_proj_datapoints[y_indices[pid],1]))\n",
    "    ax.set_title(subfig_title)\n",
    "fig.savefig(analyzer.analysis_out_dir+\"/vis/orthogonal_slice_examples_bf0id\"+str(bf_id0)+\".png\")\n",
    "plt.show()"
   ]
  },
  {
   "cell_type": "code",
   "execution_count": null,
   "metadata": {},
   "outputs": [],
   "source": [
    "fig, ax = plt.subplots(1,2, figsize=(8,8))\n",
    "for orthog_idx in range(num_orthogonal):\n",
    " ax[0].plot(pop_proj_datapoints[:,1], pop_norm_activity[orthog_idx, :], color='b', alpha=0.05)\n",
    "ax[0].set_title(\"Normalized Responses\\nto Orthogonal Inputs\", y=1.08, fontsize=16)\n",
    "ax[0].set_ylabel(\"Normalized Activation\", fontsize=16)\n",
    "ax[0].set_xlabel(\"Distance from Basis Function\", fontsize=16)\n",
    "ax[0].grid(True)\n",
    "ax[0].set_ylim([0.0, 1.0])\n",
    "ax[0].set_xlim([np.min(x_vals), np.max(x_vals)])\n",
    "for tick in ax[0].xaxis.get_major_ticks():\n",
    "  tick.label.set_fontsize(14) \n",
    "for tick in ax[0].yaxis.get_major_ticks():\n",
    "  tick.label.set_fontsize(14) \n",
    "ax[0].set_aspect((np.max(x_vals)-np.min(x_vals)))#/(np.max(pop_norm_activity)-np.min(pop_norm_activity)))\n",
    "ax[0].tick_params(labelsize=14)\n",
    "ax[1] = pf.clear_axis(ax[1])\n",
    "ax[1].imshow(analyzer.bf_stats[\"basis_functions\"][bf_id0], cmap=\"Greys_r\")\n",
    "ax[1].set_title(\"Basis Function\", y=1.08)\n",
    "fig.savefig(analyzer.analysis_out_dir+\"/vis/bf_curvatures_bf0id\"+str(bf_id0)+\".png\")\n",
    "plt.show()"
   ]
  },
  {
   "cell_type": "code",
   "execution_count": null,
   "metadata": {},
   "outputs": [],
   "source": [
    "coeffs = [np.polynomial.polynomial.polyfit(pop_proj_datapoints[:,1], pop_norm_activity[orthog_idx,:], deg=2)\n",
    "  for orthog_idx in range(num_orthogonal)]\n",
    "fits = [np.polynomial.polynomial.polyval(pop_proj_datapoints[:,1], coeff) for coeff in coeffs]\n",
    "curvatures = [np.polyder(fit, m=2) for fit in fits]"
   ]
  },
  {
   "cell_type": "code",
   "execution_count": null,
   "metadata": {},
   "outputs": [],
   "source": [
    "fig, ax = plt.subplots(1,2, figsize=(8,8))\n",
    "for orthog_idx in range(num_orthogonal):\n",
    "  ax[0].plot(pop_proj_datapoints[:,1], fits[orthog_idx], color='r', alpha=0.05)\n",
    "ax[0].set_title(\"Polynomial Fit Responses\\nto Orthogonal Inputs\", y=1.08, fontsize=16)\n",
    "ax[0].set_ylabel(\"Normalized Activation\", fontsize=16)\n",
    "ax[0].set_xlabel(\"Distance from Basis Function\", fontsize=16)\n",
    "for tick in ax[0].xaxis.get_major_ticks():\n",
    "  tick.label.set_fontsize(14) \n",
    "for tick in ax[0].yaxis.get_major_ticks():\n",
    "  tick.label.set_fontsize(14) \n",
    "ax[0].grid(True)\n",
    "ax[0].set_ylim([0.0, 1.1])\n",
    "ax[0].set_xlim([np.min(pop_proj_datapoints[:,1]), np.max(pop_proj_datapoints[:,1])])\n",
    "ax[0].set_aspect((np.max(pop_proj_datapoints[:,1])-np.min(pop_proj_datapoints[:,1])))\n",
    "ax[0].tick_params(labelsize=14)\n",
    "ax[1] = pf.clear_axis(ax[1])\n",
    "ax[1].imshow(analyzer.bf_stats[\"basis_functions\"][bf_id0], cmap=\"Greys_r\")\n",
    "ax[1].set_title(\"Basis Function\", y=1.08)\n",
    "fig.savefig(analyzer.analysis_out_dir+\"/vis/fit_curvatures_bf0id\"+str(bf_id0)+\".png\")\n",
    "plt.show()"
   ]
  },
  {
   "cell_type": "code",
   "execution_count": null,
   "metadata": {
    "scrolled": false
   },
   "outputs": [],
   "source": [
    "from matplotlib.ticker import FormatStrFormatter\n",
    "\n",
    "curvatures = np.stack(coeffs, axis=0)[:,2]\n",
    "\n",
    "num_bins = 50\n",
    "bins = np.linspace(np.amin(curvatures), np.amax(curvatures), num_bins)\n",
    "hist, bin_edges = np.histogram(curvatures.flatten(), bins)\n",
    "bin_left, bin_right = bin_edges[:-1], bin_edges[1:]\n",
    "bin_centers = bin_left + (bin_right - bin_left)/2\n",
    "\n",
    "fig, ax = plt.subplots(1, figsize=(5,5))\n",
    "ax.bar(bin_centers, hist, width=0.001, log=False, align=\"center\")\n",
    "ax.set_xticks(bin_left, minor=True)\n",
    "ax.set_xticks(bin_left[::8], minor=False)\n",
    "ax.xaxis.set_major_formatter(FormatStrFormatter(\"%0.2f\"))\n",
    "for tick in ax.xaxis.get_major_ticks():\n",
    "  tick.label.set_fontsize(16) \n",
    "for tick in ax.yaxis.get_major_ticks():\n",
    "  tick.label.set_fontsize(16) \n",
    "\n",
    "ax.set_title(\"Histogram of Curvatures\", fontsize=16)\n",
    "ax.set_xlabel(\"Second Order Polyfit Coefficient\\n(Negative Indicates Exo-Origin)\", fontsize=16)\n",
    "ax.set_ylabel(\"Count\", fontsize=16)\n",
    "fig.savefig(analyzer.analysis_out_dir+\"/vis/histogram_of_curvatures_bf0id\"+str(bf_id0)+\".png\")\n",
    "plt.show()"
   ]
  },
  {
   "cell_type": "code",
   "execution_count": null,
   "metadata": {},
   "outputs": [],
   "source": [
    "concavity = np.asarray([np.sign(coeffs[idx][2]) for idx in range(len(coeffs))])\n",
    "num_endo = np.sum(concavity>0)\n",
    "endo_indices = np.where(concavity>0)[0]\n",
    "num_exo = np.sum(concavity<0)\n",
    "exo_indices = np.where(concavity<0)[0]\n",
    "print(\"num >0 (tolerant/invariant/endo-origin):\", num_endo,\n",
    "  \"\\nnum <0 (selective/equivariant/exo-origin):\", num_exo)"
   ]
  },
  {
   "cell_type": "code",
   "execution_count": null,
   "metadata": {},
   "outputs": [],
   "source": [
    "fig, ax = plt.subplots(1,1, figsize=(5,5))\n",
    "for idx in endo_indices:\n",
    "  ax.plot(pop_proj_datapoints[:,1], fits[idx], color=\"g\", alpha=0.3)\n",
    "ax.set_title(\"Normalized Responses to Invariant Inputs\")\n",
    "ax.set_ylabel(\"Normalized Activation\", fontsize=14)\n",
    "ax.set_xlabel(\"Distance from Basis Function\", fontsize=14)\n",
    "ax.grid(True)\n",
    "ax.set_ylim([0.0,1.0])\n",
    "ax.set_xlim([np.min(pop_proj_datapoints[:,1]), np.max(pop_proj_datapoints[:,1])])\n",
    "ax.set_aspect((np.max(pop_proj_datapoints[:,1])-np.min(pop_proj_datapoints[:,1])))\n",
    "ax.tick_params(labelsize=14)\n",
    "fig.savefig(analyzer.analysis_out_dir+\"/vis/fit_invariant_curvatures.png\")\n",
    "plt.show()"
   ]
  },
  {
   "cell_type": "code",
   "execution_count": null,
   "metadata": {},
   "outputs": [],
   "source": [
    "max_exo_index = np.argmin(concavity) # image index with the maximum exo-origin curviture\n",
    "max_endo_index = np.argmax(concavity) # image index with the maximum endo-origin curviture"
   ]
  },
  {
   "cell_type": "code",
   "execution_count": null,
   "metadata": {},
   "outputs": [],
   "source": [
    "num_comparison_points = 20\n",
    "num_plots_y = 1\n",
    "num_plots_x = num_comparison_points\n",
    "gs1 = gridspec.GridSpec(num_plots_y, num_plots_x, hspace=0.6, wspace=0.3)\n",
    "fig = plt.figure(figsize=(30, 6))\n",
    "\n",
    "y_indices = np.arange(pop_num_imgs)[::int(pop_num_imgs/num_comparison_points)]\n",
    "if y_indices.size < num_comparison_points:\n",
    "  y_indices.append(-1)\n",
    "for pid, xid in enumerate(range(num_plots_x)):\n",
    "  ax = pf.clear_axis(fig.add_subplot(gs1[0, xid]))\n",
    "  imid = np.ravel_multi_index((max_endo_index, y_indices[pid]), (num_orthogonal, pop_num_imgs))\n",
    "  ax.imshow(pop_datapoints[\"test\"].images[imid, ...].reshape([analyzer.model_params.patch_edge_size,\n",
    "    analyzer.model_params.patch_edge_size]), cmap=\"Greys_r\")\n",
    "  subfig_title = (\"({:.1f}, \".format(pop_proj_datapoints[y_indices[pid],0])\n",
    "    +\"{:.1f})\".format(pop_proj_datapoints[y_indices[pid],1]))\n",
    "  ax.set_title(subfig_title)\n",
    "fig.suptitle(\"Images with Maximum Endo-Origin (Tolerant) Curvature\", fontsize=24, y=0.7)\n",
    "fig.savefig(analyzer.analysis_out_dir+\"/vis/max_endo_images.png\")\n",
    "plt.show()"
   ]
  },
  {
   "cell_type": "code",
   "execution_count": null,
   "metadata": {},
   "outputs": [],
   "source": [
    "num_comparison_points = 20\n",
    "num_plots_y = 1\n",
    "num_plots_x = num_comparison_points\n",
    "gs1 = gridspec.GridSpec(num_plots_y, num_plots_x, hspace=0.6, wspace=0.3)\n",
    "fig = plt.figure(figsize=(30, 6))\n",
    "\n",
    "y_indices = np.arange(pop_num_imgs)[::int(pop_num_imgs/num_comparison_points)]\n",
    "if y_indices.size < num_comparison_points:\n",
    "  y_indices.append(-1)\n",
    "for pid, xid in enumerate(range(num_plots_x)):\n",
    "  ax = pf.clear_axis(fig.add_subplot(gs1[0, xid]))\n",
    "  imid = np.ravel_multi_index((max_exo_index, y_indices[pid]), (num_orthogonal, pop_num_imgs))\n",
    "  ax.imshow(pop_datapoints[\"test\"].images[imid, ...].reshape([analyzer.model_params.patch_edge_size,\n",
    "    analyzer.model_params.patch_edge_size]), cmap=\"Greys_r\")\n",
    "  subfig_title = (\"({:.1f}, \".format(pop_proj_datapoints[y_indices[pid],0])\n",
    "    +\"{:.1f})\".format(pop_proj_datapoints[y_indices[pid],1]))\n",
    "  ax.set_title(subfig_title)\n",
    "fig.suptitle(\"Images with Maximum Exo-Origin (Selective) Curvature\", fontsize=24, y=0.7)\n",
    "fig.savefig(analyzer.analysis_out_dir+\"/vis/max_exo_images.png\")\n",
    "plt.show()"
   ]
  }
 ],
 "metadata": {
  "kernelspec": {
   "display_name": "Python 3",
   "language": "python",
   "name": "python3"
  },
  "language_info": {
   "codemirror_mode": {
    "name": "ipython",
    "version": 3
   },
   "file_extension": ".py",
   "mimetype": "text/x-python",
   "name": "python",
   "nbconvert_exporter": "python",
   "pygments_lexer": "ipython3",
   "version": "3.6.6"
  }
 },
 "nbformat": 4,
 "nbformat_minor": 1
}
