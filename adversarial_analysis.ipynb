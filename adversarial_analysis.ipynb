{
 "cells": [
  {
   "cell_type": "markdown",
   "metadata": {},
   "source": [
    "## Imports"
   ]
  },
  {
   "cell_type": "code",
   "execution_count": 1,
   "metadata": {
    "scrolled": true
   },
   "outputs": [
    {
     "name": "stdout",
     "output_type": "stream",
     "text": [
      "env: CUDA_VISIBLE_DEVICES=1\n"
     ]
    }
   ],
   "source": [
    "%env CUDA_VISIBLE_DEVICES=1\n",
    "%matplotlib inline"
   ]
  },
  {
   "cell_type": "code",
   "execution_count": 1,
   "metadata": {},
   "outputs": [],
   "source": [
    "import os\n",
    "import pickle\n",
    "import numpy as np\n",
    "import matplotlib\n",
    "import matplotlib.pyplot as plt\n",
    "import matplotlib.gridspec as gridspec\n",
    "import tensorflow as tf\n",
    "from data.dataset import Dataset\n",
    "import data.data_selector as ds\n",
    "import utils.data_processing as dp\n",
    "import utils.plot_functions as pf\n",
    "import analysis.analysis_picker as ap"
   ]
  },
  {
   "cell_type": "code",
   "execution_count": 15,
   "metadata": {},
   "outputs": [],
   "source": [
    "class params(object):\n",
    "  def __init__(self):\n",
    "    self.model_type = \"mlp\"\n",
    "    self.model_name = \"mlp_lca_recon_mnist\"\n",
    "    self.version = \"0.0\"\n",
    "    self.save_info = \"analysis\"\n",
    "    self.overwrite_analysis_log = False\n",
    "\n",
    "analysis_params = params()\n",
    "# Computed params\n",
    "analysis_params.model_dir = (os.path.expanduser(\"~\")+\"/Work/Projects/\"+analysis_params.model_name)"
   ]
  },
  {
   "cell_type": "code",
   "execution_count": 16,
   "metadata": {},
   "outputs": [],
   "source": [
    "analyzer = ap.get_analyzer(analysis_params.model_type)\n",
    "analyzer.setup(analysis_params)\n",
    "analyzer.model.setup(analyzer.model_params)\n",
    "analyzer.load_analysis(save_info=analysis_params.save_info)"
   ]
  },
  {
   "cell_type": "code",
   "execution_count": 19,
   "metadata": {},
   "outputs": [
    {
     "data": {
      "text/plain": [
       "{'batch_norm': [None, None, None, None],\n",
       " 'batch_size': 100,\n",
       " 'center_data': False,\n",
       " 'contrast_normalize': False,\n",
       " 'conv_strides': [[1, 1, 1, 1], [1, 1, 1, 1], None, None],\n",
       " 'cp_int': 10000,\n",
       " 'cp_latest_filename': 'latest_checkpoint_v0.0',\n",
       " 'cp_load': True,\n",
       " 'cp_load_dir': '/home/dpaiton/Work/Projects/lca_mnist/checkpoints/',\n",
       " 'cp_load_latest_filename': 'latest_checkpoint_v0.0',\n",
       " 'cp_load_name': 'lca_mnist',\n",
       " 'cp_load_step': None,\n",
       " 'cp_load_var': ['weights/w:0'],\n",
       " 'cp_load_ver': '0.0',\n",
       " 'cp_save_dir': '/home/dpaiton/Work/Projects/mlp_lca_recon_mnist/analysis/0.0//checkpoints/',\n",
       " 'data_dir': '/home/dpaiton/Work/Datasets//MNIST/',\n",
       " 'data_shape': [784],\n",
       " 'data_type': 'mnist',\n",
       " 'device': '/gpu:0',\n",
       " 'disp_dir': '/home/dpaiton/Work/Projects/mlp_lca_recon_mnist/analysis/0.0//vis/',\n",
       " 'dropout': [1.0, 1.0, 0.4, 1.0],\n",
       " 'dt': 0.001,\n",
       " 'eps': 1e-12,\n",
       " 'extract_patches': False,\n",
       " 'full_data_shape': [28, 28, 1],\n",
       " 'gen_plot_int': 10000,\n",
       " 'layer_types': ['conv', 'conv', 'fc', 'fc'],\n",
       " 'log_dir': '/home/dpaiton/Work/Projects/mlp_lca_recon_mnist/analysis/0.0//logfiles/',\n",
       " 'log_int': 100,\n",
       " 'log_to_file': True,\n",
       " 'lpf_cutoff': 0.7,\n",
       " 'lpf_data': False,\n",
       " 'max_cp_to_keep': None,\n",
       " 'max_pool': [True, True, False, False],\n",
       " 'max_pool_ksize': [[1, 2, 2, 1], [1, 2, 2, 1], None, None],\n",
       " 'max_pool_strides': [[1, 2, 2, 1], [1, 2, 2, 1], None, None],\n",
       " 'model_name': 'mlp_lca_recon_mnist',\n",
       " 'model_out_dir': '/home/dpaiton/Work/Projects/mlp_lca_recon_mnist/analysis/0.0/',\n",
       " 'model_type': 'mlp_lca',\n",
       " 'norm_data': False,\n",
       " 'norm_weights': True,\n",
       " 'num_classes': 10,\n",
       " 'num_images': 150,\n",
       " 'num_neurons': 768,\n",
       " 'num_patches': 1000000.0,\n",
       " 'num_steps': 50,\n",
       " 'optimizer': 'adam',\n",
       " 'out_dir': '/home/dpaiton/Work/Projects/',\n",
       " 'output_channels': [32, 64, 1024, 10],\n",
       " 'overlapping_patches': True,\n",
       " 'patch_edge_size': 16,\n",
       " 'patch_size_x': [5, 5, None, None],\n",
       " 'patch_size_y': [5, 5, None, None],\n",
       " 'patch_variance_threshold': 0.0,\n",
       " 'rand_seed': 123456789,\n",
       " 'randomize_patches': True,\n",
       " 'rectify_a': True,\n",
       " 'rescale_data': True,\n",
       " 'save_dir': '/home/dpaiton/Work/Projects/mlp_lca_recon_mnist/analysis/0.0//savefiles/',\n",
       " 'save_plots': True,\n",
       " 'schedule': [{'decay_rate': [0.5, 0.5, 0.5, 0.5, 0.5, 0.5, 0.5, 0.5],\n",
       "   'decay_steps': [20000, 20000, 20000, 20000, 20000, 20000, 20000, 20000],\n",
       "   'num_batches': 40000,\n",
       "   'sparse_mult': 0.19,\n",
       "   'staircase': [True, True, True, True, True, True, True, True],\n",
       "   'train_lca': False,\n",
       "   'weight_lr': [0.0001,\n",
       "    0.0001,\n",
       "    0.0001,\n",
       "    0.0001,\n",
       "    0.0001,\n",
       "    0.0001,\n",
       "    0.0001,\n",
       "    0.0001],\n",
       "   'weights': ['layer0/conv_w_0:0',\n",
       "    'layer0/conv_b_0:0',\n",
       "    'layer1/conv_w_1:0',\n",
       "    'layer1/conv_b_1:0',\n",
       "    'layer2/fc_w_2:0',\n",
       "    'layer2/fc_b_2:0',\n",
       "    'layer3/fc_w_3:0',\n",
       "    'layer3/fc_b_3:0']}],\n",
       " 'standardize_data': False,\n",
       " 'tau': 0.03,\n",
       " 'thresh_type': 'soft',\n",
       " 'train_on_recon': True,\n",
       " 'val_on_cp': True,\n",
       " 'vectorize_data': True,\n",
       " 'version': '0.0',\n",
       " 'whiten_data': False,\n",
       " 'whiten_method': 'FT'}"
      ]
     },
     "execution_count": 19,
     "metadata": {},
     "output_type": "execute_result"
    }
   ],
   "source": [
    "analyzer.model_params.__dict__"
   ]
  },
  {
   "cell_type": "code",
   "execution_count": 6,
   "metadata": {},
   "outputs": [
    {
     "name": "stdout",
     "output_type": "stream",
     "text": [
      "DATA MIN -39.181564 DATA MAX 42.101353\n"
     ]
    }
   ],
   "source": [
    "# load data\n",
    "data = ds.get_data(analyzer.model_params)\n",
    "data = analyzer.model.preprocess_dataset(data, analyzer.model_params)\n",
    "data = analyzer.model.reshape_dataset(data, analyzer.model_params)\n",
    "data_min = data[\"test\"].images.min()\n",
    "data_max = data[\"test\"].images.max()\n",
    "print('DATA MIN', data_min, 'DATA MAX', data_max)"
   ]
  },
  {
   "cell_type": "code",
   "execution_count": null,
   "metadata": {},
   "outputs": [],
   "source": [
    "print(type(analyzer.adversarial_input_image)) # input image used\n",
    "print(type(analyzer.adversarial_target_class)) # target class used (0 through 9)\n",
    "print(type(analyzer.adversarial_images)) # stim images used each step\n",
    "print(type(analyzer.adversarial_outputs)) # adv confidence\n",
    "print(type(analyzer.analysis_params.adversarial_step_size))\n",
    "print(type(analyzer.analysis_params.adversarial_num_steps))\n",
    "print(type(analyzer.analysis_params.adversarial_input_id))\n",
    "print(type(analyzer.adversarial_input_adv_mses)) # MSEs for adv stims to input image\n",
    "print(type(analyzer.adversarial_target_output_losses))"
   ]
  },
  {
   "cell_type": "code",
   "execution_count": 7,
   "metadata": {},
   "outputs": [
    {
     "data": {
      "text/plain": [
       "Text(0.5,1,'target')"
      ]
     },
     "execution_count": 7,
     "metadata": {},
     "output_type": "execute_result"
    },
    {
     "data": {
      "image/png": "[encoded data removed]",
      "text/plain": [
       "<Figure size 432x288 with 2 Axes>"
      ]
     },
     "metadata": {
      "needs_background": "light"
     },
     "output_type": "display_data"
    }
   ],
   "source": [
    "input_id = 1\n",
    "target_id = 5\n",
    "input_image = vh_data[input_id,...][None,...].astype(np.float32)\n",
    "target_image = vh_data[target_id,...][None,...].astype(np.float32)\n",
    "fig, axes = plt.subplots(1,2)\n",
    "axes[0].imshow(np.squeeze(input_image).reshape(int(np.sqrt(analyzer.model_params.num_pixels)), int(np.sqrt(analyzer.model_params.num_pixels))), cmap=\"Greys_r\")\n",
    "axes[0].set_title(\"input\")\n",
    "axes[1].imshow(np.squeeze(target_image).reshape(int(np.sqrt(analyzer.model_params.num_pixels)), int(np.sqrt(analyzer.model_params.num_pixels))), cmap=\"Greys_r\")\n",
    "axes[1].set_title(\"target\")\n",
    "# plt.show()\n",
    "# fig.savefig(analyzer.analysis_out_dir+\"/vis/adversarial_input_target.png\")"
   ]
  },
  {
   "cell_type": "code",
   "execution_count": 9,
   "metadata": {},
   "outputs": [],
   "source": [
    "# NOTE: running this cell multiple times will cause it to create multiple copies of all of the graph variables.\n",
    "# if changes are made here, just restart the notebook and run from scratch\n",
    "\n",
    "shape = input_image.shape\n",
    "learning_rate = 1e-3\n",
    "with tf.device(analyzer.model.device): \n",
    "    with analyzer.model.graph.as_default(): \n",
    "        with tf.name_scope(\"carlini_vars\") as scope:\n",
    "            const = tf.placeholder(tf.float32, (), name='const_ph')\n",
    "            modifier = tf.Variable(tf.random_normal(shape, mean=0.0, stddev=0.1), dtype=tf.float32, name='modifier')\n",
    "            \n",
    "            input_ph = tf.placeholder(tf.float32, shape, name='input_ph')\n",
    "            target_ph = tf.placeholder(tf.float32, shape, name='target_ph')\n",
    "            perturbed_input = tf.clip_by_value(input_ph + modifier, data_min, data_max)\n",
    "\n",
    "            input_recon = analyzer.model.forward_pass(perturbed_input)\n",
    "            target_recon = analyzer.model.forward_pass(target_ph)\n",
    "        \n",
    "            # MAKE UNPERTURBED LATENT STATE == PERTURBED LATENT STATE\n",
    "#             target_latent = analyzer.model.compute_latent(input_ph)\n",
    "#             input_latent = analyzer.model.compute_latent(perturbed_input)\n",
    "\n",
    "            # losses\n",
    "            l2_dist =  tf.reduce_sum(tf.square(input_ph - perturbed_input), [1]) # PERTURB LOSS\n",
    "            loss1 = tf.reduce_sum(tf.square(target_recon - input_recon), [1]) # RECON LOSS\n",
    "#             loss1 = tf.reduce_sum(tf.square(input_latent - target_latent), [1]) # LATENT LOSS\n",
    "\n",
    "            loss = const*loss1 + l2_dist\n",
    "            optimizer = tf.train.AdamOptimizer(learning_rate) \n",
    "            train = optimizer.minimize(loss, var_list=[modifier]) \n"
   ]
  },
  {
   "cell_type": "code",
   "execution_count": 10,
   "metadata": {},
   "outputs": [
    {
     "name": "stdout",
     "output_type": "stream",
     "text": [
      "[<tf.Variable 'carlini_vars/modifier:0' shape=(1, 256) dtype=float32_ref>, <tf.Variable 'carlini_vars/beta1_power:0' shape=() dtype=float32_ref>, <tf.Variable 'carlini_vars/beta2_power:0' shape=() dtype=float32_ref>, <tf.Variable 'carlini_vars/modifier/Adam:0' shape=(1, 256) dtype=float32_ref>, <tf.Variable 'carlini_vars/modifier/Adam_1:0' shape=(1, 256) dtype=float32_ref>]\n"
     ]
    }
   ],
   "source": [
    "with analyzer.model.graph.as_default(): \n",
    "    var_list = tf.get_collection(tf.GraphKeys.GLOBAL_VARIABLES, scope='carlini_vars')\n",
    "    print(var_list)"
   ]
  },
  {
   "cell_type": "code",
   "execution_count": 18,
   "metadata": {},
   "outputs": [
    {
     "name": "stdout",
     "output_type": "stream",
     "text": [
      "INFO:tensorflow:Restoring parameters from /home/jazzie/results/new_pretrained/sigmoid_autoencoder_reboot/checkpoints/sigmoid_autoencoder_reboot_v0.0_weights-700000\n",
      "FINAL PERTURB SIZE 2320.52\n",
      "FINAL AE LOSS 142.89851\n"
     ]
    },
    {
     "data": {
      "image/png": "[encoded data removed]",
      "text/plain": [
       "<Figure size 1008x432 with 7 Axes>"
      ]
     },
     "metadata": {
      "needs_background": "light"
     },
     "output_type": "display_data"
    }
   ],
   "source": [
    "const_val = 5.0 # larger const --> put more weight on recon loss\n",
    "num_steps = 10000\n",
    "losses = []\n",
    "config = tf.ConfigProto()\n",
    "config.gpu_options.allow_growth = True\n",
    "\n",
    "mse = lambda x,y: np.mean(np.square(x - y))\n",
    "losses = []\n",
    "adversarial_images = []\n",
    "recons = []\n",
    "input_recon_mses = []\n",
    "input_adv_mses = []\n",
    "target_recon_mses = []\n",
    "target_adv_mses = []\n",
    "adv_recon_mses = []\n",
    "input_target_mse = mse(input_image, target_image)\n",
    "ae_loss = []\n",
    "perturb_loss = []\n",
    "total_loss = []\n",
    "\n",
    "with analyzer.model.graph.as_default(): \n",
    "    vars_to_init = tf.get_collection(tf.GraphKeys.GLOBAL_VARIABLES, scope='carlini_vars')\n",
    "\n",
    "with tf.Session(config=config, graph=analyzer.model.graph) as sess:\n",
    "    feed_dict = analyzer.model.get_feed_dict(input_image)\n",
    "    sess.run(analyzer.model.init_op, feed_dict)\n",
    "    sess.run(tf.initialize_variables(vars_to_init))\n",
    "    analyzer.model.load_weights(sess, analyzer.cp_loc)\n",
    "    orig = tf.constant(input_image, dtype=tf.float32, name=\"original_image\")\n",
    "    target = tf.constant(target_image, dtype=tf.float32, name=\"target_image\")\n",
    "    \n",
    "    new_feed_dict = analyzer.model.get_feed_dict(input_image)\n",
    "    new_feed_dict[input_ph] = input_image\n",
    "    new_feed_dict[target_ph] = target_image\n",
    "    new_feed_dict[const] = const_val\n",
    "\n",
    "    orig_recon = sess.run(input_recon, feed_dict=new_feed_dict)\n",
    "    \n",
    "    for step in range(num_steps):\n",
    "        _, ls1, ls2, full_l, new_img, perturb, recon, t_recon = sess.run([train, loss1, l2_dist, loss, perturbed_input, modifier, input_recon, target_recon], new_feed_dict)\n",
    "        ae_loss.append(ls1)\n",
    "        perturb_loss.append(ls2)\n",
    "        total_loss.append(full_l)\n",
    "        input_recon_mses.append(mse(input_image, recon))\n",
    "        input_adv_mses.append(mse(input_image, new_img))\n",
    "        target_recon_mses.append(mse(target_image, recon))\n",
    "        target_adv_mses.append(mse(target_image, new_img))\n",
    "        adv_recon_mses.append(mse(new_img, recon))\n",
    "        recons.append(recon)\n",
    "\n",
    "print('FINAL PERTURB SIZE', np.sum(np.square(perturb)))\n",
    "print('FINAL AE LOSS', ls1[0])\n",
    "fig, axes = plt.subplots(1,7, figsize=(14, 6))\n",
    "axes[0].imshow(input_image.reshape(int(np.sqrt(analyzer.model_params.num_pixels)),int(np.sqrt(analyzer.model_params.num_pixels))), cmap=\"Greys\") # Greys_r\n",
    "axes[0].set_title(\"orig\")\n",
    "axes[1].imshow(orig_recon.reshape(int(np.sqrt(analyzer.model_params.num_pixels)),int(np.sqrt(analyzer.model_params.num_pixels))), cmap=\"Greys\") # Greys_r\n",
    "axes[1].set_title(\"orig recon\")\n",
    "axes[2].imshow(new_img.reshape(int(np.sqrt(analyzer.model_params.num_pixels)),int(np.sqrt(analyzer.model_params.num_pixels))), cmap=\"Greys\")\n",
    "axes[2].set_title(\"attack\")\n",
    "axes[3].imshow(recon.reshape(int(np.sqrt(analyzer.model_params.num_pixels)),int(np.sqrt(analyzer.model_params.num_pixels))), cmap=\"Greys\")\n",
    "axes[3].set_title(\"attack recon\")\n",
    "axes[4].imshow(perturb.reshape(int(np.sqrt(analyzer.model_params.num_pixels)),int(np.sqrt(analyzer.model_params.num_pixels))), cmap=\"Greys\")\n",
    "axes[4].set_title(\"perturb\")\n",
    "axes[5].imshow(target_image.reshape(int(np.sqrt(analyzer.model_params.num_pixels)),int(np.sqrt(analyzer.model_params.num_pixels))), cmap=\"Greys\")\n",
    "axes[5].set_title(\"target\")\n",
    "axes[6].imshow(t_recon.reshape(int(np.sqrt(analyzer.model_params.num_pixels)),int(np.sqrt(analyzer.model_params.num_pixels))), cmap=\"Greys\")\n",
    "axes[6].set_title(\"target recon\")\n",
    "\n",
    "plt.show()"
   ]
  },
  {
   "cell_type": "code",
   "execution_count": 19,
   "metadata": {},
   "outputs": [
    {
     "data": {
      "text/plain": [
       "<matplotlib.legend.Legend at 0x7fa91c378be0>"
      ]
     },
     "execution_count": 19,
     "metadata": {},
     "output_type": "execute_result"
    },
    {
     "data": {
      "image/png": "[encoded data removed]",
      "text/plain": [
       "<Figure size 432x288 with 1 Axes>"
      ]
     },
     "metadata": {
      "needs_background": "light"
     },
     "output_type": "display_data"
    }
   ],
   "source": [
    "plt.figure()\n",
    "plt.plot(np.arange(num_steps), input_adv_mses, label='input to perturbed', color='r')\n",
    "plt.plot(np.arange(num_steps), target_adv_mses, label='target to perturbed', color='b')\n",
    "plt.plot(np.arange(num_steps), target_recon_mses, label='target to recon', color='g')\n",
    "plt.plot(np.arange(num_steps), adv_recon_mses, label='perturbed to recon', color='k')\n",
    "plt.legend()\n",
    "# input_recon_mses"
   ]
  },
  {
   "cell_type": "code",
   "execution_count": 13,
   "metadata": {},
   "outputs": [
    {
     "data": {
      "text/plain": [
       "<matplotlib.legend.Legend at 0x7fa9243337b8>"
      ]
     },
     "execution_count": 13,
     "metadata": {},
     "output_type": "execute_result"
    },
    {
     "data": {
      "image/png": "[encoded data removed]",
      "text/plain": [
       "<Figure size 432x288 with 1 Axes>"
      ]
     },
     "metadata": {
      "needs_background": "light"
     },
     "output_type": "display_data"
    }
   ],
   "source": [
    "plt.figure()\n",
    "plt.plot(np.arange(num_steps), ae_loss, label='ae loss', color='r')\n",
    "plt.plot(np.arange(num_steps), perturb_loss, label='perturb loss', color='b')\n",
    "plt.plot(np.arange(num_steps), total_loss, label='total loss', color='k')\n",
    "plt.legend()"
   ]
  },
  {
   "cell_type": "code",
   "execution_count": 14,
   "metadata": {},
   "outputs": [],
   "source": [
    "#     # DEBUG\n",
    "#     ae_inp_recon, ae_targ_recon = sess.run([analyzer.model.forward_pass(input_ph), analyzer.model.forward_pass(target_ph)], feed_dict=new_feed_dict)\n",
    "#     a_in_val = sess.run(analyzer.model.a, feed_dict=new_feed_dict)\n",
    "#     inp_recon_loss = sess.run(analyzer.model.compute_recon_loss(a_in_val), feed_dict=new_feed_dict)\n",
    "    \n",
    "# fig, axes = plt.subplots(1,4, figsize=(15, 6))\n",
    "# axes[0].imshow(input_image.reshape(int(np.sqrt(analyzer.model_params.num_pixels)),int(np.sqrt(analyzer.model_params.num_pixels))), cmap=\"Greys_r\")\n",
    "# axes[0].set_title(\"input image\")\n",
    "# axes[1].imshow(ae_inp_recon.reshape(int(np.sqrt(analyzer.model_params.num_pixels)),int(np.sqrt(analyzer.model_params.num_pixels))), cmap=\"Greys_r\")\n",
    "# axes[1].set_title(\"input recon\")\n",
    "# axes[2].imshow(target_image.reshape(int(np.sqrt(analyzer.model_params.num_pixels)),int(np.sqrt(analyzer.model_params.num_pixels))), cmap=\"Greys_r\")\n",
    "# axes[2].set_title(\"target image\")\n",
    "# axes[3].imshow(ae_targ_recon.reshape(int(np.sqrt(analyzer.model_params.num_pixels)),int(np.sqrt(analyzer.model_params.num_pixels))), cmap=\"Greys_r\")\n",
    "# axes[3].set_title(\"target recon\")\n",
    "\n",
    "# # tf.reduce_mean(0.5 * tf.reduce_sum(tf.square(tf.subtract(self.compute_recon_from_encoding(a_in), self.x)), axis=reduc_dim), name=\"recon_loss\")\n",
    "# print('RECON LOSS', 0.5 * np.sum((input_image - ae_inp_recon)**2))\n",
    "# print('RECON LOSS', 0.5 * np.sum((target_image - ae_targ_recon)**2))\n",
    "# print('ae fxn recon loss', inp_recon_loss)"
   ]
  },
  {
   "cell_type": "code",
   "execution_count": 15,
   "metadata": {},
   "outputs": [
    {
     "name": "stdout",
     "output_type": "stream",
     "text": [
      "-4.7599416 5.1728616\n",
      "-7.6257114 8.39351\n",
      "-4.387627 6.0824814\n",
      "-5.9959073 5.0870733\n",
      "\n",
      "[298.78107]\n"
     ]
    }
   ],
   "source": [
    "print(perturb.min(), perturb.max())\n",
    "print(input_image.min(), input_image.max())\n",
    "print(new_img.min(), new_img.max())\n",
    "print(target_image.min(), target_image.max())\n",
    "\n",
    "print()\n",
    "print(ae_loss[-1])"
   ]
  }
 ],
 "metadata": {
  "kernelspec": {
   "display_name": "Python 3",
   "language": "python",
   "name": "python3"
  },
  "language_info": {
   "codemirror_mode": {
    "name": "ipython",
    "version": 3
   },
   "file_extension": ".py",
   "mimetype": "text/x-python",
   "name": "python",
   "nbconvert_exporter": "python",
   "pygments_lexer": "ipython3",
   "version": "3.6.6"
  }
 },
 "nbformat": 4,
 "nbformat_minor": 1
}
